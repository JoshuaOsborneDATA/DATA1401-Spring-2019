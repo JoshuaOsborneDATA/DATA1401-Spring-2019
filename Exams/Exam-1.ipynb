{
 "cells": [
  {
   "cell_type": "code",
   "execution_count": 1,
   "metadata": {},
   "outputs": [],
   "source": [
    "############# Problem 2 part a ###########################\n",
    "def constant(n,m,c):\n",
    "    return [[c] * m for i in range(n)]\n",
    "        "
   ]
  },
  {
   "cell_type": "code",
   "execution_count": 2,
   "metadata": {},
   "outputs": [
    {
     "name": "stdout",
     "output_type": "stream",
     "text": [
      "input the number of rows wanted: 2\n",
      "input the number of columns wanted: 6\n",
      "input the value wanted inside your nxm matrix: 9\n",
      "[[9.0, 9.0, 9.0, 9.0, 9.0, 9.0], [9.0, 9.0, 9.0, 9.0, 9.0, 9.0]]\n"
     ]
    }
   ],
   "source": [
    "n= input(\"input the number of rows wanted: \")\n",
    "m= input (\"input the number of columns wanted: \")\n",
    "c= float(raw_input (\"input the value wanted inside your nxm matrix: \"))\n",
    "My_Matrix=list(constant(n,m,c))\n",
    "print My_Matrix"
   ]
  },
  {
   "cell_type": "code",
   "execution_count": 3,
   "metadata": {},
   "outputs": [],
   "source": [
    "############# Problem 2 part b ###########################\n",
    "def zeros(n,m=n):\n",
    "    return constant(n,m,float(0))\n",
    "def ones(n,m=n):\n",
    "    return constant(n,m,float(1))"
   ]
  },
  {
   "cell_type": "code",
   "execution_count": 4,
   "metadata": {},
   "outputs": [
    {
     "name": "stdout",
     "output_type": "stream",
     "text": [
      "[[0.0, 0.0, 0.0, 0.0, 0.0, 0.0], [0.0, 0.0, 0.0, 0.0, 0.0, 0.0]]\n",
      "[[1.0, 1.0, 1.0, 1.0, 1.0, 1.0], [1.0, 1.0, 1.0, 1.0, 1.0, 1.0]]\n"
     ]
    }
   ],
   "source": [
    "Zero_matrix=zeros(n,m)\n",
    "Ones_matrix=ones(n,m)\n",
    "print Zero_matrix\n",
    "print Ones_matrix"
   ]
  },
  {
   "cell_type": "code",
   "execution_count": 5,
   "metadata": {},
   "outputs": [],
   "source": [
    "############# Problem 2 part c ###########################\n",
    "def eye(n):\n",
    "    Identity=[[0.0] * n for i in range(n)]\n",
    "    for k in range(0,n):\n",
    "        for j in range(0,n):\n",
    "            if k==j:\n",
    "                Identity[k][k]=1.0\n",
    "    return Identity"
   ]
  },
  {
   "cell_type": "code",
   "execution_count": 6,
   "metadata": {},
   "outputs": [
    {
     "name": "stdout",
     "output_type": "stream",
     "text": [
      "[[1.0, 0.0], [0.0, 1.0]]\n"
     ]
    }
   ],
   "source": [
    "Identity_matrix=eye(n)\n",
    "print Identity_matrix"
   ]
  },
  {
   "cell_type": "code",
   "execution_count": 7,
   "metadata": {},
   "outputs": [],
   "source": [
    "############# Problem 3 part a ###########################\n",
    "def Shape(M):\n",
    "    n=0\n",
    "    m=0\n",
    "    FindingRow=True\n",
    "    FindingColumn=True\n",
    "    ######## iterating n and m till i find number of rows and colums. I know it will go out of index so i add a try and except###\n",
    "    try:\n",
    "        while FindingRow==True:\n",
    "            try:\n",
    "                while FindingColumn==True:\n",
    "                    M[0][m]\n",
    "                    m+=1\n",
    "            except IndexError:\n",
    "                FindingColumn=False\n",
    "            M[n][0]\n",
    "            n+=1\n",
    "    except IndexError:\n",
    "        FindingRow=False\n",
    "    size=(n,)+(m,)  \n",
    "    ######### Now testing that the matrix was made correctly ########\n",
    "    for i in range(0,n):\n",
    "        if len(M[i]) !=m:\n",
    "            return False\n",
    "    return size"
   ]
  },
  {
   "cell_type": "code",
   "execution_count": 8,
   "metadata": {},
   "outputs": [
    {
     "name": "stdout",
     "output_type": "stream",
     "text": [
      "shape of My_Matrix from Q2 part a is :  2 x 6\n",
      "False\n"
     ]
    }
   ],
   "source": [
    "size=Shape(My_Matrix)\n",
    "print \"shape of My_Matrix from Q2 part a is : \",size[0],\"x\",size[1]\n",
    "k=[[0,1,2],[0,1]]\n",
    "print Shape(k)\n"
   ]
  },
  {
   "cell_type": "code",
   "execution_count": 9,
   "metadata": {},
   "outputs": [],
   "source": [
    "############# Problem 3 part b ###########################\n",
    "def row(M,n):\n",
    "    print \"the numbers in this row are \"\n",
    "    return M[n]\n",
    "def column(M,n):\n",
    "    Size=Shape(M)\n",
    "    hold=[]\n",
    "    print \" the numbers in this column are \"\n",
    "    for i in range(Size[0]):\n",
    "        hold.append(M[i][n])\n",
    "    return  hold"
   ]
  },
  {
   "cell_type": "code",
   "execution_count": 10,
   "metadata": {},
   "outputs": [
    {
     "name": "stdout",
     "output_type": "stream",
     "text": [
      "the numbers in this row are \n",
      "[9.0, 9.0, 9.0, 9.0, 9.0, 9.0]\n",
      "the numbers in this row are \n",
      "[1, 2, 3]\n",
      " the numbers in this column are \n",
      "[1, 4]\n",
      "the numbers in this row are \n",
      "[7, 8, 9]\n",
      " the numbers in this column are \n",
      "[7, 10, 13]\n"
     ]
    }
   ],
   "source": [
    "print row(My_Matrix,0)\n",
    "k=[[1,2,3],[4,5,6]]\n",
    "b=[[7,8,9],[10,11,12],[13,14,15]]\n",
    "print row(k,0)\n",
    "print column(k,0)\n",
    "print row(b,0)\n",
    "print column(b,0)"
   ]
  },
  {
   "cell_type": "code",
   "execution_count": 11,
   "metadata": {},
   "outputs": [],
   "source": [
    "############# Problem 3 part c ###########################\n",
    "def block(M,n_0,n_1,m_0,m_1):\n",
    "    ####### n is columns this time *confusing* and m is rows\n",
    "    hold=[[0] * (n_1-n_0+1) for z in range(m_1-m_0+1)]\n",
    "    x=0\n",
    "    y=0\n",
    "    try:\n",
    "        for i in range(m_0,m_1+1):\n",
    "            for j in range(n_0,n_1+1):\n",
    "                hold[x][y]=M[i][j]\n",
    "                y+=1\n",
    "            y=0\n",
    "            x+=1\n",
    "    except IndexError:\n",
    "        print \"Failed\"\n",
    "    return hold"
   ]
  },
  {
   "cell_type": "code",
   "execution_count": 12,
   "metadata": {},
   "outputs": [
    {
     "name": "stdout",
     "output_type": "stream",
     "text": [
      "[[1, 2], [4, 5]]\n",
      "[[2, 3], [5, 6]]\n",
      "[[2, 3], [5, 6], [8, 9]]\n"
     ]
    }
   ],
   "source": [
    "k=[[1,2,3],[4,5,6],[7,8,9]]\n",
    "print block(k,0,1,0,1)\n",
    "print block(k,1,2,0,1)\n",
    "print block(k,1,2,0,2)"
   ]
  },
  {
   "cell_type": "code",
   "execution_count": 13,
   "metadata": {},
   "outputs": [],
   "source": [
    "############# Problem 4 part a ###########################\n",
    "def transpose(M):\n",
    "    Size=Shape(M)\n",
    "    if Size==False:\n",
    "        return \"cannot perform operation\"\n",
    "    hold=[[0] * Size[0] for i in range(Size[1])]\n",
    "    for i in range(Size[0]):\n",
    "        for j in range(Size[1]):\n",
    "            hold[j][i]=M[i][j]\n",
    "    inversed_M=list(hold)\n",
    "    return inversed_M"
   ]
  },
  {
   "cell_type": "code",
   "execution_count": 14,
   "metadata": {},
   "outputs": [
    {
     "name": "stdout",
     "output_type": "stream",
     "text": [
      "[[1, 4], [2, 5], [3, 6]]\n",
      "[[1, 2, 3, 4], [1, 2, 3, 4], [1, 2, 3, 4], [1, 2, 3, 4]]\n",
      "cannot perform operation\n"
     ]
    }
   ],
   "source": [
    "Test_matrix=[[1,2,3],[4,5,6]]\n",
    "Test2=[[1,1,1,1],[2,2,2,2],[3,3,3,3],[4,4,4,4]]\n",
    "test3=[[1,2],[1,3,4]]\n",
    "Inverse_m=transpose(Test_matrix)\n",
    "print Inverse_m\n",
    "Inverse_m=transpose(Test2)\n",
    "print Inverse_m\n",
    "Inverse_m=transpose(test3)\n",
    "print Inverse_m"
   ]
  },
  {
   "cell_type": "code",
   "execution_count": 15,
   "metadata": {},
   "outputs": [],
   "source": [
    "############# Problem 4 part b ###########################\n",
    "def scalarmul(M,c):\n",
    "    Size=Shape(M)\n",
    "    if Size==False:\n",
    "        return \"cannot perform operation\"\n",
    "    for i in range(Size[0]):\n",
    "        for j in range(Size[1]):\n",
    "            M[i][j]=M[i][j]*c\n",
    "    return M"
   ]
  },
  {
   "cell_type": "code",
   "execution_count": 16,
   "metadata": {},
   "outputs": [
    {
     "name": "stdout",
     "output_type": "stream",
     "text": [
      "[[2, 4, 6], [8, 10, 12]]\n",
      "[[20, 35, 45], [40, 45, 15], [50, 25, 20]]\n"
     ]
    }
   ],
   "source": [
    "Test_matrix=[[1,2,3],[4,5,6]]\n",
    "test2=[[4,7,9],[8,9,3],[10,5,4]]\n",
    "print scalarmul(Test_matrix,2)\n",
    "print scalarmul(test2,5)"
   ]
  },
  {
   "cell_type": "code",
   "execution_count": 17,
   "metadata": {},
   "outputs": [],
   "source": [
    "############# Problem 4 part c ###########################\n",
    "def add(M,N):\n",
    "    Size_M=Shape(M)\n",
    "    Size_N=Shape(N)\n",
    "    if Size_N==False or Size_M==False:\n",
    "        return \"cannot perform operation\"\n",
    "    P=list(M)\n",
    "    if Size_M[0]==Size_N[0] and Size_M[1]==Size_N[1]:\n",
    "        for i in range(Size_M[0]):\n",
    "            for j in range(Size_M[1]):\n",
    "                P[i][j]=M[i][j]+N[i][j]\n",
    "    else:\n",
    "        return \"Cannot add. Not the same dimensions\"\n",
    "    return P\n",
    "            "
   ]
  },
  {
   "cell_type": "code",
   "execution_count": 18,
   "metadata": {},
   "outputs": [
    {
     "name": "stdout",
     "output_type": "stream",
     "text": [
      "[[7, 7, 7], [7, 7, 7]]\n",
      "Cannot add. Not the same dimensions\n"
     ]
    }
   ],
   "source": [
    "Test_matrix=[[1,2,3],[4,5,6]]\n",
    "Test_matrix2=[[6,5,4],[3,2,1]]\n",
    "Test_matrix3=[[6,5],[3,2]]\n",
    "print add(Test_matrix,Test_matrix2)\n",
    "print add(Test_matrix,Test_matrix3)"
   ]
  },
  {
   "cell_type": "code",
   "execution_count": 19,
   "metadata": {},
   "outputs": [],
   "source": [
    "############# Problem 4 part d ###########################\n",
    "def sub(M,N):\n",
    "    N=scalarmul(N,-1)\n",
    "    P=add(M,N)\n",
    "    return P"
   ]
  },
  {
   "cell_type": "code",
   "execution_count": 20,
   "metadata": {},
   "outputs": [
    {
     "name": "stdout",
     "output_type": "stream",
     "text": [
      "[[-5, -3, -1], [1, 3, 5]]\n",
      "Cannot add. Not the same dimensions\n"
     ]
    }
   ],
   "source": [
    "Test_matrix=[[1,2,3],[4,5,6]]\n",
    "Test_matrix2=[[6,5,4],[3,2,1]]\n",
    "Test_matrix3=[[1,2,3],[4,5,6],[7,8,9]]\n",
    "print sub(Test_matrix,Test_matrix2)\n",
    "print sub(Test_matrix,Test_matrix3)"
   ]
  },
  {
   "cell_type": "code",
   "execution_count": 21,
   "metadata": {},
   "outputs": [],
   "source": [
    "############# Problem 4 part e ###########################\n",
    "def elementmult(M,N):\n",
    "    Size_M=Shape(M)\n",
    "    Size_N=Shape(N)\n",
    "    P=list(M)\n",
    "    if Size_M[0]==Size_N[0] and Size_M[1]==Size_N[1]:\n",
    "        for i in range(Size_M[0]):\n",
    "            for j in range(Size_M[1]):\n",
    "                P[i][j]=M[i][j]*N[i][j]\n",
    "    else:\n",
    "        return \"Cannot do element-wise product\"\n",
    "    return P\n",
    "            "
   ]
  },
  {
   "cell_type": "code",
   "execution_count": 22,
   "metadata": {},
   "outputs": [
    {
     "name": "stdout",
     "output_type": "stream",
     "text": [
      "[[6, 10, 12], [12, 10, 6]]\n",
      "Cannot do element-wise product\n"
     ]
    }
   ],
   "source": [
    "Test_matrix=[[1,2,3],[4,5,6]]\n",
    "Test_matrix2=[[6,5,4],[3,2,1]]\n",
    "Test_matrix3=[[1,2,3],[4,5,6],[7,8,9]]\n",
    "print elementmult(Test_matrix,Test_matrix2)\n",
    "print elementmult(Test_matrix,Test_matrix3)"
   ]
  },
  {
   "cell_type": "code",
   "execution_count": 23,
   "metadata": {},
   "outputs": [],
   "source": [
    "############# Problem 4 part f ###########################\n",
    "def matmult(M,N):\n",
    "    Size_M=Shape(M)\n",
    "    Size_N=Shape(N)\n",
    "    P=[[0] * Size_N[1] for i in range(Size_M[0])]\n",
    "    x=0\n",
    "    Hold_Sum=0\n",
    "    if Size_M[1]==Size_N[0]:\n",
    "        M=transpose(M)\n",
    "        for k in range(Size_M[0]):\n",
    "            for j in range(Size_N[1]):\n",
    "                for i in range(Size_N[0]):\n",
    "                    Hold_num=M[i][k]*N[i][j]\n",
    "                    Hold_Sum=Hold_Sum+Hold_num \n",
    "                P[k][j]=Hold_Sum\n",
    "                Hold_Sum=0\n",
    "    else:\n",
    "        return \"Cannot be multiplied\"\n",
    "    return P"
   ]
  },
  {
   "cell_type": "code",
   "execution_count": 25,
   "metadata": {},
   "outputs": [
    {
     "name": "stdout",
     "output_type": "stream",
     "text": [
      "[[36.0, 29.0, 22.0], [30.0, 23.0, 16.0]]\n",
      "[[31.0, 12.0], [27.0, 10.0]]\n"
     ]
    }
   ],
   "source": [
    "Test_matrix=[[5.0,2.0],[3.0,4.0]]\n",
    "Test_matrix2=[[6,5,4],[3,2,1]]\n",
    "Test_matrix3=[[5,2],[3,1]]\n",
    "print matmult(Test_matrix,Test_matrix2)\n",
    "print matmult(Test_matrix,Test_matrix3)"
   ]
  },
  {
   "cell_type": "code",
   "execution_count": 25,
   "metadata": {
    "collapsed": true
   },
   "outputs": [],
   "source": [
    "############# Problem 4 part g ###########################\n",
    "def dot(A,B):\n",
    "    Size_A=len(A)\n",
    "    Size_B=len(B)\n",
    "    Hold_Sum=0\n",
    "    if Size_A==Size_B:\n",
    "        for i in range(Size_A):\n",
    "            Hold_Sum=Hold_Sum+(A[i]*B[i])\n",
    "    else:\n",
    "        \"cannot to cross product with different number of columns\"\n",
    "    return Hold_Sum\n",
    "\n",
    "def out(A,B):\n",
    "    Size_A=len(A)\n",
    "    Size_B=len(B)\n",
    "    P=[[0] * len(A) for i in range(len(A))]\n",
    "    if Size_A==Size_B:\n",
    "        for i in range(Size_A):\n",
    "            for j in range(Size_A):\n",
    "                P[i][j]=A[i]*B[j]\n",
    "    else:\n",
    "        \"cannot to cross product with different number of columns\"\n",
    "    return P"
   ]
  },
  {
   "cell_type": "code",
   "execution_count": 26,
   "metadata": {},
   "outputs": [
    {
     "name": "stdout",
     "output_type": "stream",
     "text": [
      "60\n",
      "[[6, 16, 4], [15, 40, 10], [21, 56, 14]]\n"
     ]
    }
   ],
   "source": [
    "Vector1=[2,5,7]\n",
    "Vector2=[3,8,2]\n",
    "print dot(Vector1,Vector2)\n",
    "print out(Vector1,Vector2)"
   ]
  },
  {
   "cell_type": "code",
   "execution_count": 52,
   "metadata": {},
   "outputs": [],
   "source": [
    "############# Problem 5 part a ###########################\n",
    "import math\n",
    "def norm(M,i):\n",
    "    hold=0\n",
    "    Size=Shape(M)\n",
    "    for k in range(0,Size[0]):\n",
    "            for j in range(0,Size[1]):\n",
    "                M[k][j]=abs(M[k][j])\n",
    "    if i==-1:\n",
    "        for k in range(0,Size[0]):\n",
    "            for j in range(0,Size[1]):\n",
    "                if M[k][j]>hold:\n",
    "                    hold=M[k][j]\n",
    "        return hold\n",
    "                \n",
    "\n",
    "    else:\n",
    "        for k in range(0,Size[0]):\n",
    "            for j in range(0,Size[1]):\n",
    "                z=M[k][j]**i\n",
    "                hold=hold+z\n",
    "        hold=float(hold)**(1.0/i)\n",
    "        return hold"
   ]
  },
  {
   "cell_type": "code",
   "execution_count": 53,
   "metadata": {
    "scrolled": true
   },
   "outputs": [
    {
     "name": "stdout",
     "output_type": "stream",
     "text": [
      "do you want the infinite norm? 'Y' for yes, otherwise 'N' y\n",
      "12\n",
      "if done enter 'Y' , otherwise, enter 'N'.n\n",
      "do you want the infinite norm? 'Y' for yes, otherwise 'N' n\n",
      "what norm would you like to calculated for with Matrix A? 1\n",
      "28.0\n",
      "if done enter 'Y' , otherwise, enter 'N'.n\n",
      "do you want the infinite norm? 'Y' for yes, otherwise 'N' n\n",
      "what norm would you like to calculated for with Matrix A? 2\n",
      "14.2828568571\n",
      "if done enter 'Y' , otherwise, enter 'N'.n\n",
      "do you want the infinite norm? 'Y' for yes, otherwise 'N' n\n",
      "what norm would you like to calculated for with Matrix A? 3\n",
      "12.5401376463\n",
      "if done enter 'Y' , otherwise, enter 'N'.y\n"
     ]
    }
   ],
   "source": [
    "\n",
    "A=[[-1,12,-3],[3,4,5]]\n",
    "NotDone=True\n",
    "while NotDone==True:\n",
    "    k=raw_input(\"do you want the infinite norm? 'Y' for yes, otherwise 'N' \")\n",
    "    if k.upper()==\"Y\":\n",
    "        i=-1\n",
    "    else:\n",
    "        i=input(\"what norm would you like to calculated for with Matrix A? \")\n",
    "    Norm_value=norm(A,i)\n",
    "    print Norm_value\n",
    "    j=raw_input(\"if done enter 'Y' , otherwise, enter 'N'.\")\n",
    "    if j.upper()==\"Y\":\n",
    "        NotDone=False\n",
    "\n"
   ]
  },
  {
   "cell_type": "code",
   "execution_count": 71,
   "metadata": {
    "collapsed": true
   },
   "outputs": [],
   "source": [
    "def check_zero(M,n):\n",
    "    ##### function to check if 0 during gauss elim so there's no divide by zero error.Not enough time to implement##########\n",
    "    hold=0\n",
    "    if M[j][n+1]==0:\n",
    "        hold=hold+M[n+1][n+1]\n",
    "        return hold\n",
    "    return M\n",
    "def deter_2(M):\n",
    "    determ2=(M[0][0]*M[1][1])-(M[0][1]*M[1][0])\n",
    "    return determ2\n",
    "    \n",
    "            \n",
    "            "
   ]
  },
  {
   "cell_type": "code",
   "execution_count": 72,
   "metadata": {
    "collapsed": true
   },
   "outputs": [],
   "source": [
    "############# Problem 6 part a ###########################\n",
    "\n",
    "def inv(M):\n",
    "    n=Shape(M)\n",
    "    I=eye(n[0])\n",
    "    hold=0\n",
    "    Try=True\n",
    "    divisor=1\n",
    "    determinant=deter_2(M)\n",
    "    ###########making sure it's a square matrix#########\n",
    "    if n[0]!=n[1]:\n",
    "        return \"not invertible\"\n",
    "    #####Checking to see that all values in a column aren't zero#########\n",
    "    for j in range(0,n[1]):\n",
    "        for i in range (0,n[0]):\n",
    "            hold=hold+M[i][j]\n",
    "            if hold==0:\n",
    "                return \"not invertible\"\n",
    "        hold=0\n",
    "    if n[0]==2:\n",
    "        \n",
    "        for i in range(0,1):\n",
    "            for j in range(0,2):\n",
    "                if i==j:\n",
    "                    hold=M[i][j]\n",
    "                    M[i][j]=M[i-1][j-1]\n",
    "                    M[i-1][j-1]=hold\n",
    "        M[0][1]=-1*M[0][1]\n",
    "        M[1][0]=-1*M[1][0]       \n",
    "        M_inv=M\n",
    "        M_inv=scalarmul(M_inv,determinant)\n",
    "        return M_inv\n",
    "    \n",
    "  #######making an upper triangular matrix###########  \n",
    "    else:\n",
    "        n=Shape(M)\n",
    "    for k in range(0,n[0]):\n",
    "        for i in range(k+1,n[0]):\n",
    "            d=M[i][k]/M[k][k]\n",
    "            M[i][k]=0\n",
    "            for j in range(k+1,n[0]):\n",
    "                M[i][j]=M[i][j]-d*M[k][j]\n",
    "            \n",
    "            for z in range(0,n[0]):\n",
    "                if i !=k:\n",
    "                    I[i][z]=I[i][z]-d*I[k][z]\n",
    "                    \n",
    "    \n",
    "###### reducing the number in row n and column n to 1 ########### \n",
    "    for z in range(0,n[0]):\n",
    "        I[n[0]-1][z]=I[n[0]-1][z]/M[n[0]-1][n[0]-1]\n",
    "    M[n[0]-1][n[0]-1]=(M[n[0]-1][n[0]-1])/(M[n[0]-1][n[0]-1])\n",
    "        \n",
    "  ###### Making upper triangular matrix into identity matrix########## \n",
    "    for j in range(n[0]-1,0,-1):\n",
    "        for z in range(j,0,-1):\n",
    "            for y in range(0,n[0]):\n",
    "                I[z-1][y]=I[z-1][y]-(M[z-1][j]*I[j][y])\n",
    "        for i in range(j,0,-1):\n",
    "            M[i-1][j]=M[i-1][j]-(M[j][j]*M[i-1][j])\n",
    "            \n",
    "    M_inv=I        \n",
    "    return M_inv  "
   ]
  },
  {
   "cell_type": "code",
   "execution_count": 73,
   "metadata": {},
   "outputs": [
    {
     "name": "stdout",
     "output_type": "stream",
     "text": [
      "A_inv is the same as the inverse found at https://www.mathportal.org/linear-algebra/matrices/gauss-jordan.php \n",
      "[[7.0, -3.0], [-2.0, 1.0]]\n",
      "B_inv is the same as the inverse found at https://www.mathportal.org/linear-algebra/matrices/gauss-jordan.php \n",
      "[[-40.0, 16.0, 9.0], [13.0, -5.0, -3.0], [5.0, -2.0, -1.0]]\n",
      "D_inv is  not invertible\n",
      "could not finish get this to work above a 3x3 matrix, also doesn't work under conditions where zero is in the pivot spot\n"
     ]
    }
   ],
   "source": [
    "A=[[1.0,3.0],[2.0,7.0]]\n",
    "B=[[1.0,2.0,3.0],[2.0,5.0,3.0],[1.0,0.0,8.0]]\n",
    "C=[[1.0,1.0,1.0,-1.0],[1.0,1.0,-1.0,1.0],[1.0,-1.0,1.0,1.0],[-1.0,1.0,1.0,1.0]]\n",
    "D=[[1, 0],[2,0]]\n",
    "A_inv=inv(A)\n",
    "B_inv=inv(B)\n",
    "## C_inv=inv(C)\n",
    "D_inv=inv(D)\n",
    "print \"A_inv is the same as the inverse found at https://www.mathportal.org/linear-algebra/matrices/gauss-jordan.php \\n\",A_inv\n",
    "print \"B_inv is the same as the inverse found at https://www.mathportal.org/linear-algebra/matrices/gauss-jordan.php \\n\",B_inv\n",
    "print \"D_inv is \",D_inv\n",
    "print \"could not finish get this to work above a 3x3 matrix, also doesn't work under conditions where zero is in the pivot spot\""
   ]
  },
  {
   "cell_type": "code",
   "execution_count": null,
   "metadata": {
    "collapsed": true
   },
   "outputs": [],
   "source": []
  },
  {
   "cell_type": "code",
   "execution_count": null,
   "metadata": {
    "collapsed": true
   },
   "outputs": [],
   "source": []
  }
 ],
 "metadata": {
  "kernelspec": {
   "display_name": "Python 2",
   "language": "python",
   "name": "python2"
  },
  "language_info": {
   "codemirror_mode": {
    "name": "ipython",
    "version": 2
   },
   "file_extension": ".py",
   "mimetype": "text/x-python",
   "name": "python",
   "nbconvert_exporter": "python",
   "pygments_lexer": "ipython2",
   "version": "2.7.15"
  }
 },
 "nbformat": 4,
 "nbformat_minor": 2
}
