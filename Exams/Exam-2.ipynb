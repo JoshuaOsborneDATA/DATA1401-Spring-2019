{
 "cells": [
  {
   "cell_type": "markdown",
   "metadata": {},
   "source": [
    "# Exam 2\n",
    "\n",
    "We are going to keep working on the grade book system we have been building in class. The version of the grade book presented in lecture 17 has been copied into `gradebook.py`, so we can simply load it using:"
   ]
  },
  {
   "cell_type": "code",
   "execution_count": 1,
   "metadata": {},
   "outputs": [],
   "source": [
    "from gradebook import *"
   ]
  },
  {
   "cell_type": "markdown",
   "metadata": {},
   "source": [
    "Recall that we can build a grade book from a CSV file with the following example, which now has been wrapped up into a function."
   ]
  },
  {
   "cell_type": "code",
   "execution_count": 2,
   "metadata": {},
   "outputs": [],
   "source": [
    "import pandas as pd\n",
    "\n",
    "def load_class(filename):\n",
    "    class_data=pd.read_csv(filename)\n",
    "\n",
    "    a_grade_book=grade_book(\"Data 1401\")\n",
    "\n",
    "    for student_i in range(class_data.shape[0]):\n",
    "        a_student_0=student(\"Student\",str(student_i),student_i)\n",
    "\n",
    "        for k in class_data.keys():\n",
    "            a_student_0.add_grade(grade(k,value=class_data[k][student_i]))\n",
    "\n",
    "        a_grade_book.add_student(a_student_0)\n",
    "        \n",
    "    return a_grade_book\n",
    "\n",
    "my_grade_book=load_class(\"Data1401-Grades.csv\")\n",
    "#print my_grade_book.print_grades('l1_1')"
   ]
  },
  {
   "cell_type": "markdown",
   "metadata": {},
   "source": [
    "You may use all of the classes from this version of the grade book for the exam.\n",
    "\n",
    "## CSV Reader Revisited\n",
    "\n",
    "Recall the CSV reader we wrote in class:"
   ]
  },
  {
   "cell_type": "code",
   "execution_count": 3,
   "metadata": {},
   "outputs": [],
   "source": [
    "def csv_reader_0(filename):\n",
    "    file_obj = open(filename,\"r\")\n",
    "\n",
    "    data=list()\n",
    "\n",
    "    first = True\n",
    "    \n",
    "    for line in file_obj:\n",
    "        line=line.strip(\"\\r\\n\")\n",
    "        if first:\n",
    "            first=False\n",
    "            keys = line.split(\",\")\n",
    "            #print keys[0]\n",
    "        else:\n",
    "            values=map(float,line.split(\",\"))\n",
    "            this_line=dict()\n",
    "            \n",
    "            for k,v in zip(keys,values):\n",
    "                #print k,v\n",
    "                this_line[k]=v\n",
    "                #print this_line[k]\n",
    "\n",
    "            data.append(this_line)\n",
    "            \n",
    "    file_obj.close()\n",
    "    \n",
    "    return data\n",
    "\n",
    "# Test with: \n",
    "loaded_data=csv_reader_0(\"Data1401-Grades.csv\")\n",
    "#print loaded_data\n"
   ]
  },
  {
   "cell_type": "markdown",
   "metadata": {},
   "source": [
    "*Question 1:* Convert the load function below to work with this data structure. This should be trivial since the data structure created by `csv_reader_0` should present a similar interface to pandas' `dataframe`."
   ]
  },
  {
   "cell_type": "code",
   "execution_count": 4,
   "metadata": {},
   "outputs": [
    {
     "name": "stdout",
     "output_type": "stream",
     "text": [
      "Student 0 Student Data l1_1: 10.0\n",
      "Student 1 Student Data l1_1: 10.0\n",
      "Student 2 Student Data l1_1: 10.0\n",
      "Student 3 Student Data l1_1: 10.0\n",
      "Student 4 Student Data l1_1: 10.0\n",
      "Student 5 Student Data l1_1: 10.0\n",
      "Student 6 Student Data l1_1: 10.0\n",
      "Student 7 Student Data l1_1: 10.0\n",
      "Student 8 Student Data l1_1: 10.0\n",
      "Student 9 Student Data l1_1: 10.0\n",
      "Student 10 Student Data l1_1: 10.0\n",
      "Student 11 Student Data l1_1: 10.0\n",
      "Student 12 Student Data l1_1: 10.0\n",
      "Student 13 Student Data l1_1: 10.0\n",
      "Student 14 Student Data l1_1: 10.0\n",
      "Student 15 Student Data l1_1: 10.0\n",
      "None\n"
     ]
    }
   ],
   "source": [
    "##############################################Question 1#######################################################\n",
    "# Convert this function\n",
    "\n",
    "def load_class_0(filename):\n",
    "    class_data=csv_reader_0(filename)\n",
    "\n",
    "    a_grade_book=grade_book(\"Data 1401\")\n",
    "\n",
    "    for student_i in range(len(class_data)):\n",
    "        a_student_0=student(\"Student\",str(student_i),student_i)\n",
    "\n",
    "        for k in class_data[0].keys():\n",
    "            a_student_0.add_grade(grade(k,value=float(class_data[student_i][k])))\n",
    "\n",
    "        a_grade_book.add_student(a_student_0)\n",
    "        \n",
    "    #for k,a_student in a_grade_book.get_students().iteritems():\n",
    "        #print a_student.id_number(),a_student[\"l2_2\"]\n",
    "    \n",
    "    return a_grade_book\n",
    "\n",
    "# Test with:\n",
    "my_grade_book_0=load_class_0(\"Data1401-Grades.csv\")\n",
    "print my_grade_book_0.print_grades('l1_1')"
   ]
  },
  {
   "cell_type": "markdown",
   "metadata": {},
   "source": [
    "*Question 1:* Start with the `csv_reader` function above which presently returns the data it loads as a list of dictionaries, where each element of the list is corresponds to a row of data and the dictionaries are keyed by the column name. For example `data[5][\"l3_5\"]` corresponds to the 6th student's grade on lab 3 question 5. Convert it to instead output a list of lists (i.e. a 2-D array or matrix) and a dictionary, where each element of the \"matrix\" corresponds to a a specific grade for a specific student and the dictionary maps the name of the column to the column index. For example `data[5][column_names[\"l1_5\"]]` would correspond to the 6th student's grade on lab 3 question 5. Next, convert the `load_class` function."
   ]
  },
  {
   "cell_type": "code",
   "execution_count": 5,
   "metadata": {},
   "outputs": [],
   "source": [
    "###############################################Another Question 1#############################################\n",
    "# Convert this function\n",
    "def csv_reader_1(filename):\n",
    "    file_obj = open(filename,\"r\")\n",
    "    \n",
    "    i=0\n",
    "    \n",
    "    data=list()\n",
    "    \n",
    "    column_name=list()\n",
    "\n",
    "    first = True\n",
    "    \n",
    "    for line in file_obj:\n",
    "        line=line.strip(\"\\r\\n\")\n",
    "        if first:\n",
    "            first=False\n",
    "            keys = line.split(\",\")\n",
    "        else:\n",
    "            values=map(float,line.split(\",\"))\n",
    "            this_line=list()\n",
    "            \n",
    "            #for k,v in zip(keys,values):\n",
    "                #this_line[k]=v\n",
    "            this_line.extend(values)\n",
    "            data.append(this_line)\n",
    "            i+=1\n",
    "    #print keys\n",
    "    column_name=dict(zip(keys,range(len(keys))))\n",
    "    #print column_name\n",
    "    #data.append([column_name])\n",
    "    file_obj.close()\n",
    "    \n",
    "    #print data\n",
    "    \n",
    "    return data,column_name\n",
    "\n",
    "# Test with: \n",
    "loaded_data_1,column_name=csv_reader_1(\"Data1401-Grades.csv\")\n",
    "#print column_name\n",
    "#print loaded_data_1[15][column_name[\"e1_15\"]] ###corresponds to very last grade in Data1401-Grades.csv from last student"
   ]
  },
  {
   "cell_type": "code",
   "execution_count": null,
   "metadata": {},
   "outputs": [],
   "source": []
  },
  {
   "cell_type": "code",
   "execution_count": 6,
   "metadata": {},
   "outputs": [
    {
     "name": "stdout",
     "output_type": "stream",
     "text": [
      "Student 0 Student Data l1_1: 10.0\n",
      "Student 1 Student Data l1_1: 10.0\n",
      "Student 2 Student Data l1_1: 10.0\n",
      "Student 3 Student Data l1_1: 10.0\n",
      "Student 4 Student Data l1_1: 10.0\n",
      "Student 5 Student Data l1_1: 10.0\n",
      "Student 6 Student Data l1_1: 10.0\n",
      "Student 7 Student Data l1_1: 10.0\n",
      "Student 8 Student Data l1_1: 10.0\n",
      "Student 9 Student Data l1_1: 10.0\n",
      "Student 10 Student Data l1_1: 10.0\n",
      "Student 11 Student Data l1_1: 10.0\n",
      "Student 12 Student Data l1_1: 10.0\n",
      "Student 13 Student Data l1_1: 10.0\n",
      "Student 14 Student Data l1_1: 10.0\n",
      "Student 15 Student Data l1_1: 10.0\n",
      "None\n"
     ]
    }
   ],
   "source": [
    "# Convert this function\n",
    "\n",
    "def load_class_1(filename):\n",
    "    class_data,column_names=csv_reader_1(filename)\n",
    "    \n",
    "    a_grade_book=grade_book(\"Data 1401\")\n",
    "\n",
    "    for student_i in range(len(class_data)):\n",
    "        a_student_0=student(\"Student\",str(student_i),student_i)\n",
    "\n",
    "        for k in column_names.keys():\n",
    "            a_student_0.add_grade(grade(k,value=class_data[student_i][column_names[str(k)]]))\n",
    "\n",
    "        a_grade_book.add_student(a_student_0)\n",
    "        \n",
    "    return a_grade_book\n",
    "\n",
    "# Test with:\n",
    "my_grade_book_1=load_class_1(\"Data1401-Grades.csv\")\n",
    "print my_grade_book_1.print_grades('l1_1')"
   ]
  },
  {
   "cell_type": "markdown",
   "metadata": {},
   "source": [
    "*Question 2:* Now convert the function to output a dictionary of lists, where each element of the dictionary corresponds to a column of data and the lists contain the data in that column. For example `data[\"l3_5\"][5]` would correspond to the 6th student's grade on lab 3 question 5. Next, convert the `load_class` function.\n"
   ]
  },
  {
   "cell_type": "code",
   "execution_count": 7,
   "metadata": {
    "scrolled": false
   },
   "outputs": [
    {
     "name": "stdout",
     "output_type": "stream",
     "text": [
      "lab 1 [10.0, 10.0, 10.0, 10.0, 10.0, 10.0, 10.0, 10.0, 10.0, 10.0, 10.0, 10.0, 10.0, 10.0, 10.0, 10.0]\n",
      "lab 3 question 1 [9.0, 0.0, 9.0, 10.0, 9.5, 5.0, 9.5, 10.0, 10.0, 10.0, 10.0, 9.5, 5.0, 9.5, 10.0, 10.0]\n",
      "9.5\n"
     ]
    }
   ],
   "source": [
    "#########################################Question 2#######################################################\n",
    "# Convert this function\n",
    "def csv_reader_2(filename):\n",
    "    file_obj = open(filename,\"r\")\n",
    "\n",
    "    data=list()\n",
    "    \n",
    "    values=list()\n",
    "\n",
    "    first = True\n",
    "    \n",
    "    for line in file_obj:\n",
    "        line=line.strip(\"\\r\\n\")\n",
    "        if first:\n",
    "            first=False\n",
    "            keys = line.split(\",\")\n",
    "        else:\n",
    "            line_values=map(float,line.split(\",\"))\n",
    "            values.append(line_values)\n",
    "            this_line=dict()\n",
    "            \n",
    "            #for k,v in zip(values,keys):\n",
    "                #this_line[k]=v\n",
    "######################Transposing Value list######################\n",
    "    hold=[[0] * len(values) for i in range(len(values[0]))]\n",
    "    for i in range(len(values)):\n",
    "        for j in range(len(values[0])):\n",
    "            hold[j][i]=values[i][j]\n",
    "    inversed_Values=list(hold)\n",
    "    \n",
    "    #data.append(this_line)\n",
    "    #print values \n",
    "    #print  inversed_Values\n",
    "    data=(dict(zip(keys,inversed_Values)))\n",
    "    file_obj.close()\n",
    "    \n",
    "    #print data\n",
    "    \n",
    "    return data\n",
    "\n",
    "# Test with:\n",
    "loaded_data_2=csv_reader_2(\"Data1401-Grades.csv\")\n",
    "print 'lab 1',loaded_data_2['l1_1']\n",
    "print 'lab 3 question 1',loaded_data_2['l3_1']\n",
    "print loaded_data_2['l3_1'][-3]\n",
    "#print loaded_data_2.keys()"
   ]
  },
  {
   "cell_type": "code",
   "execution_count": 8,
   "metadata": {},
   "outputs": [
    {
     "name": "stdout",
     "output_type": "stream",
     "text": [
      "Student 0 Student Data l1_1: 10.0\n",
      "Student 1 Student Data l1_1: 10.0\n",
      "Student 2 Student Data l1_1: 10.0\n",
      "Student 3 Student Data l1_1: 10.0\n",
      "Student 4 Student Data l1_1: 10.0\n",
      "Student 5 Student Data l1_1: 10.0\n",
      "Student 6 Student Data l1_1: 10.0\n",
      "Student 7 Student Data l1_1: 10.0\n",
      "Student 8 Student Data l1_1: 10.0\n",
      "Student 9 Student Data l1_1: 10.0\n",
      "Student 10 Student Data l1_1: 10.0\n",
      "Student 11 Student Data l1_1: 10.0\n",
      "Student 12 Student Data l1_1: 10.0\n",
      "Student 13 Student Data l1_1: 10.0\n",
      "Student 14 Student Data l1_1: 10.0\n",
      "Student 15 Student Data l1_1: 10.0\n",
      "None\n"
     ]
    }
   ],
   "source": [
    "# Convert this function\n",
    "\n",
    "def load_class_2(filename):\n",
    "    class_data=csv_reader_2(filename)\n",
    "\n",
    "    key=class_data.keys()\n",
    "    \n",
    "    a_grade_book=grade_book(\"Data 1401\")\n",
    "\n",
    "    for student_i in range(len(class_data[key[0]])):\n",
    "        a_student_0=student(\"Student\",str(student_i),student_i)\n",
    "        #print student_i\n",
    "        for k in key:\n",
    "            a_student_0.add_grade(grade(k,value=class_data[k][student_i]))\n",
    "\n",
    "        a_grade_book.add_student(a_student_0)\n",
    "        \n",
    "    return a_grade_book\n",
    "\n",
    "# Test with:\n",
    "my_grade_book_2=load_class_2(\"Data1401-Grades.csv\")\n",
    "print my_grade_book_2.print_grades('l1_1')"
   ]
  },
  {
   "cell_type": "markdown",
   "metadata": {
    "collapsed": true
   },
   "source": [
    "*Question 3:* Now convert the function so that the fields that it reads do not have to be numbers. When reading parsing a field, check it can be converted to a float, if not, then store it as a string. Note the different test file for this function, which now had names added as a column. Modify the `load_class` function to use this reader, using the name read from the file.\n"
   ]
  },
  {
   "cell_type": "code",
   "execution_count": 9,
   "metadata": {},
   "outputs": [],
   "source": [
    "#########################################Question 3######################################################\n",
    "# Convert this function\n",
    "def csv_reader(filename):\n",
    "    file_obj = open(filename,\"r\")\n",
    "\n",
    "    data=list()\n",
    "\n",
    "    first = True\n",
    "    \n",
    "    for line in file_obj:\n",
    "        line=line.strip(\"\\r\\n\")\n",
    "        if first:\n",
    "            first=False\n",
    "            keys = line.split(\",\")\n",
    "        else:\n",
    "            values=line.split(\",\")\n",
    "            \n",
    "            for i in range(len(values)):\n",
    "                try:\n",
    "                    values[i]=float(values[i])\n",
    "                except:\n",
    "                    values[i]=str(values[i])\n",
    "            \n",
    "            this_line=dict()\n",
    "            #print values\n",
    "            for k,v in zip(keys,values):\n",
    "                this_line[k]=v\n",
    "\n",
    "            data.append(this_line)\n",
    "            \n",
    "    file_obj.close()\n",
    "    return data\n",
    "\n",
    "# Test with: \n",
    "loaded_data=csv_reader(\"Data1401-Grades-Strings.csv\")\n",
    "#print loaded_data"
   ]
  },
  {
   "cell_type": "code",
   "execution_count": 10,
   "metadata": {},
   "outputs": [
    {
     "name": "stdout",
     "output_type": "stream",
     "text": [
      "FirstName 1   LastName 1  Student Data l1_1: 10.0\n",
      "FirstName 2   LastName 2  Student Data l1_1: 10.0\n",
      "FirstName 3   LastName 3  Student Data l1_1: 10.0\n",
      "FirstName 4   LastName 4  Student Data l1_1: 10.0\n",
      "FirstName 5   LastName 5  Student Data l1_1: 10.0\n",
      "FirstName 6   LastName 6  Student Data l1_1: 10.0\n",
      "FirstName 7   LastName 7  Student Data l1_1: 10.0\n",
      "FirstName 8   LastName 8  Student Data l1_1: 10.0\n",
      "FirstName 9   LastName 9  Student Data l1_1: 10.0\n",
      "FirstName 10  LastName 10 Student Data l1_1: 10.0\n",
      "FirstName 11  LastName 11 Student Data l1_1: 10.0\n",
      "FirstName 12  LastName 12 Student Data l1_1: 10.0\n",
      "FirstName 13  LastName 13 Student Data l1_1: 10.0\n",
      "FirstName 14  LastName 14 Student Data l1_1: 10.0\n",
      "FirstName 15  LastName 15 Student Data l1_1: 10.0\n",
      "FirstName 16  LastName 16 Student Data l1_1: 10.0\n"
     ]
    }
   ],
   "source": [
    "# Convert this function\n",
    "\n",
    "def load_class(filename):\n",
    "    class_data=csv_reader(filename)\n",
    "\n",
    "    \n",
    "    a_grade_book=grade_book(\"Data 1401\")\n",
    "\n",
    "    for student_i in range(len(class_data)):\n",
    "        a_student_0=student(class_data[student_i]['first name'],class_data[student_i][' last name'],student_i)\n",
    "\n",
    "        for k in class_data[0].keys():\n",
    "            a_student_0.add_grade(grade(k,value=class_data[student_i][k]))\n",
    "\n",
    "        a_grade_book.add_student(a_student_0)\n",
    "        \n",
    "    return a_grade_book\n",
    "\n",
    "# Test with:\n",
    "my_grade_book=load_class(\"Data1401-Grades-Strings.csv\")\n",
    "my_grade_book.print_grades('l1_1')"
   ]
  },
  {
   "cell_type": "code",
   "execution_count": null,
   "metadata": {},
   "outputs": [],
   "source": []
  },
  {
   "cell_type": "markdown",
   "metadata": {},
   "source": [
    "## Chaining Algorithms\n",
    "\n",
    "The following example curves the exam 1 grades:\n"
   ]
  },
  {
   "cell_type": "code",
   "execution_count": 11,
   "metadata": {},
   "outputs": [],
   "source": [
    "my_grade_book.apply_calculator(grade_summer(\"e1_\"),overwrite=True)\n",
    "my_grade_book.apply_calculator(mean_std_calculator(\"e1_sum\",60))\n",
    "my_grade_book.apply_calculator(curved_letter_grade(\"e1_sum\",my_grade_book[\"e1_sum Mean\"],my_grade_book[\"e1_sum STD\"]),overwrite=True)"
   ]
  },
  {
   "cell_type": "code",
   "execution_count": 12,
   "metadata": {},
   "outputs": [
    {
     "name": "stdout",
     "output_type": "stream",
     "text": [
      "FirstName 1   LastName 1  Student Data e1_sum: 35.0 e1_sum Letter: F-\n",
      "FirstName 2   LastName 2  Student Data e1_sum: 0 e1_sum Letter: F-\n",
      "FirstName 3   LastName 3  Student Data e1_sum: 20.0 e1_sum Letter: F-\n",
      "FirstName 4   LastName 4  Student Data e1_sum: 115.0 e1_sum Letter: B\n",
      "FirstName 5   LastName 5  Student Data e1_sum: 24.0 e1_sum Letter: F-\n",
      "FirstName 6   LastName 6  Student Data e1_sum: 95.0 e1_sum Letter: C-\n",
      "FirstName 7   LastName 7  Student Data e1_sum: 37.0 e1_sum Letter: F-\n",
      "FirstName 8   LastName 8  Student Data e1_sum: 77.0 e1_sum Letter: F+\n",
      "FirstName 9   LastName 9  Student Data e1_sum: 103.0 e1_sum Letter: C\n",
      "FirstName 10  LastName 10 Student Data e1_sum: 117.0 e1_sum Letter: B\n",
      "FirstName 11  LastName 11 Student Data e1_sum: 138.0 e1_sum Letter: A+\n",
      "FirstName 12  LastName 12 Student Data e1_sum: 110.0 e1_sum Letter: B-\n",
      "FirstName 13  LastName 13 Student Data e1_sum: 104.0 e1_sum Letter: C\n",
      "FirstName 14  LastName 14 Student Data e1_sum: 111.0 e1_sum Letter: B-\n",
      "FirstName 15  LastName 15 Student Data e1_sum: 103.0 e1_sum Letter: C\n",
      "FirstName 16  LastName 16 Student Data e1_sum: 134.0 e1_sum Letter: A\n"
     ]
    }
   ],
   "source": [
    "my_grade_book.print_grades([\"e1_sum\",\"e1_sum Letter\"])"
   ]
  },
  {
   "cell_type": "markdown",
   "metadata": {},
   "source": [
    "The following function generalizes curving you can use it to curve any grade:"
   ]
  },
  {
   "cell_type": "code",
   "execution_count": 13,
   "metadata": {},
   "outputs": [],
   "source": [
    "def curve(a_grade_book,prefix,cut_off=None):\n",
    "    a_grade_book.apply_calculator(grade_summer(prefix),overwrite=True)\n",
    "    a_grade_book.apply_calculator(mean_std_calculator(prefix+\"sum\",cut_off))\n",
    "    a_grade_book.apply_calculator(curved_letter_grade(prefix+\"sum\",a_grade_book[prefix+\"sum Mean\"],a_grade_book[prefix+\"sum STD\"]),overwrite=True)\n",
    "    stats=a_grade_book.get_data(prefix)\n",
    "    for k,v in stats.iteritems():\n",
    "        print k,v\n",
    "    a_grade_book.print_grades([prefix+\"sum\",prefix+\"sum Letter\"])   "
   ]
  },
  {
   "cell_type": "code",
   "execution_count": 14,
   "metadata": {},
   "outputs": [
    {
     "name": "stdout",
     "output_type": "stream",
     "text": [
      "l2_sum Max 69.0\n",
      "l2_sum Min 0\n",
      "l2_sum Mean 51.09375\n",
      "l2_sum STD 21.0566340125\n",
      "FirstName 1   LastName 1  Student Data l2_sum: 58.0 l2_sum Letter: B\n",
      "FirstName 2   LastName 2  Student Data l2_sum: 0 l2_sum Letter: F\n",
      "FirstName 3   LastName 3  Student Data l2_sum: 0 l2_sum Letter: F\n",
      "FirstName 4   LastName 4  Student Data l2_sum: 62.0 l2_sum Letter: B\n",
      "FirstName 5   LastName 5  Student Data l2_sum: 49.5 l2_sum Letter: C+\n",
      "FirstName 6   LastName 6  Student Data l2_sum: 69.0 l2_sum Letter: B+\n",
      "FirstName 7   LastName 7  Student Data l2_sum: 54.5 l2_sum Letter: B-\n",
      "FirstName 8   LastName 8  Student Data l2_sum: 69.0 l2_sum Letter: B+\n",
      "FirstName 9   LastName 9  Student Data l2_sum: 39.5 l2_sum Letter: C\n",
      "FirstName 10  LastName 10 Student Data l2_sum: 60.0 l2_sum Letter: B\n",
      "FirstName 11  LastName 11 Student Data l2_sum: 47.0 l2_sum Letter: C+\n",
      "FirstName 12  LastName 12 Student Data l2_sum: 68.5 l2_sum Letter: B+\n",
      "FirstName 13  LastName 13 Student Data l2_sum: 64.0 l2_sum Letter: B\n",
      "FirstName 14  LastName 14 Student Data l2_sum: 49.5 l2_sum Letter: C+\n",
      "FirstName 15  LastName 15 Student Data l2_sum: 68.0 l2_sum Letter: B+\n",
      "FirstName 16  LastName 16 Student Data l2_sum: 59.0 l2_sum Letter: B\n"
     ]
    }
   ],
   "source": [
    "curve(my_grade_book,\"l2_\")"
   ]
  },
  {
   "cell_type": "markdown",
   "metadata": {},
   "source": [
    "*Question 4:* Write a function that takes a list of prefixes and apply curve to each. Use it to curve every grade."
   ]
  },
  {
   "cell_type": "code",
   "execution_count": 15,
   "metadata": {},
   "outputs": [],
   "source": [
    "###############################Question 4################################################################\n",
    "def curve(a_grade_book,prefix,cut_off=None):\n",
    "    for i in range(len(prefix)):\n",
    "        a_grade_book.apply_calculator(grade_summer(prefix[i]),overwrite=True)\n",
    "        a_grade_book.apply_calculator(mean_std_calculator(prefix[i]+\"sum\",cut_off))\n",
    "        a_grade_book.apply_calculator(curved_letter_grade(prefix[i]+\"sum\",a_grade_book[prefix[i]+\"sum Mean\"],a_grade_book[prefix[i]+\"sum STD\"]),overwrite=True)\n",
    "        stats=a_grade_book.get_data(prefix[i])\n",
    "        for k,v in stats.iteritems():\n",
    "            print k,v\n",
    "\n",
    "        a_grade_book.print_grades([prefix[i]+\"sum\",prefix[i]+\"sum Letter\"])  "
   ]
  },
  {
   "cell_type": "code",
   "execution_count": 16,
   "metadata": {},
   "outputs": [
    {
     "name": "stderr",
     "output_type": "stream",
     "text": [
      "gradebook.py:324: RuntimeWarning: invalid value encountered in double_scalars\n",
      "  scale_std=0.1*shift_to_zero/(self.__std/self.__max_grade)\n"
     ]
    },
    {
     "name": "stdout",
     "output_type": "stream",
     "text": [
      "l1_sum STD 0.0\n",
      "l1_sum Mean 10.0\n",
      "l1_sum Min 10.0\n",
      "l1_sum Max 10.0\n",
      "FirstName 1   LastName 1  Student Data l1_sum: 10.0 l1_sum Letter: F-\n",
      "FirstName 2   LastName 2  Student Data l1_sum: 10.0 l1_sum Letter: F-\n",
      "FirstName 3   LastName 3  Student Data l1_sum: 10.0 l1_sum Letter: F-\n",
      "FirstName 4   LastName 4  Student Data l1_sum: 10.0 l1_sum Letter: F-\n",
      "FirstName 5   LastName 5  Student Data l1_sum: 10.0 l1_sum Letter: F-\n",
      "FirstName 6   LastName 6  Student Data l1_sum: 10.0 l1_sum Letter: F-\n",
      "FirstName 7   LastName 7  Student Data l1_sum: 10.0 l1_sum Letter: F-\n",
      "FirstName 8   LastName 8  Student Data l1_sum: 10.0 l1_sum Letter: F-\n",
      "FirstName 9   LastName 9  Student Data l1_sum: 10.0 l1_sum Letter: F-\n",
      "FirstName 10  LastName 10 Student Data l1_sum: 10.0 l1_sum Letter: F-\n",
      "FirstName 11  LastName 11 Student Data l1_sum: 10.0 l1_sum Letter: F-\n",
      "FirstName 12  LastName 12 Student Data l1_sum: 10.0 l1_sum Letter: F-\n",
      "FirstName 13  LastName 13 Student Data l1_sum: 10.0 l1_sum Letter: F-\n",
      "FirstName 14  LastName 14 Student Data l1_sum: 10.0 l1_sum Letter: F-\n",
      "FirstName 15  LastName 15 Student Data l1_sum: 10.0 l1_sum Letter: F-\n",
      "FirstName 16  LastName 16 Student Data l1_sum: 10.0 l1_sum Letter: F-\n",
      "l2_sum Max 69.0\n",
      "l2_sum Min 0\n",
      "l2_sum Mean 51.09375\n",
      "l2_sum STD 21.0566340125\n",
      "FirstName 1   LastName 1  Student Data l2_sum: 58.0 l2_sum Letter: B\n",
      "FirstName 2   LastName 2  Student Data l2_sum: 0 l2_sum Letter: F\n",
      "FirstName 3   LastName 3  Student Data l2_sum: 0 l2_sum Letter: F\n",
      "FirstName 4   LastName 4  Student Data l2_sum: 62.0 l2_sum Letter: B\n",
      "FirstName 5   LastName 5  Student Data l2_sum: 49.5 l2_sum Letter: C+\n",
      "FirstName 6   LastName 6  Student Data l2_sum: 69.0 l2_sum Letter: B+\n",
      "FirstName 7   LastName 7  Student Data l2_sum: 54.5 l2_sum Letter: B-\n",
      "FirstName 8   LastName 8  Student Data l2_sum: 69.0 l2_sum Letter: B+\n",
      "FirstName 9   LastName 9  Student Data l2_sum: 39.5 l2_sum Letter: C\n",
      "FirstName 10  LastName 10 Student Data l2_sum: 60.0 l2_sum Letter: B\n",
      "FirstName 11  LastName 11 Student Data l2_sum: 47.0 l2_sum Letter: C+\n",
      "FirstName 12  LastName 12 Student Data l2_sum: 68.5 l2_sum Letter: B+\n",
      "FirstName 13  LastName 13 Student Data l2_sum: 64.0 l2_sum Letter: B\n",
      "FirstName 14  LastName 14 Student Data l2_sum: 49.5 l2_sum Letter: C+\n",
      "FirstName 15  LastName 15 Student Data l2_sum: 68.0 l2_sum Letter: B+\n",
      "FirstName 16  LastName 16 Student Data l2_sum: 59.0 l2_sum Letter: B\n",
      "l3_sum Mean 73.3125\n",
      "l3_sum STD 38.3017929574\n",
      "l3_sum Max 126.0\n",
      "l3_sum Min 0\n",
      "FirstName 1   LastName 1  Student Data l3_sum: 9.0 l3_sum Letter: C\n",
      "FirstName 2   LastName 2  Student Data l3_sum: 0 l3_sum Letter: C-\n",
      "FirstName 3   LastName 3  Student Data l3_sum: 71.0 l3_sum Letter: C+\n",
      "FirstName 4   LastName 4  Student Data l3_sum: 102.0 l3_sum Letter: B+\n",
      "FirstName 5   LastName 5  Student Data l3_sum: 77.5 l3_sum Letter: B-\n",
      "FirstName 6   LastName 6  Student Data l3_sum: 89.0 l3_sum Letter: B\n",
      "FirstName 7   LastName 7  Student Data l3_sum: 64.5 l3_sum Letter: C+\n",
      "FirstName 8   LastName 8  Student Data l3_sum: 40.0 l3_sum Letter: C-\n",
      "FirstName 9   LastName 9  Student Data l3_sum: 40.0 l3_sum Letter: C-\n",
      "FirstName 10  LastName 10 Student Data l3_sum: 26.0 l3_sum Letter: C+\n",
      "FirstName 11  LastName 11 Student Data l3_sum: 126.0 l3_sum Letter: A\n",
      "FirstName 12  LastName 12 Student Data l3_sum: 97.5 l3_sum Letter: B\n",
      "FirstName 13  LastName 13 Student Data l3_sum: 115.0 l3_sum Letter: A-\n",
      "FirstName 14  LastName 14 Student Data l3_sum: 114.5 l3_sum Letter: A-\n",
      "FirstName 15  LastName 15 Student Data l3_sum: 95.0 l3_sum Letter: B\n",
      "FirstName 16  LastName 16 Student Data l3_sum: 106.0 l3_sum Letter: B+\n",
      "l4_sum Max 105.0\n",
      "l4_sum STD 30.4217746852\n",
      "l4_sum Mean 34.125\n",
      "l4_sum Min 0\n",
      "FirstName 1   LastName 1  Student Data l4_sum: 0 l4_sum Letter: C+\n",
      "FirstName 2   LastName 2  Student Data l4_sum: 0 l4_sum Letter: C+\n",
      "FirstName 3   LastName 3  Student Data l4_sum: 0 l4_sum Letter: C+\n",
      "FirstName 4   LastName 4  Student Data l4_sum: 75.0 l4_sum Letter: A\n",
      "FirstName 5   LastName 5  Student Data l4_sum: 26.0 l4_sum Letter: C+\n",
      "FirstName 6   LastName 6  Student Data l4_sum: 35.0 l4_sum Letter: B-\n",
      "FirstName 7   LastName 7  Student Data l4_sum: 30.0 l4_sum Letter: C+\n",
      "FirstName 8   LastName 8  Student Data l4_sum: 51.0 l4_sum Letter: B\n",
      "FirstName 9   LastName 9  Student Data l4_sum: 68.0 l4_sum Letter: A-\n",
      "FirstName 10  LastName 10 Student Data l4_sum: 27.0 l4_sum Letter: C+\n",
      "FirstName 11  LastName 11 Student Data l4_sum: 105.0 l4_sum Letter: A+\n",
      "FirstName 12  LastName 12 Student Data l4_sum: 51.0 l4_sum Letter: B\n",
      "FirstName 13  LastName 13 Student Data l4_sum: 0 l4_sum Letter: C+\n",
      "FirstName 14  LastName 14 Student Data l4_sum: 25.0 l4_sum Letter: C+\n",
      "FirstName 15  LastName 15 Student Data l4_sum: 0 l4_sum Letter: C+\n",
      "FirstName 16  LastName 16 Student Data l4_sum: 53.0 l4_sum Letter: B\n",
      "q1_sum Min 0\n",
      "q1_sum STD 4.46940554632\n",
      "q1_sum Mean 6.40625\n",
      "q1_sum Max 10.0\n",
      "FirstName 1   LastName 1  Student Data q1_sum: 9.5 q1_sum Letter: B\n",
      "FirstName 2   LastName 2  Student Data q1_sum: 0 q1_sum Letter: C\n",
      "FirstName 3   LastName 3  Student Data q1_sum: 5.0 q1_sum Letter: C\n",
      "FirstName 4   LastName 4  Student Data q1_sum: 10.0 q1_sum Letter: B+\n",
      "FirstName 5   LastName 5  Student Data q1_sum: 0 q1_sum Letter: C\n",
      "FirstName 6   LastName 6  Student Data q1_sum: 9.5 q1_sum Letter: B\n",
      "FirstName 7   LastName 7  Student Data q1_sum: 10.0 q1_sum Letter: B+\n",
      "FirstName 8   LastName 8  Student Data q1_sum: 10.0 q1_sum Letter: B+\n",
      "FirstName 9   LastName 9  Student Data q1_sum: 9.5 q1_sum Letter: B\n",
      "FirstName 10  LastName 10 Student Data q1_sum: 9.5 q1_sum Letter: B\n",
      "FirstName 11  LastName 11 Student Data q1_sum: 0 q1_sum Letter: C\n",
      "FirstName 12  LastName 12 Student Data q1_sum: 10.0 q1_sum Letter: B+\n",
      "FirstName 13  LastName 13 Student Data q1_sum: 10.0 q1_sum Letter: B+\n",
      "FirstName 14  LastName 14 Student Data q1_sum: 0 q1_sum Letter: C\n",
      "FirstName 15  LastName 15 Student Data q1_sum: 0 q1_sum Letter: C\n",
      "FirstName 16  LastName 16 Student Data q1_sum: 9.5 q1_sum Letter: B\n",
      "e1_sum Max 138.0\n",
      "e1_sum Min 0\n",
      "e1_sum Mean 82.6875\n",
      "e1_sum STD 42.9370451213\n",
      "FirstName 1   LastName 1  Student Data e1_sum: 35.0 e1_sum Letter: C+\n",
      "FirstName 2   LastName 2  Student Data e1_sum: 0 e1_sum Letter: C-\n",
      "FirstName 3   LastName 3  Student Data e1_sum: 20.0 e1_sum Letter: C\n",
      "FirstName 4   LastName 4  Student Data e1_sum: 115.0 e1_sum Letter: B+\n",
      "FirstName 5   LastName 5  Student Data e1_sum: 24.0 e1_sum Letter: C\n",
      "FirstName 6   LastName 6  Student Data e1_sum: 95.0 e1_sum Letter: B-\n",
      "FirstName 7   LastName 7  Student Data e1_sum: 37.0 e1_sum Letter: C+\n",
      "FirstName 8   LastName 8  Student Data e1_sum: 77.0 e1_sum Letter: C+\n",
      "FirstName 9   LastName 9  Student Data e1_sum: 103.0 e1_sum Letter: B\n",
      "FirstName 10  LastName 10 Student Data e1_sum: 117.0 e1_sum Letter: B+\n",
      "FirstName 11  LastName 11 Student Data e1_sum: 138.0 e1_sum Letter: A-\n",
      "FirstName 12  LastName 12 Student Data e1_sum: 110.0 e1_sum Letter: B\n",
      "FirstName 13  LastName 13 Student Data e1_sum: 104.0 e1_sum Letter: B\n",
      "FirstName 14  LastName 14 Student Data e1_sum: 111.0 e1_sum Letter: B\n",
      "FirstName 15  LastName 15 Student Data e1_sum: 103.0 e1_sum Letter: B\n",
      "FirstName 16  LastName 16 Student Data e1_sum: 134.0 e1_sum Letter: A-\n"
     ]
    }
   ],
   "source": [
    "labs=[\"l1_\",\"l2_\",\"l3_\",\"l4_\"]\n",
    "quizzes=['q1_']\n",
    "Exams=['e1_']\n",
    "curve(my_grade_book,labs)\n",
    "curve(my_grade_book,quizzes)\n",
    "curve(my_grade_book,Exams)\n"
   ]
  },
  {
   "cell_type": "markdown",
   "metadata": {},
   "source": [
    "*Question 5:* Modify `curve` so that it deterines the `cut_off` automatically, using 50\\% of max grade as the cut off."
   ]
  },
  {
   "cell_type": "code",
   "execution_count": 17,
   "metadata": {},
   "outputs": [],
   "source": [
    "####################################Question 5###########################################################\n",
    "# Modify this function\n",
    "def curve(a_grade_book,prefix,cut_off=None):\n",
    "    #a_grade_book.apply_calculator(grade_summer(prefix),overwrite=True)\n",
    "    \n",
    "    #x=a_grade_book.get_data()\n",
    "    #cut_off=x[prefix+\"sum Max\"]*0.5 #########half of max grade\n",
    "    #print 'cutoff is',cut_off\n",
    "    \n",
    "    #a_grade_book.apply_calculator(mean_std_calculator(prefix+\"sum\",cut_off))\n",
    "    #a_grade_book.apply_calculator(curved_letter_grade(prefix+\"sum\",a_grade_book[prefix+\"sum Mean\"],a_grade_book[prefix+\"sum STD\"]),overwrite=True)\n",
    "    #stats=a_grade_book.get_data(prefix)\n",
    "    #for k,v in stats.iteritems():\n",
    "        #print k,v\n",
    "    #a_grade_book.print_grades([prefix+\"sum\",prefix+\"sum Letter\"])   \n",
    "    \n",
    "    \n",
    "    \n",
    "    for i in range(len(prefix)):\n",
    "        a_grade_book.apply_calculator(grade_summer(prefix[i]),overwrite=True)\n",
    "        \n",
    "        x=a_grade_book.get_data()\n",
    "        cut_off=x[prefix[i]+\"sum Max\"]*0.5 #########half of max grade\n",
    "        print 'cutoff is',cut_off\n",
    "        \n",
    "        a_grade_book.apply_calculator(mean_std_calculator(prefix[i]+\"sum\",cut_off))\n",
    "        a_grade_book.apply_calculator(curved_letter_grade(prefix[i]+\"sum\",a_grade_book[prefix[i]+\"sum Mean\"],a_grade_book[prefix[i]+\"sum STD\"],max_grade=x[prefix[i]+\"sum Max\"]),overwrite=True)\n",
    "        stats=a_grade_book.get_data(prefix[i])\n",
    "        for k,v in stats.iteritems():\n",
    "            print k,v\n",
    "\n",
    "        a_grade_book.print_grades([prefix[i]+\"sum\",prefix[i]+\"sum Letter\"])\n",
    "    \n"
   ]
  },
  {
   "cell_type": "code",
   "execution_count": 18,
   "metadata": {},
   "outputs": [
    {
     "name": "stdout",
     "output_type": "stream",
     "text": [
      "cutoff is 5.0\n",
      "l1_sum STD 0.0\n",
      "l1_sum Mean 10.0\n",
      "l1_sum Min 10.0\n",
      "l1_sum Max 10.0\n",
      "FirstName 1   LastName 1  Student Data l1_sum: 10.0 l1_sum Letter: F-\n",
      "FirstName 2   LastName 2  Student Data l1_sum: 10.0 l1_sum Letter: F-\n",
      "FirstName 3   LastName 3  Student Data l1_sum: 10.0 l1_sum Letter: F-\n",
      "FirstName 4   LastName 4  Student Data l1_sum: 10.0 l1_sum Letter: F-\n",
      "FirstName 5   LastName 5  Student Data l1_sum: 10.0 l1_sum Letter: F-\n",
      "FirstName 6   LastName 6  Student Data l1_sum: 10.0 l1_sum Letter: F-\n",
      "FirstName 7   LastName 7  Student Data l1_sum: 10.0 l1_sum Letter: F-\n",
      "FirstName 8   LastName 8  Student Data l1_sum: 10.0 l1_sum Letter: F-\n",
      "FirstName 9   LastName 9  Student Data l1_sum: 10.0 l1_sum Letter: F-\n",
      "FirstName 10  LastName 10 Student Data l1_sum: 10.0 l1_sum Letter: F-\n",
      "FirstName 11  LastName 11 Student Data l1_sum: 10.0 l1_sum Letter: F-\n",
      "FirstName 12  LastName 12 Student Data l1_sum: 10.0 l1_sum Letter: F-\n",
      "FirstName 13  LastName 13 Student Data l1_sum: 10.0 l1_sum Letter: F-\n",
      "FirstName 14  LastName 14 Student Data l1_sum: 10.0 l1_sum Letter: F-\n",
      "FirstName 15  LastName 15 Student Data l1_sum: 10.0 l1_sum Letter: F-\n",
      "FirstName 16  LastName 16 Student Data l1_sum: 10.0 l1_sum Letter: F-\n",
      "cutoff is 34.5\n",
      "l2_sum Mean 58.392857142857146\n",
      "l2_sum Min 39.5\n",
      "l2_sum Max 69.0\n",
      "l2_sum STD 8.97253462245\n",
      "FirstName 1   LastName 1  Student Data l2_sum: 58.0 l2_sum Letter: C+\n",
      "FirstName 2   LastName 2  Student Data l2_sum: 0 l2_sum Letter: F-\n",
      "FirstName 3   LastName 3  Student Data l2_sum: 0 l2_sum Letter: F-\n",
      "FirstName 4   LastName 4  Student Data l2_sum: 62.0 l2_sum Letter: B\n",
      "FirstName 5   LastName 5  Student Data l2_sum: 49.5 l2_sum Letter: C-\n",
      "FirstName 6   LastName 6  Student Data l2_sum: 69.0 l2_sum Letter: A-\n",
      "FirstName 7   LastName 7  Student Data l2_sum: 54.5 l2_sum Letter: C\n",
      "FirstName 8   LastName 8  Student Data l2_sum: 69.0 l2_sum Letter: A-\n",
      "FirstName 9   LastName 9  Student Data l2_sum: 39.5 l2_sum Letter: F+\n",
      "FirstName 10  LastName 10 Student Data l2_sum: 60.0 l2_sum Letter: B-\n",
      "FirstName 11  LastName 11 Student Data l2_sum: 47.0 l2_sum Letter: C+\n",
      "FirstName 12  LastName 12 Student Data l2_sum: 68.5 l2_sum Letter: A-\n",
      "FirstName 13  LastName 13 Student Data l2_sum: 64.0 l2_sum Letter: B\n",
      "FirstName 14  LastName 14 Student Data l2_sum: 49.5 l2_sum Letter: C-\n",
      "FirstName 15  LastName 15 Student Data l2_sum: 68.0 l2_sum Letter: A-\n",
      "FirstName 16  LastName 16 Student Data l2_sum: 59.0 l2_sum Letter: B-\n",
      "cutoff is 63.0\n",
      "l3_sum Mean 96.18181818181819\n",
      "l3_sum STD 18.4652901994\n",
      "l3_sum Max 126.0\n",
      "l3_sum Min 64.5\n",
      "FirstName 1   LastName 1  Student Data l3_sum: 9.0 l3_sum Letter: F-\n",
      "FirstName 2   LastName 2  Student Data l3_sum: 0 l3_sum Letter: F-\n",
      "FirstName 3   LastName 3  Student Data l3_sum: 71.0 l3_sum Letter: C\n",
      "FirstName 4   LastName 4  Student Data l3_sum: 102.0 l3_sum Letter: B\n",
      "FirstName 5   LastName 5  Student Data l3_sum: 77.5 l3_sum Letter: C+\n",
      "FirstName 6   LastName 6  Student Data l3_sum: 89.0 l3_sum Letter: C\n",
      "FirstName 7   LastName 7  Student Data l3_sum: 64.5 l3_sum Letter: C-\n",
      "FirstName 8   LastName 8  Student Data l3_sum: 40.0 l3_sum Letter: F-\n",
      "FirstName 9   LastName 9  Student Data l3_sum: 40.0 l3_sum Letter: F-\n",
      "FirstName 10  LastName 10 Student Data l3_sum: 26.0 l3_sum Letter: F-\n",
      "FirstName 11  LastName 11 Student Data l3_sum: 126.0 l3_sum Letter: A\n",
      "FirstName 12  LastName 12 Student Data l3_sum: 97.5 l3_sum Letter: B-\n",
      "FirstName 13  LastName 13 Student Data l3_sum: 115.0 l3_sum Letter: A-\n",
      "FirstName 14  LastName 14 Student Data l3_sum: 114.5 l3_sum Letter: B+\n",
      "FirstName 15  LastName 15 Student Data l3_sum: 95.0 l3_sum Letter: C+\n",
      "FirstName 16  LastName 16 Student Data l3_sum: 106.0 l3_sum Letter: B\n",
      "cutoff is 52.5\n",
      "l4_sum Mean 75.25\n",
      "l4_sum STD 18.9258421213\n",
      "l4_sum Max 105.0\n",
      "l4_sum Min 53.0\n",
      "FirstName 1   LastName 1  Student Data l4_sum: 0 l4_sum Letter: F-\n",
      "FirstName 2   LastName 2  Student Data l4_sum: 0 l4_sum Letter: F-\n",
      "FirstName 3   LastName 3  Student Data l4_sum: 0 l4_sum Letter: F-\n",
      "FirstName 4   LastName 4  Student Data l4_sum: 75.0 l4_sum Letter: C+\n",
      "FirstName 5   LastName 5  Student Data l4_sum: 26.0 l4_sum Letter: F\n",
      "FirstName 6   LastName 6  Student Data l4_sum: 35.0 l4_sum Letter: F+\n",
      "FirstName 7   LastName 7  Student Data l4_sum: 30.0 l4_sum Letter: F\n",
      "FirstName 8   LastName 8  Student Data l4_sum: 51.0 l4_sum Letter: C+\n",
      "FirstName 9   LastName 9  Student Data l4_sum: 68.0 l4_sum Letter: C\n",
      "FirstName 10  LastName 10 Student Data l4_sum: 27.0 l4_sum Letter: F\n",
      "FirstName 11  LastName 11 Student Data l4_sum: 105.0 l4_sum Letter: A\n",
      "FirstName 12  LastName 12 Student Data l4_sum: 51.0 l4_sum Letter: C+\n",
      "FirstName 13  LastName 13 Student Data l4_sum: 0 l4_sum Letter: F-\n",
      "FirstName 14  LastName 14 Student Data l4_sum: 25.0 l4_sum Letter: F\n",
      "FirstName 15  LastName 15 Student Data l4_sum: 0 l4_sum Letter: F-\n",
      "FirstName 16  LastName 16 Student Data l4_sum: 53.0 l4_sum Letter: C+\n"
     ]
    }
   ],
   "source": [
    "curve(my_grade_book,labs)"
   ]
  },
  {
   "cell_type": "markdown",
   "metadata": {},
   "source": [
    "*Question 5:* Write an algorithm that computes the number of A, B, C, D, and F grades for a prefix.  "
   ]
  },
  {
   "cell_type": "code",
   "execution_count": 25,
   "metadata": {},
   "outputs": [],
   "source": [
    "#################################Another Question 5#######################################################\n",
    "def Count_Grade_Letter(a_grade_book,prefix):\n",
    "\n",
    "    grade_name=prefix+'sum Letter'\n",
    "    A=0\n",
    "    B=0\n",
    "    C=0\n",
    "    D=0\n",
    "    F=0\n",
    "    letter_only=list()\n",
    "    \n",
    "    for i in a_grade_book.get_students():\n",
    "        sum_and_letter=my_grade_book.get_students()[i].__getitem__(grade_name)\n",
    "        #print my_grade_book.get_students()[i].__getitem__(name)\n",
    "        hold=str(sum_and_letter).split(' ')\n",
    "        #print hold\n",
    "        hold2=hold[2] #### Gets the letter grade A-,A,A+, etc.\n",
    "        #print hold2\n",
    "        letter_only.append(hold2[0]) ###Gives only the letter without a +/-\n",
    "    #print  letter_only \n",
    "    \n",
    "    if 'A' in letter_only:\n",
    "        A=letter_only.count('A')\n",
    "    if 'B' in letter_only:\n",
    "        B=letter_only.count('B')\n",
    "    if 'C' in letter_only:\n",
    "        C=letter_only.count('C')\n",
    "    if 'D' in letter_only:\n",
    "        D=letter_only.count('D')\n",
    "    if 'F' in letter_only:\n",
    "        F=letter_only.count('F')\n",
    "  \n",
    "    print A,' students got an A'\n",
    "    print B,' students got a B'\n",
    "    print C,' students got a C'\n",
    "    print D,' students got a D'\n",
    "    print F,' students got a F'"
   ]
  },
  {
   "cell_type": "code",
   "execution_count": 27,
   "metadata": {},
   "outputs": [
    {
     "ename": "NameError",
     "evalue": "name 'my_grade_book1' is not defined",
     "output_type": "error",
     "traceback": [
      "\u001b[0;31m\u001b[0m",
      "\u001b[0;31mNameError\u001b[0mTraceback (most recent call last)",
      "\u001b[0;32m<ipython-input-27-fac583eaa76c>\u001b[0m in \u001b[0;36m<module>\u001b[0;34m()\u001b[0m\n\u001b[0;32m----> 1\u001b[0;31m \u001b[0mCount_Grade_Letter\u001b[0m\u001b[0;34m(\u001b[0m\u001b[0mmy_grade_book1\u001b[0m\u001b[0;34m,\u001b[0m\u001b[0;34m'l4_'\u001b[0m\u001b[0;34m)\u001b[0m\u001b[0;34m\u001b[0m\u001b[0m\n\u001b[0m\u001b[1;32m      2\u001b[0m \u001b[0;32mprint\u001b[0m \u001b[0;34m'\\n'\u001b[0m\u001b[0;34m\u001b[0m\u001b[0m\n\u001b[1;32m      3\u001b[0m \u001b[0mCount_Grade_Letter\u001b[0m\u001b[0;34m(\u001b[0m\u001b[0mmy_grade_book1\u001b[0m\u001b[0;34m,\u001b[0m\u001b[0;34m'e1_'\u001b[0m\u001b[0;34m)\u001b[0m\u001b[0;34m\u001b[0m\u001b[0m\n",
      "\u001b[0;31mNameError\u001b[0m: name 'my_grade_book1' is not defined"
     ]
    }
   ],
   "source": [
    "Count_Grade_Letter(my_grade_book,'l4_')\n",
    "print '\\n'\n",
    "Count_Grade_Letter(my_grade_book,'e1_')"
   ]
  },
  {
   "cell_type": "code",
   "execution_count": null,
   "metadata": {},
   "outputs": [],
   "source": []
  }
 ],
 "metadata": {
  "kernelspec": {
   "display_name": "Python 2",
   "language": "python",
   "name": "python2"
  },
  "language_info": {
   "codemirror_mode": {
    "name": "ipython",
    "version": 2
   },
   "file_extension": ".py",
   "mimetype": "text/x-python",
   "name": "python",
   "nbconvert_exporter": "python",
   "pygments_lexer": "ipython2",
   "version": "2.7.15"
  }
 },
 "nbformat": 4,
 "nbformat_minor": 2
}
