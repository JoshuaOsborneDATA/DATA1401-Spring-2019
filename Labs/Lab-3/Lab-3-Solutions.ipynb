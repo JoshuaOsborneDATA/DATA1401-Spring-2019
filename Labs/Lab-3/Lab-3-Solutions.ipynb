{
 "cells": [
  {
   "cell_type": "markdown",
   "metadata": {},
   "source": [
    "# Lab 3\n",
    "\n",
    "## Submitting lab solutions\n",
    "\n",
    "At the end of the previous lab, you should have set up a \"Solutions\" directory in your home directory on TACC, with a fork of the class git repository that pull from Dr. Farbin's verison and pushes to your own fork. \n",
    "\n",
    "Open a terminal, navigate to your fork, and use `git remove -v` to verify that things are correctly setup.\n",
    "\n",
    "Your solutions to the lab 2 are either sitting in this fork, or in the first clone of the class repository that you made at the beginning of lab 2. \n",
    "\n",
    "Note that Jupyter tends to auto-save your work. But to make sure, it is a good habit to use the \"Save and Checkpoint\" command from the \"File\" menu whenever you are ending a session.\n",
    "\n",
    "Locate the your lab 2 notebook and copy and rename it into the same directory in your fork. \n",
    "\n",
    "For example:"
   ]
  },
  {
   "cell_type": "code",
   "execution_count": 1,
   "metadata": {
    "collapsed": true
   },
   "outputs": [],
   "source": [
    "!cp ~/Solutions/DATA1401-Spring-2019/Labs/Lab-3.ipynb ~/Solutions/DATA1401-Spring-2019/Labs/Lab-3/Lab-3-Solution.ipynb"
   ]
  },
  {
   "cell_type": "markdown",
   "metadata": {},
   "source": [
    "The reason we are renaming the file is due to a complication that you may experience when pulling updates into your fork. If a file was updated after your last pull and modifications, your modifications will likely cause a merge conflict, which can be a headache to resolve. Creating a new file side-steps this problem.\n",
    "\n",
    "Now that you have a new file in your fork, add the file into local repository:"
   ]
  },
  {
   "cell_type": "code",
   "execution_count": 1,
   "metadata": {
    "collapsed": true
   },
   "outputs": [],
   "source": [
    "!git add ~/Solutions/DATA1401-Spring-2019/Labs/Lab-4/Lab-4-Solution.ipynb"
   ]
  },
  {
   "cell_type": "markdown",
   "metadata": {},
   "source": [
    "You only need to add a file once. Next, commit this file to your local copy of the repository:"
   ]
  },
  {
   "cell_type": "code",
   "execution_count": 2,
   "metadata": {},
   "outputs": [
    {
     "name": "stdout",
     "output_type": "stream",
     "text": [
      "[master c17ac19] My Quiz-1 Solutions\r\n",
      " Committer: Joshua Osborne <josbor98@c455-023.stampede2.tacc.utexas.edu>\r\n",
      "Your name and email address were configured automatically based\r\n",
      "on your username and hostname. Please check that they are accurate.\r\n",
      "You can suppress this message by setting them explicitly. Run the\r\n",
      "following command and follow the instructions in your editor to edit\r\n",
      "your configuration file:\r\n",
      "\r\n",
      "    git config --global --edit\r\n",
      "\r\n",
      "After doing this, you may fix the identity used for this commit with:\r\n",
      "\r\n",
      "    git commit --amend --reset-author\r\n",
      "\r\n",
      " 1 file changed, 107 insertions(+)\r\n",
      " create mode 100644 Quizzes/Quiz-1.ipynb\r\n"
     ]
    }
   ],
   "source": [
    "!git commit -a -m \"My Lab 4 Solutions\""
   ]
  },
  {
   "cell_type": "markdown",
   "metadata": {},
   "source": [
    "You are required to provide a text message when commiting files, and the `-m` option is the nicest way to do it. If you do not supply a message, you will find yourself in a text editor (most likely vi) which is difficult to use and forced to enter a message.\n",
    "\n",
    "You will need to commit your changes every time you wish to submit any changes. So if you keep working or come back to a lab, make sure you commit your changes.\n",
    "\n",
    "Now that you committed your changes, you will need to push these changes to the fork of the package in your github account:"
   ]
  },
  {
   "cell_type": "code",
   "execution_count": null,
   "metadata": {},
   "outputs": [
    {
     "name": "stdout",
     "output_type": "stream",
     "text": [
      "Username for 'https://github.com': "
     ]
    }
   ],
   "source": [
    "!git push"
   ]
  },
  {
   "cell_type": "markdown",
   "metadata": {},
   "source": [
    "You will likely need to supply you git username and password.\n",
    "\n",
    "Your lab is now available for grading. Remember that unless you commit and push your work, it will not be seen.\n",
    "\n",
    "From now on, use this procedure to submit your solutions to labs, including the remainder of this lab. \n",
    "\n",
    "You can work in your Solutions directory if you like. But note that it may be a good practice to use the \"File\" menu to duplicate and remain labs when you first start. Besides letting you avoid having to do the copy later, you will have a copy of the original notebook, in case you delete something and can pull updates, in case of bug fixes."
   ]
  },
  {
   "cell_type": "markdown",
   "metadata": {},
   "source": [
    "## Python Programming\n",
    "\n",
    "In the remainder of this lab you will practice python by solving some simple exercises. \n",
    "\n",
    "*Exercise 1:* Write 2 functions `even(x)` and `odd(x)` that take an integer and returns True if the input is even or odd, otherwise returns False. Use cell below for your solution. Use the subsequent cell to demonstrate that your solution works. Feel free to add additional cell as needed using the \"+\" button on the button bar above. "
   ]
  },
  {
   "cell_type": "code",
   "execution_count": 10,
   "metadata": {
    "collapsed": true
   },
   "outputs": [],
   "source": [
    "def even(x):\n",
    "    if (x%2) ==0:\n",
    "        return True\n",
    "    else:\n",
    "        return False\n",
    "\n",
    "def odd(x):\n",
    "    if (x%2) ==0:\n",
    "        return False\n",
    "    else:\n",
    "        return True"
   ]
  },
  {
   "cell_type": "code",
   "execution_count": 13,
   "metadata": {},
   "outputs": [
    {
     "name": "stdout",
     "output_type": "stream",
     "text": [
      "enter a number :1\n",
      "False\n",
      "True\n"
     ]
    }
   ],
   "source": [
    "x=input(\"enter a number :\")\n",
    "e= even(x)\n",
    "print e\n",
    "o= odd(x)\n",
    "print o"
   ]
  },
  {
   "cell_type": "markdown",
   "metadata": {},
   "source": [
    "*Exercise 2:* Write a function that takes a list of numbers as input and returns a list of the subset of elements that are less that 10. Test your solution."
   ]
  },
  {
   "cell_type": "code",
   "execution_count": 59,
   "metadata": {
    "collapsed": true
   },
   "outputs": [],
   "source": [
    "def cut(x):\n",
    "    BelowTen=list()\n",
    "    for i in range (0,len(x)):\n",
    "        if x[i]<10:\n",
    "            BelowTen.append(x[i])\n",
    "    return BelowTen\n",
    "    "
   ]
  },
  {
   "cell_type": "code",
   "execution_count": 60,
   "metadata": {},
   "outputs": [
    {
     "name": "stdout",
     "output_type": "stream",
     "text": [
      "[0, 4, 8, 12, 16]\n",
      "[0, 4, 8]\n"
     ]
    }
   ],
   "source": [
    "x=list(range(0,20,4))\n",
    "print x\n",
    "BelowTen=cut(x)\n",
    "print BelowTen"
   ]
  },
  {
   "cell_type": "markdown",
   "metadata": {},
   "source": [
    "*Exercise 3:* Write a function that takes a number `x_max` as input and returns a function that performs the same task as exercise 2, but for `x_max` instead of 10."
   ]
  },
  {
   "cell_type": "code",
   "execution_count": 63,
   "metadata": {
    "collapsed": true
   },
   "outputs": [],
   "source": [
    "def boop(x,x_max=10):\n",
    "    BelowTen=list()\n",
    "    for i in range (0,len(x)):\n",
    "        if x[i]<x_max:\n",
    "            BelowTen.append(x[i])\n",
    "    return BelowTen"
   ]
  },
  {
   "cell_type": "code",
   "execution_count": 64,
   "metadata": {},
   "outputs": [
    {
     "name": "stdout",
     "output_type": "stream",
     "text": [
      "maximum value :30\n",
      "[0, 4, 8, 12, 16, 20, 24, 28]\n"
     ]
    }
   ],
   "source": [
    "x=list(range(0,50,4))\n",
    "y=boop(x, input(\"maximum value :\"))\n",
    "print y"
   ]
  },
  {
   "cell_type": "markdown",
   "metadata": {},
   "source": [
    "*Exercise 4:* Write a function that takes an interger as input and returns a list of all divisors of that number."
   ]
  },
  {
   "cell_type": "code",
   "execution_count": 119,
   "metadata": {
    "collapsed": true
   },
   "outputs": [],
   "source": [
    "def divisor(x):\n",
    "    j=[1]\n",
    "    for i in range (1,x):\n",
    "        if x%i==0:\n",
    "            j.append(x//i)\n",
    "    j=set(j)\n",
    "    return j"
   ]
  },
  {
   "cell_type": "code",
   "execution_count": 126,
   "metadata": {},
   "outputs": [
    {
     "name": "stdout",
     "output_type": "stream",
     "text": [
      "input a number: 1000\n",
      "[1, 2, 4, 5, 8, 10, 20, 25, 40, 50, 100, 125, 200, 250, 500, 1000]\n"
     ]
    }
   ],
   "source": [
    "x=input(\"input a number: \")\n",
    "y=divisor(x)\n",
    "lst1=sorted(y)\n",
    "print lst1"
   ]
  },
  {
   "cell_type": "markdown",
   "metadata": {},
   "source": [
    "*Exercise 5:* Write a function that takes 2 lists as input and returns a list that contains only the elements that are common between the lists (without duplicates). Make sure your program works on two lists of different sizes."
   ]
  },
  {
   "cell_type": "code",
   "execution_count": 91,
   "metadata": {
    "collapsed": true
   },
   "outputs": [],
   "source": [
    "def combine(x,y):\n",
    "    z=set(x+y)\n",
    "    return z"
   ]
  },
  {
   "cell_type": "code",
   "execution_count": 99,
   "metadata": {},
   "outputs": [
    {
     "name": "stdout",
     "output_type": "stream",
     "text": [
      "[0, 5, 10, 15, 20, 25, 30, 35, 40, 45]\n"
     ]
    }
   ],
   "source": [
    "x=list(range(0,50,5))\n",
    "y=list(range(0,50,10))\n",
    "z=list(combine(x,y))\n",
    "z.sort()\n",
    "print z"
   ]
  },
  {
   "cell_type": "markdown",
   "metadata": {},
   "source": [
    "*Exercise 6:* Write a function that reads takes a string and returns `True` if the string is a palindrome. (A palindrome is a string that reads the same forwards and backwards.)"
   ]
  },
  {
   "cell_type": "code",
   "execution_count": 121,
   "metadata": {
    "collapsed": true
   },
   "outputs": [],
   "source": [
    "def palindrome(x):\n",
    "    if x==list(reversed(x)):\n",
    "        return True\n",
    "    else:\n",
    "        return False\n"
   ]
  },
  {
   "cell_type": "code",
   "execution_count": 124,
   "metadata": {},
   "outputs": [
    {
     "name": "stdout",
     "output_type": "stream",
     "text": [
      "input word to see if it's a palindrome: racecar\n",
      "input word to see if it's a palindrome: boop\n",
      "True\n",
      "False\n"
     ]
    }
   ],
   "source": [
    "x=raw_input(\"input word to see if it's a palindrome: \")\n",
    "x=list(x.upper())\n",
    "y=raw_input(\"input word to see if it's a palindrome: \")\n",
    "y=list(y.upper())\n",
    "z= palindrome(x)\n",
    "print z\n",
    "z= palindrome(y)\n",
    "print z"
   ]
  },
  {
   "cell_type": "markdown",
   "metadata": {},
   "source": [
    "*Exercise 7:* Write a Rock-Paper-Scissors game function, that takes 2 strings, the inputs of player 1 and player 2, and output 1 or 2 corresponding to which player wins, or 0 if draw.\n",
    "\n",
    "Implement a Rock-Paper-Scissors game by soliciting input from 2 players, testing with this function, and repeating if there is a draw.\n",
    "\n",
    "Remember the rules:\n",
    "\n",
    "* Rock beats scissors\n",
    "* Scissors beats paper\n",
    "* Paper beats rock"
   ]
  },
  {
   "cell_type": "code",
   "execution_count": 135,
   "metadata": {
    "collapsed": true
   },
   "outputs": [],
   "source": [
    "def RPS(player1_move,player2_move):\n",
    "    if (player1_move is \"R\") & (player2_move is \"S\"):\n",
    "        score=1\n",
    "    elif (player1_move is \"P\") & (player2_move is \"S\"):\n",
    "        score=2\n",
    "    elif (player1_move is \"R\") & (player2_move is \"P\"):\n",
    "        score=2\n",
    "    elif (player1_move is \"P\") & (player2_move is \"R\"):\n",
    "        score=1\n",
    "    elif (player1_move is\"S\") & (player2_move is \"P\"):\n",
    "        score=1\n",
    "    elif (player1_move is \"S\") & (player2_move is \"R\"):\n",
    "        score=2\n",
    "    elif player1_move==player2_move:\n",
    "        score=0\n",
    "    return score"
   ]
  },
  {
   "cell_type": "code",
   "execution_count": 140,
   "metadata": {},
   "outputs": [
    {
     "name": "stdout",
     "output_type": "stream",
     "text": [
      "enter R,S, or P for rock, paper or Scissors respectively: R\n",
      "enter R,S, or P for rock, paper or Scissors respectively: P\n",
      "player 2 wins!\n",
      "If you wish to no longer play enter 'E' or 'END' :\n",
      "enter R,S, or P for rock, paper or Scissors respectively: P\n",
      "enter R,S, or P for rock, paper or Scissors respectively: P\n",
      "Draw! Try again!\n",
      "enter R,S, or P for rock, paper or Scissors respectively: S\n",
      "enter R,S, or P for rock, paper or Scissors respectively: R\n",
      "player 2 wins!\n",
      "If you wish to no longer play enter 'E' or 'END' :E\n"
     ]
    }
   ],
   "source": [
    "GameWon=False\n",
    "end= False\n",
    "while end != True:\n",
    "    while GameWon != True:\n",
    "        player1_move=raw_input(\"enter R,S, or P for rock, paper or Scissors respectively: \")\n",
    "        player1_move.upper()\n",
    "        player2_move=raw_input(\"enter R,S, or P for rock, paper or Scissors respectively: \")\n",
    "        player2_move.upper()\n",
    "        score=RPS(player1_move,player2_move)\n",
    "        if score==0:\n",
    "            print \"Draw! Try again!\"\n",
    "        elif score==1:\n",
    "            print \"player 1 wins!\"\n",
    "            GameWon=True\n",
    "        elif score==2:\n",
    "            print \"player 2 wins!\"\n",
    "            GameWon=True\n",
    "    y=raw_input(\"If you wish to no longer play enter 'E' or 'END' :\")\n",
    "    y.upper()\n",
    "    if (y is \"END\") | (y is \"E\"):\n",
    "        end=True\n",
    "    else:\n",
    "        GameWon=False\n"
   ]
  },
  {
   "cell_type": "markdown",
   "metadata": {},
   "source": [
    "*Exercise 8:* Write a function that takes a integer `n` as input and \n",
    "outputs a list of the first `n` Fibonnaci numbers.\n",
    "\n",
    "The Fibonnaci seqence is a sequence of numbers where the next number in the sequence is the sum of the previous two numbers in the sequence. The sequence looks like this: 1, 1, 2, 3, 5, 8, 13, …)"
   ]
  },
  {
   "cell_type": "code",
   "execution_count": 145,
   "metadata": {
    "collapsed": true
   },
   "outputs": [],
   "source": [
    "def Fib(n):\n",
    "    x=[0]\n",
    "    y=1\n",
    "    x.append(y)\n",
    "    for i in range(1,n):\n",
    "        y=x[i]+x[i-1]\n",
    "        x.append(y)\n",
    "    x.remove(0)\n",
    "    return x\n",
    "    "
   ]
  },
  {
   "cell_type": "code",
   "execution_count": 148,
   "metadata": {},
   "outputs": [
    {
     "name": "stdout",
     "output_type": "stream",
     "text": [
      "how many numbers would you like to see listed?10\n",
      "[1, 1, 2, 3, 5, 8, 13, 21, 34, 55]\n"
     ]
    }
   ],
   "source": [
    "n=input(\"how many numbers would you like to see listed?\")\n",
    "x=Fib(n)\n",
    "print x"
   ]
  },
  {
   "cell_type": "markdown",
   "metadata": {},
   "source": [
    "*Exercise 9:* Write a function that takes a string of consisting of several words and returns a string that reverses the order of the words.\n"
   ]
  },
  {
   "cell_type": "code",
   "execution_count": 180,
   "metadata": {
    "collapsed": true
   },
   "outputs": [],
   "source": [
    "def TurnAround(x):\n",
    "        for i in range (0,len(x)/2):\n",
    "            y=x[i]\n",
    "            x[i]=x[len(x)-(i+1)]\n",
    "            x[len(x)-(i+1)]=y\n",
    "        return x\n",
    "    "
   ]
  },
  {
   "cell_type": "code",
   "execution_count": 183,
   "metadata": {},
   "outputs": [
    {
     "name": "stdout",
     "output_type": "stream",
     "text": [
      "Enter a sentence: this is a sentence here\n",
      "['here', 'sentence', 'a', 'is', 'this']\n"
     ]
    }
   ],
   "source": [
    "x=raw_input(\"Enter a sentence: \")\n",
    "x=x.split()\n",
    "x=TurnAround(x)\n",
    "print x"
   ]
  },
  {
   "cell_type": "markdown",
   "metadata": {},
   "source": [
    "*Exercise 11:* Write a guessing game program that will repeatedly guess a number that the users picks, with the user indicating higher or lower, until it correctly guesses the number."
   ]
  },
  {
   "cell_type": "code",
   "execution_count": 115,
   "metadata": {
    "collapsed": true
   },
   "outputs": [],
   "source": [
    "def FindNum(x):\n",
    "    import random\n",
    "    end=\"NO\"\n",
    "    x=random.randint(1,100)\n",
    "    print \"is your number \"+ str(x) + \"? Put 'Y' for Yes and 'N' for NO\"\n",
    "    end=raw_input()\n",
    "    while end is not \"Y\":\n",
    "        print \"put 'h' for higher or 'l' for lower\"\n",
    "        High_low=raw_input()\n",
    "        if High_low is \"h\":\n",
    "            x=x+6\n",
    "        elif High_low is \"l\":\n",
    "            x=x-7\n",
    "        if x>100 | x<0:\n",
    "            x=0\n",
    "        print \"is your number \"+ str(x) + \"? Put 'Y' for Yes and 'N' for NO\"\n",
    "        end=raw_input()\n",
    "    print \"your number was :\" + str(x)\n",
    "        "
   ]
  },
  {
   "cell_type": "code",
   "execution_count": 117,
   "metadata": {},
   "outputs": [
    {
     "name": "stdout",
     "output_type": "stream",
     "text": [
      "pick a number between 1 and 100: 50\n",
      "is your number 67? Put 'Y' for Yes and 'N' for NO\n",
      "n\n",
      "put 'h' for higher or 'l' for lower\n",
      "l\n",
      "is your number 60? Put 'Y' for Yes and 'N' for NO\n",
      "n\n",
      "put 'h' for higher or 'l' for lower\n",
      "l\n",
      "is your number 53? Put 'Y' for Yes and 'N' for NO\n",
      "n\n",
      "put 'h' for higher or 'l' for lower\n",
      "l\n",
      "is your number 46? Put 'Y' for Yes and 'N' for NO\n",
      "n\n",
      "put 'h' for higher or 'l' for lower\n",
      "h\n",
      "is your number 52? Put 'Y' for Yes and 'N' for NO\n",
      "n\n",
      "put 'h' for higher or 'l' for lower\n",
      "l\n",
      "is your number 45? Put 'Y' for Yes and 'N' for NO\n",
      "n\n",
      "put 'h' for higher or 'l' for lower\n",
      "h\n",
      "is your number 51? Put 'Y' for Yes and 'N' for NO\n",
      "n\n",
      "put 'h' for higher or 'l' for lower\n",
      "l\n",
      "is your number 44? Put 'Y' for Yes and 'N' for NO\n",
      "n\n",
      "put 'h' for higher or 'l' for lower\n",
      "h\n",
      "is your number 50? Put 'Y' for Yes and 'N' for NO\n",
      "Y\n",
      "your number was :50\n"
     ]
    }
   ],
   "source": [
    "x=input(\"pick a number between 1 and 100: \")\n",
    "y=FindNum(x)"
   ]
  },
  {
   "cell_type": "markdown",
   "metadata": {},
   "source": [
    "*Exercise 10:* Write a function that takes 2 integers `n` and `m` as input and draws a `n` by `m` game board. For example the following is a 3x3 board:\n",
    "```\n",
    "   --- --- --- \n",
    "  |   |   |   | \n",
    "   --- --- ---  \n",
    "  |   |   |   | \n",
    "   --- --- ---  \n",
    "  |   |   |   | \n",
    "   --- --- --- \n",
    "   ```"
   ]
  },
  {
   "cell_type": "code",
   "execution_count": 43,
   "metadata": {
    "collapsed": true
   },
   "outputs": [],
   "source": [
    "def board(n=3,m=3):\n",
    "    x=list()\n",
    "    y=list()\n",
    "    for i in range (0,n):\n",
    "        x.append(\" --- \")\n",
    "    for i in range (0,m+1):\n",
    "        y.append(\"|    \")\n",
    "    a = ''.join(x)\n",
    "    b = ''.join(y)\n",
    "    for i in range (0,n):\n",
    "        print a\n",
    "        print b\n",
    "    print a"
   ]
  },
  {
   "cell_type": "code",
   "execution_count": 50,
   "metadata": {},
   "outputs": [
    {
     "name": "stdout",
     "output_type": "stream",
     "text": [
      "number of rows:5\n",
      "number of columns :5\n",
      " ---  ---  ---  ---  --- \n",
      "|    |    |    |    |    |    \n",
      " ---  ---  ---  ---  --- \n",
      "|    |    |    |    |    |    \n",
      " ---  ---  ---  ---  --- \n",
      "|    |    |    |    |    |    \n",
      " ---  ---  ---  ---  --- \n",
      "|    |    |    |    |    |    \n",
      " ---  ---  ---  ---  --- \n",
      "|    |    |    |    |    |    \n",
      " ---  ---  ---  ---  --- \n"
     ]
    }
   ],
   "source": [
    "n=input(\"number of rows:\")\n",
    "m=input(\"number of columns :\")\n",
    "board(n,m)"
   ]
  },
  {
   "cell_type": "markdown",
   "metadata": {},
   "source": [
    "*Exercise 11:* Write a function that takes a `n` by `n` matrix representing a tic-tac-toe game, and return -1, 0, 1, or 2 indicating the game is incomplete, the game is a draw, player 1 has won, or player 2 has one, respectively. Here are some example inputs:"
   ]
  },
  {
   "cell_type": "code",
   "execution_count": 4,
   "metadata": {
    "collapsed": true
   },
   "outputs": [],
   "source": [
    "winner_is_2 = [[2, 2, 0],\n",
    "\t[2, 1, 0],\n",
    "\t[2, 1, 1]]\n",
    "\n",
    "winner_is_1 = [[1, 2, 0],\n",
    "\t[2, 1, 0],\n",
    "\t[2, 1, 1]]\n",
    "\n",
    "winner_is_also_1 = [[0, 1, 0],\n",
    "\t[2, 1, 0],\n",
    "\t[2, 1, 1]]\n",
    "\n",
    "no_winner = [[1, 2, 0],\n",
    "\t[2, 1, 0],\n",
    "\t[2, 1, 2]]\n",
    "\n",
    "also_no_winner = [[1, 2, 0],\n",
    "\t[2, 1, 0],\n",
    "\t[2, 1, 0]]"
   ]
  },
  {
   "cell_type": "code",
   "execution_count": 64,
   "metadata": {
    "collapsed": true
   },
   "outputs": [],
   "source": [
    "def Won(x,n,m):\n",
    "    PlayerOneTot=0\n",
    "    PlayerTwoTot=0\n",
    "    WhoWon=-1\n",
    "    Win=False\n",
    "    for i in range (0,n): ###Cheking all rows\n",
    "        PlayerOneTot=0\n",
    "        PlayerTwoTot=0\n",
    "        for j in range (0,m):\n",
    "            if x[i][j]==1:\n",
    "                PlayerOneTot +=1\n",
    "            elif x[i][j]==2:\n",
    "                PlayerTwoTot +=1\n",
    "        if  PlayerOneTot==n:\n",
    "            print \"player one wins\"\n",
    "            WhoWon=1\n",
    "            Win=True\n",
    "            break\n",
    "        elif  PlayerTwoTot==n:\n",
    "            print \"player two wins\"\n",
    "            WhoWon=2\n",
    "            Win=True\n",
    "            break\n",
    " ###########Checking diagonal (left to right)##########\n",
    "    if Win==0:\n",
    "        PlayerOneTot=0\n",
    "        PlayerTwoTot=0\n",
    "        for j in range (0,n):\n",
    "            if x[j][j]==1:\n",
    "                PlayerOneTot +=1\n",
    "            elif x[j][j]==2:\n",
    "                PlayerTwoTot +=1\n",
    "        if  PlayerOneTot==n:\n",
    "            print \"player one wins\"\n",
    "            WhoWon=1\n",
    "            Win=True\n",
    "        elif  PlayerTwoTot==n:\n",
    "            print \"player two wins\"\n",
    "            WhoWon=2\n",
    "            Win=True\n",
    "        else:\n",
    "            PlayerOneTot=0\n",
    "            PlayerTwoTot=0\n",
    "###########Checking diagonal (right to left)##########\n",
    "    if Win==0:\n",
    "        for j in range (0,n): \n",
    "            if x[j][n-(j+1)]==1:\n",
    "                PlayerOneTot +=1\n",
    "            elif x[j][n-(j+1)]==2:\n",
    "                PlayerTwoTot +=1\n",
    "        if  PlayerOneTot==n:\n",
    "            print \"player one wins\"\n",
    "            WhoWon=1\n",
    "            Win=True\n",
    "        elif  PlayerTwoTot==n:\n",
    "            print \"player two wins\"\n",
    "            Win=True\n",
    "            WhoWon=2\n",
    "        else:\n",
    "            PlayerOneTot=0\n",
    "            PlayerTwoTot=0\n",
    "###########Checking colunms##########\n",
    "    if Win==0:\n",
    "        for j in range (0,m): ###Cheking all columns\n",
    "            PlayerOneTot=0\n",
    "            PlayerTwoTot=0\n",
    "            for i in range (0,n):\n",
    "                if x[i][j]==1:\n",
    "                    PlayerOneTot +=1\n",
    "                elif x[i][j]==2:\n",
    "                    PlayerTwoTot +=1\n",
    "            if  PlayerOneTot==n:\n",
    "                print \"player one wins\"\n",
    "                Win=True\n",
    "                WhoWon=1\n",
    "                break\n",
    "            elif  PlayerTwoTot==n:\n",
    "                print \"player two wins\"\n",
    "                WhoWon=2\n",
    "                Win=True\n",
    "                break\n",
    "############checking if draw or incomplete##############\n",
    "    total_entries=0\n",
    "    if Win==0:\n",
    "        for i in range (0,n): ###Cheking all rows\n",
    "            for j in range (0,m):\n",
    "                if x[i][j]==1 or x[i][j]==2:\n",
    "                    total_entries +=1\n",
    "        if total_entries==(n*n):\n",
    "            print \"Game is a draw!\"\n",
    "            WhoWon=0\n",
    "            Win=True\n",
    "        else:\n",
    "            print \"Game incomplete!\"\n",
    "            WhoWon=-1\n",
    "    return Win,WhoWon"
   ]
  },
  {
   "cell_type": "code",
   "execution_count": 70,
   "metadata": {},
   "outputs": [
    {
     "name": "stdout",
     "output_type": "stream",
     "text": [
      "number of rows:3\n",
      "number of columns :3\n",
      "player two wins\n",
      "player one wins\n"
     ]
    }
   ],
   "source": [
    "winner_is_2 = [[2, 2, 0],\n",
    "\t[2, 1, 0],\n",
    "\t[2, 1, 1]]\n",
    "\n",
    "winner_is_1 = [[1, 2, 0],\n",
    "\t[2, 1, 0],\n",
    "\t[2, 1, 1]]\n",
    "\n",
    "winner_is_also_1 = [[0, 1, 0],\n",
    "\t[2, 1, 0],\n",
    "\t[2, 1, 1]]\n",
    "\n",
    "no_winner = [[1, 2, 0],\n",
    "\t[2, 1, 0],\n",
    "\t[2, 1, 2]]\n",
    "\n",
    "also_no_winner = [[1, 2, 0],\n",
    "\t[2, 1, 0],\n",
    "\t[2, 1, 0]]\n",
    "\n",
    "n=input(\"number of rows:\")\n",
    "m=input(\"number of columns :\")\n",
    "WhoWon=-1\n",
    "Win=False\n",
    "while WhoWon==-1:\n",
    "    Win,WhoWon=Won(winner_is_2,n,m)\n",
    "WhoWon=-1\n",
    "while WhoWon==-1:\n",
    "    Win,WhoWon=Won(winner_is_1,n,m)\n",
    "####### my code won't work for \"no_winner\" because I assumed the board would be filled \n",
    "####### out even if obvious that there is no winner"
   ]
  },
  {
   "cell_type": "markdown",
   "metadata": {},
   "source": [
    "### *Exercise 12:* Modify exercise 10, so that it takes a matrix of the form from exercise 11 and draws a tic-tac-tie board with \"X\"s and \"O\"s.  "
   ]
  },
  {
   "cell_type": "code",
   "execution_count": 78,
   "metadata": {
    "collapsed": true
   },
   "outputs": [],
   "source": [
    "def NewBoard(z,n=3,m=3):\n",
    "    x=list()\n",
    "    for i in range (0,n): ###Cheking all rows\n",
    "        for j in range (0,n):\n",
    "            if z[i][j]==2:\n",
    "                z[i][j]=\"| X|\"\n",
    "            elif z[i][j]==1:\n",
    "                z[i][j]=\"| O|\"\n",
    "            elif z[i][j]==0:\n",
    "                z[i][j]=\"   \"\n",
    "            else:\n",
    "                print \"\",\n",
    "    for i in range (0,n):\n",
    "        x.append(\" --- \")\n",
    "    a = ''.join(x)\n",
    "    print\"\\n\" \n",
    "    for i in range (0,n):\n",
    "        print a\n",
    "        for j in range (0,n):\n",
    "            print z[i][j],\n",
    "        print\"\"\n",
    "    print a\n",
    "    for i in range (0,n): ###Cheking all rows\n",
    "        for j in range (0,n):\n",
    "            if z[i][j] is \"| X|\":\n",
    "                z[i][j]=2\n",
    "            elif z[i][j] is \"| O|\":\n",
    "                z[i][j]=1\n",
    "            else:\n",
    "                z[i][j]=0\n",
    "###############################################################################################################\n",
    "def Won(x,n,m):\n",
    "    PlayerOneTot=0\n",
    "    PlayerTwoTot=0\n",
    "    WhoWon=-1\n",
    "    Win=False\n",
    "    for i in range (0,n): ###Cheking all rows\n",
    "        PlayerOneTot=0\n",
    "        PlayerTwoTot=0\n",
    "        for j in range (0,m):\n",
    "            if x[i][j]==1:\n",
    "                PlayerOneTot +=1\n",
    "            elif x[i][j]==2:\n",
    "                PlayerTwoTot +=1\n",
    "        if  PlayerOneTot==n:\n",
    "            print \"player one wins\"\n",
    "            WhoWon=1\n",
    "            Win=True\n",
    "            break\n",
    "        elif  PlayerTwoTot==n:\n",
    "            print \"player two wins\"\n",
    "            WhoWon=2\n",
    "            Win=True\n",
    "            break\n",
    " ###########Checking diagonal (left to right)##########\n",
    "    if Win==0:\n",
    "        PlayerOneTot=0\n",
    "        PlayerTwoTot=0\n",
    "        for j in range (0,n):\n",
    "            if x[j][j]==1:\n",
    "                PlayerOneTot +=1\n",
    "            elif x[j][j]==2:\n",
    "                PlayerTwoTot +=1\n",
    "        if  PlayerOneTot==n:\n",
    "            print \"player one wins\"\n",
    "            WhoWon=1\n",
    "            Win=True\n",
    "        elif  PlayerTwoTot==n:\n",
    "            print \"player two wins\"\n",
    "            WhoWon=2\n",
    "            Win=True\n",
    "        else:\n",
    "            PlayerOneTot=0\n",
    "            PlayerTwoTot=0\n",
    "###########Checking diagonal (right to left)##########\n",
    "    if Win==0:\n",
    "        for j in range (0,n): \n",
    "            if x[j][n-(j+1)]==1:\n",
    "                PlayerOneTot +=1\n",
    "            elif x[j][n-(j+1)]==2:\n",
    "                PlayerTwoTot +=1\n",
    "        if  PlayerOneTot==n:\n",
    "            print \"player one wins\"\n",
    "            WhoWon=1\n",
    "            Win=True\n",
    "        elif  PlayerTwoTot==n:\n",
    "            print \"player two wins\"\n",
    "            Win=True\n",
    "            WhoWon=2\n",
    "        else:\n",
    "            PlayerOneTot=0\n",
    "            PlayerTwoTot=0\n",
    "###########Checking colunms##########\n",
    "    if Win==0:\n",
    "        for j in range (0,m): ###Cheking all columns\n",
    "            PlayerOneTot=0\n",
    "            PlayerTwoTot=0\n",
    "            for i in range (0,n):\n",
    "                if x[i][j]==1:\n",
    "                    PlayerOneTot +=1\n",
    "                elif x[i][j]==2:\n",
    "                    PlayerTwoTot +=1\n",
    "            if  PlayerOneTot==n:\n",
    "                print \"player one wins\"\n",
    "                Win=True\n",
    "                WhoWon=1\n",
    "                break\n",
    "            elif  PlayerTwoTot==n:\n",
    "                print \"player two wins\"\n",
    "                WhoWon=2\n",
    "                Win=True\n",
    "                break\n",
    "############checking if draw or incomplete##############\n",
    "    total_entries=0\n",
    "    if Win==0:\n",
    "        for i in range (0,n): ###Cheking all rows\n",
    "            for j in range (0,m):\n",
    "                if x[i][j]==1 or x[i][j]==2:\n",
    "                    total_entries +=1\n",
    "        if total_entries==(n*n):\n",
    "            print \"Game is a draw!\"\n",
    "            WhoWon=0\n",
    "            Win=True\n",
    "        else:\n",
    "            print \"Game incomplete!\"\n",
    "            WhoWon=-1\n",
    "    return Win,WhoWon"
   ]
  },
  {
   "cell_type": "code",
   "execution_count": 62,
   "metadata": {},
   "outputs": [
    {
     "name": "stdout",
     "output_type": "stream",
     "text": [
      "number of rows:3\n",
      "number of columns :3\n",
      "\n",
      "\n",
      " ---  ---  --- \n",
      "| X| | X|     \n",
      " ---  ---  --- \n",
      "| X| | O|     \n",
      " ---  ---  --- \n",
      "| X| | O| | O| \n",
      " ---  ---  --- \n"
     ]
    }
   ],
   "source": [
    "winner_is_2 = [[2, 2, 0],\n",
    "\t[2, 1, 0],\n",
    "\t[2, 1, 1]]\n",
    "\n",
    "winner_is_1 = [[1, 2, 0],\n",
    "\t[2, 1, 0],\n",
    "\t[2, 1, 1]]\n",
    "\n",
    "winner_is_also_1 = [[0, 1, 0],\n",
    "\t[2, 1, 0],\n",
    "\t[2, 1, 1]]\n",
    "\n",
    "no_winner = [[1, 2, 0],\n",
    "\t[2, 1, 0],\n",
    "\t[2, 1, 2]]\n",
    "\n",
    "also_no_winner = [[1, 2, 0],\n",
    "\t[2, 1, 0],\n",
    "\t[2, 1, 0]]\n",
    "###############################################################################################\n",
    "n=input(\"number of rows:\")\n",
    "m=input(\"number of columns :\")\n",
    "k=NewBoard(winner_is_2,n,m)"
   ]
  },
  {
   "cell_type": "markdown",
   "metadata": {},
   "source": [
    "### *Exercise 12:* Use the two previous exercises to implement a full tic-tac-toe game, where 2 players are repeatedly asked for x and y coordinates of where they wish to place a mark, an appropriate board is drawn, and the game status is checked until a player wins or a draw occurs."
   ]
  },
  {
   "cell_type": "code",
   "execution_count": 66,
   "metadata": {
    "collapsed": true
   },
   "outputs": [],
   "source": [
    "def Player1Move(row,column,z,n):\n",
    "    MoveDone=False\n",
    "    while MoveDone==0:\n",
    "        try:\n",
    "            if (z[row][column] ==0) or \"   \":\n",
    "                z[row][column]=1\n",
    "                MoveDone=True\n",
    "            elif row>n | column>n:\n",
    "                print\"out of bounds, try again\"\n",
    "                row=input(\"Enter row:\")\n",
    "                column=input(\"enter column:\")\n",
    "            else:\n",
    "                print \"already a marker here\"\n",
    "                row=input(\"Enter row:\")\n",
    "                column=input(\"enter column:\")\n",
    "        except IndexError:\n",
    "            print \"Not valid\"\n",
    "            row=input(\"Enter row:\")\n",
    "            column=input(\"enter column:\")\n",
    "    return z\n",
    "##############################################################################################\n",
    "def Player2Move(row,column,z,n):\n",
    "    MoveDone=False\n",
    "    while MoveDone==0:\n",
    "        try:\n",
    "            if (z[row][column] ==0) or \"   \":\n",
    "                z[row][column]=2\n",
    "                MoveDone=True\n",
    "            elif row>n | column>n:\n",
    "                print\"out of bounds, try again\"\n",
    "                row=input(\"Enter row:\")\n",
    "                column=input(\"enter column:\")\n",
    "            else:\n",
    "                print \"already a marker here\"\n",
    "                row=input(\"Enter row:\")\n",
    "                column=input(\"enter column:\")\n",
    "        except IndexError:\n",
    "            print \"Not valid\"\n",
    "            row=input(\"Enter row:\")\n",
    "            column=input(\"enter column:\")\n",
    "    return z"
   ]
  },
  {
   "cell_type": "code",
   "execution_count": 80,
   "metadata": {},
   "outputs": [
    {
     "name": "stdout",
     "output_type": "stream",
     "text": [
      "number of rows:3\n",
      "number of columns :3\n",
      "Player1:what row would you like to place your marker?0\n",
      "Player1:what column would you like to place your marker?0\n",
      "\n",
      "\n",
      " ---  ---  --- \n",
      "| O|         \n",
      " ---  ---  --- \n",
      "            \n",
      " ---  ---  --- \n",
      "            \n",
      " ---  ---  --- \n",
      "Game incomplete!\n",
      "Player2:what row would you like to place your marker?1\n",
      "Player2:what column would you like to place your marker?0\n",
      "\n",
      "\n",
      " ---  ---  --- \n",
      "| O|         \n",
      " ---  ---  --- \n",
      "| X|         \n",
      " ---  ---  --- \n",
      "            \n",
      " ---  ---  --- \n",
      "Game incomplete!\n",
      "Player1:what row would you like to place your marker?1\n",
      "Player1:what column would you like to place your marker?1\n",
      "\n",
      "\n",
      " ---  ---  --- \n",
      "| O|         \n",
      " ---  ---  --- \n",
      "| X| | O|     \n",
      " ---  ---  --- \n",
      "            \n",
      " ---  ---  --- \n",
      "Game incomplete!\n",
      "Player2:what row would you like to place your marker?2\n",
      "Player2:what column would you like to place your marker?0\n",
      "\n",
      "\n",
      " ---  ---  --- \n",
      "| O|         \n",
      " ---  ---  --- \n",
      "| X| | O|     \n",
      " ---  ---  --- \n",
      "| X|         \n",
      " ---  ---  --- \n",
      "Game incomplete!\n",
      "Player1:what row would you like to place your marker?3\n",
      "Player1:what column would you like to place your marker?3\n",
      "Not valid\n",
      "Enter row:2\n",
      "enter column:2\n",
      "\n",
      "\n",
      " ---  ---  --- \n",
      "| O|         \n",
      " ---  ---  --- \n",
      "| X| | O|     \n",
      " ---  ---  --- \n",
      "| X|     | O| \n",
      " ---  ---  --- \n",
      "player one wins\n"
     ]
    }
   ],
   "source": [
    "n=input(\"number of rows:\")\n",
    "m=input(\"number of columns :\")\n",
    "Win=False\n",
    "WhoWon=-1\n",
    "y=list()\n",
    "for i in range(n):\n",
    "    row=list()\n",
    "    for j in range(n):\n",
    "        row.append(0)\n",
    "    y.append(row)\n",
    "while WhoWon==-1:    \n",
    "    row=input(\"Player1:what row would you like to place your marker?\")\n",
    "    column=input(\"Player1:what column would you like to place your marker?\")\n",
    "    y=Player1Move(row,column,y,n)\n",
    "    NewBoard(y,n,m)\n",
    "    Win,WhoWon=Won(y,n,m)\n",
    "    if  WhoWon !=-1:\n",
    "        break\n",
    "    row=input(\"Player2:what row would you like to place your marker?\")\n",
    "    column=input(\"Player2:what column would you like to place your marker?\")\n",
    "    y=Player2Move(row,column,y,n)\n",
    "    NewBoard(y,n,m)\n",
    "    Win,WhoWon=Won(y,n,m)"
   ]
  },
  {
   "cell_type": "markdown",
   "metadata": {
    "collapsed": true
   },
   "source": []
  },
  {
   "cell_type": "code",
   "execution_count": null,
   "metadata": {
    "collapsed": true
   },
   "outputs": [],
   "source": []
  }
 ],
 "metadata": {
  "kernelspec": {
   "display_name": "Python 2",
   "language": "python",
   "name": "python2"
  },
  "language_info": {
   "codemirror_mode": {
    "name": "ipython",
    "version": 2
   },
   "file_extension": ".py",
   "mimetype": "text/x-python",
   "name": "python",
   "nbconvert_exporter": "python",
   "pygments_lexer": "ipython2",
   "version": "2.7.13"
  }
 },
 "nbformat": 4,
 "nbformat_minor": 2
}
