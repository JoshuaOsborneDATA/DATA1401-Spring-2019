{
 "cells": [
  {
   "cell_type": "markdown",
   "metadata": {},
   "source": [
    "## Lab 4\n",
    "\n",
    "In this lab we will become familiar with distributions, histograms, and functional programming. \n",
    "\n",
    "\n",
    "### Uniform Distribution\n",
    "Lets start with generating some fake random data. You can get a random number between 0 and 1 using the python random module as follow:"
   ]
  },
  {
   "cell_type": "code",
   "execution_count": 15,
   "metadata": {},
   "outputs": [
    {
     "name": "stdout",
     "output_type": "stream",
     "text": [
      " The Value of x is 0.229390083909\n"
     ]
    }
   ],
   "source": [
    "import random\n",
    "x=random.random()\n",
    "print \"The Value of x is\", x"
   ]
  },
  {
   "cell_type": "markdown",
   "metadata": {},
   "source": [
    "Everytime you call random, you will get a new number.\n",
    "\n",
    "*Exercise 1:* Using random, write a function `generate_uniform(N, mymin, mymax)`, that returns a python list containing N random numbers between specified minimum and maximum value. Note that you may want to quickly work out on paper how to turn numbers between 0 and 1 to between other values. "
   ]
  },
  {
   "cell_type": "code",
   "execution_count": 16,
   "metadata": {
    "collapsed": true
   },
   "outputs": [],
   "source": [
    "# Skeleton\n",
    "def generate_uniform(N,min,max):\n",
    "    out = []\n",
    "    ### BEGIN SOLUTION\n",
    "\n",
    "    for i in range (0,N):\n",
    "        K=(random.random())*(max-min)+min\n",
    "        out.append(K)        \n",
    "    \n",
    "    ### END SOLUTION\n",
    "    return out"
   ]
  },
  {
   "cell_type": "code",
   "execution_count": 17,
   "metadata": {},
   "outputs": [
    {
     "name": "stdout",
     "output_type": "stream",
     "text": [
      "Data Type: <type 'list'>\n",
      "Data Length: 1000\n",
      "Type of Data Contents: <type 'float'>\n",
      "Data Minimum: -9.99013836976\n",
      "Data Maximum: 9.9940371946\n"
     ]
    }
   ],
   "source": [
    "# Test you solution here\n",
    "data=generate_uniform(1000,-10,10)\n",
    "print \"Data Type:\", type(data)\n",
    "print \"Data Length:\", len(data)\n",
    "if len(data)>0: \n",
    "    print \"Type of Data Contents:\", type(data[0])\n",
    "    print \"Data Minimum:\", min(data)\n",
    "    print \"Data Maximum:\", max(data)"
   ]
  },
  {
   "cell_type": "markdown",
   "metadata": {},
   "source": [
    "*Exercise 2a:* \n",
    "Write a function that computes the mean of values in a list."
   ]
  },
  {
   "cell_type": "code",
   "execution_count": 107,
   "metadata": {},
   "outputs": [
    {
     "name": "stdout",
     "output_type": "stream",
     "text": [
      "\n"
     ]
    }
   ],
   "source": [
    "# Skeleton\n",
    "def mean(Data):\n",
    "    m=0.\n",
    "    \n",
    "    ### BEGIN SOLUTION\n",
    "\n",
    "    m=sum(Data)/len(Data)  \n",
    "    \n",
    "    \n",
    "    ### END SOLUTION\n",
    "    \n",
    "    return m"
   ]
  },
  {
   "cell_type": "code",
   "execution_count": 108,
   "metadata": {},
   "outputs": [
    {
     "name": "stdout",
     "output_type": "stream",
     "text": [
      "Mean of Data: -0.223348382522\n"
     ]
    }
   ],
   "source": [
    "# Test your solution here\n",
    "x_bar=mean(data)\n",
    "print \"Mean of Data:\", mean(data)"
   ]
  },
  {
   "cell_type": "markdown",
   "metadata": {},
   "source": [
    "*Exercise 2b:* \n",
    "Write a function that computes the variance of values in a list."
   ]
  },
  {
   "cell_type": "code",
   "execution_count": 134,
   "metadata": {},
   "outputs": [],
   "source": [
    "# Skeleton\n",
    "def variance(x):\n",
    "    m=0\n",
    "    \n",
    "    ### BEGIN SOLUTION\n",
    "    m= sum(map(lambda y:y**2,x))/float(len(x))-mean(x)**2\n",
    "        \n",
    "    \n",
    "    ### END SOLUTION\n",
    "    \n",
    "    return m"
   ]
  },
  {
   "cell_type": "code",
   "execution_count": 135,
   "metadata": {},
   "outputs": [
    {
     "name": "stdout",
     "output_type": "stream",
     "text": [
      "Variance of Data: 33.865523163\n"
     ]
    }
   ],
   "source": [
    "# Test your solution here\n",
    "print \"Variance of Data:\", variance(data)"
   ]
  },
  {
   "cell_type": "markdown",
   "metadata": {},
   "source": [
    "## Histogramming"
   ]
  },
  {
   "cell_type": "markdown",
   "metadata": {},
   "source": [
    "*Exercise 3:* Write a function that bins the data so that you can create a histogram. An example of how to implement histogramming is the following logic:\n",
    "\n",
    "* User inputs a list of values `x` and optionally `n_bins` which defaults to 10.\n",
    "* If not supplied, find the minimum and maximum (`x_min`,`x_max`) of the values in x.\n",
    "* Determine the bin size (`bin_size`) by dividing the range of the function by the number of bins.\n",
    "* Create an empty list of zeros of size `n_bins`, call it `hist`.\n",
    "* Loop over the values in `x`\n",
    "    * Loop over the values in `hist` with index `i`:\n",
    "        * If x is between `x_min+i*bin_size` and `x_min+i*2*bin_size`, increment `hist[i].` \n",
    "        * For efficiency, try to use continue to goto the next bin and data point.\n",
    "* Return `hist` and the list corresponding of the bin edges (i.e. of `x_min+i*bin_size`).    "
   ]
  },
  {
   "cell_type": "code",
   "execution_count": 120,
   "metadata": {
    "collapsed": true
   },
   "outputs": [],
   "source": [
    "# Solution\n",
    "def histogram(x,n_bins=10,x_min=None,x_max=None):\n",
    "    ### BEGIN SOLUTION\n",
    "    x_max=round(max(x))\n",
    "    x_min=round(min(x)) \n",
    "    bin_size=((x_max-(x_min))/n_bins)\n",
    "    bin_edges=[0]*n_bins\n",
    "    hist=[0]*n_bins\n",
    "    for j in range (0,len(x)):\n",
    "        for i in range (0,n_bins):\n",
    "            if x[j]>(x_min+i*bin_size) and x[j]<(x_min+(i+1)*bin_size):\n",
    "                hist[i] +=1\n",
    "                bin_edges[i]=round(x_min+(i*bin_size),2)\n",
    "                continue\n",
    "    bin_edges=bin_edges+[x_max]\n",
    "    ### END SOLUTION\n",
    "\n",
    "    return hist,bin_edges"
   ]
  },
  {
   "cell_type": "code",
   "execution_count": 121,
   "metadata": {},
   "outputs": [
    {
     "name": "stdout",
     "output_type": "stream",
     "text": [
      "[11, 17, 10, 9, 8, 11, 8, 10, 8, 11, 10, 10, 6, 14, 15, 14, 16, 10, 4, 10, 10, 7, 10, 7, 13, 10, 12, 12, 10, 14, 7, 15, 8, 8, 9, 14, 12, 12, 11, 15, 11, 6, 13, 15, 8, 8, 7, 13, 10, 10, 13, 10, 4, 6, 11, 5, 7, 11, 12, 11, 5, 5, 4, 11, 6, 15, 11, 6, 8, 6, 12, 10, 19, 11, 10, 9, 12, 10, 9, 10, 8, 12, 11, 6, 11, 6, 9, 13, 8, 4, 16, 10, 13, 9, 11, 4, 10, 10, 12, 9]\n"
     ]
    }
   ],
   "source": [
    "# Test your solution here\n",
    "h,b=histogram(data,100)\n",
    "print h"
   ]
  },
  {
   "cell_type": "markdown",
   "metadata": {},
   "source": [
    "*Exercise 4:* Write a function that uses the histogram function in the previous exercise to create a text-based \"graph\". For example the output could look like the following:\n",
    "```\n",
    "[  0,  9] : ######\n",
    "[  1,  2] : #####\n",
    "[  2,  3] : ######\n",
    "[  3,  4] : ####\n",
    "[  4,  5] : ####\n",
    "[  5,  6] : ######\n",
    "[  6,  7] : #####\n",
    "[  7,  8] : ######\n",
    "[  8,  9] : ####\n",
    "[  9, 10] : #####\n",
    "```\n",
    "\n",
    "Where each line corresponds to a bin and the number of `#`'s are proportional to the value of the data in the bin. "
   ]
  },
  {
   "cell_type": "code",
   "execution_count": 122,
   "metadata": {
    "collapsed": true
   },
   "outputs": [],
   "source": [
    "# Solution\n",
    "def draw_histogram(h,b,n_bins=20,character=\"#\",max_character_per_line=20):\n",
    "    ### BEGIN SOLUTION\n",
    "    i=0\n",
    "    h2=h\n",
    "    for k in range (0,len(h)):\n",
    "        if h[k]>max_character_per_line:\n",
    "            h2[k]=max_character_per_line\n",
    "    while i<n_bins:\n",
    "        print \"[\",b[i],b[i+1],\"] : \",h2[i]*character\n",
    "        i+=1\n",
    "\n",
    "    ### END SOLUTION\n",
    "\n",
    "    return "
   ]
  },
  {
   "cell_type": "code",
   "execution_count": 123,
   "metadata": {},
   "outputs": [
    {
     "name": "stdout",
     "output_type": "stream",
     "text": [
      "[ -10.0 -9.0 ] :  #######################################################\n",
      "[ -9.0 -8.0 ] :  ################################################\n",
      "[ -8.0 -7.0 ] :  #######################################################\n",
      "[ -7.0 -6.0 ] :  ######################################################\n",
      "[ -6.0 -5.0 ] :  ###############################################\n",
      "[ -5.0 -4.0 ] :  ##########################################################\n",
      "[ -4.0 -3.0 ] :  ###############################################\n",
      "[ -3.0 -2.0 ] :  ################################################################\n",
      "[ -2.0 -1.0 ] :  #####################################################\n",
      "[ -1.0 0.0 ] :  ################################################\n",
      "[ 0.0 1.0 ] :  ############################################\n",
      "[ 1.0 2.0 ] :  ##############################################\n",
      "[ 2.0 3.0 ] :  ###############################\n",
      "[ 3.0 4.0 ] :  ##############################################\n",
      "[ 4.0 5.0 ] :  ##############################################################\n",
      "[ 5.0 6.0 ] :  ##################################################\n",
      "[ 6.0 7.0 ] :  ################################################\n",
      "[ 7.0 8.0 ] :  ########################################\n",
      "[ 8.0 9.0 ] :  ###########################################################\n",
      "[ 9.0 10.0 ] :  #############################################\n"
     ]
    }
   ],
   "source": [
    "# Test your solution here\n",
    "h,b=histogram(data,20)\n",
    "draw_histogram(h,b,20,'#',70)"
   ]
  },
  {
   "cell_type": "markdown",
   "metadata": {},
   "source": [
    "## Functional Programming\n",
    "\n",
    "*Exercise 5:* Write a function the applies a booling function (that returns true/false) to every element in data, and return a list of indices of elements where the result was true. Use this function to find the indices of entries greater than 0.5. "
   ]
  },
  {
   "cell_type": "code",
   "execution_count": 124,
   "metadata": {},
   "outputs": [],
   "source": [
    "def where(mylist,myfunc):\n",
    "    indices=[]\n",
    "    ### BEGIN SOLUTION\n",
    "    i=0\n",
    "    Go=True\n",
    "    while Go==True:\n",
    "        try:\n",
    "            if myfunc[i]==1:\n",
    "                indices.append(i)\n",
    "            i+=1\n",
    "        except IndexError:\n",
    "            Go=False\n",
    "    return indices\n",
    "\n",
    "def list1(x):\n",
    "    out= []\n",
    "    for j in range (0,len(x)):\n",
    "        if x[j]>0.5:\n",
    "            out.append(True)\n",
    "        else:\n",
    "            out.append(False)\n",
    "    \n",
    "    ### END SOLUTION\n",
    "    \n",
    "    return out"
   ]
  },
  {
   "cell_type": "code",
   "execution_count": 125,
   "metadata": {},
   "outputs": [
    {
     "name": "stdout",
     "output_type": "stream",
     "text": [
      "the value is greater than 0.5 at indices:  [0, 1, 2, 6, 8, 9, 10, 11, 12, 15, 16, 19, 20, 22, 23, 25, 26, 27, 28, 32, 33, 37, 40, 41, 43, 45, 47, 48, 53, 58, 62, 64, 68, 69, 71, 75, 76, 79, 80, 82, 83, 86, 89, 91, 93, 94, 97, 98, 99, 100, 101, 102, 105, 110, 111, 112, 115, 118, 120, 121, 123, 124, 125, 127, 128, 129, 130, 132, 133, 138, 139, 140, 147, 148, 149, 151, 154, 155, 159, 163, 164, 168, 169, 172, 173, 175, 176, 180, 182, 185, 187, 190, 194, 199, 200, 204, 206, 208, 210, 213, 216, 217, 219, 221, 222, 226, 229, 230, 233, 235, 236, 238, 241, 242, 243, 248, 249, 256, 262, 264, 265, 266, 271, 272, 275, 276, 277, 278, 281, 288, 290, 291, 292, 296, 297, 305, 307, 310, 311, 312, 313, 314, 315, 316, 317, 319, 321, 324, 327, 329, 330, 332, 337, 339, 342, 343, 347, 351, 352, 355, 356, 358, 360, 361, 366, 367, 369, 371, 373, 375, 376, 378, 379, 383, 384, 385, 386, 394, 396, 401, 402, 403, 404, 405, 407, 411, 416, 417, 418, 419, 421, 422, 427, 428, 432, 433, 434, 435, 437, 439, 441, 442, 444, 445, 446, 449, 450, 452, 454, 456, 457, 459, 463, 469, 470, 471, 472, 473, 474, 475, 477, 479, 483, 487, 489, 490, 494, 495, 498, 499, 503, 505, 506, 509, 512, 525, 526, 527, 529, 530, 531, 537, 541, 542, 544, 545, 550, 551, 554, 557, 558, 560, 561, 562, 563, 566, 567, 568, 572, 573, 575, 580, 581, 587, 588, 589, 591, 594, 596, 597, 598, 600, 602, 605, 609, 610, 611, 612, 613, 620, 627, 632, 633, 637, 641, 643, 644, 648, 651, 652, 653, 654, 658, 659, 661, 662, 664, 667, 668, 673, 676, 679, 680, 681, 683, 685, 690, 691, 692, 694, 695, 696, 697, 698, 699, 700, 701, 705, 706, 711, 712, 713, 716, 717, 720, 726, 728, 730, 732, 734, 735, 739, 745, 748, 750, 751, 754, 756, 759, 760, 761, 762, 767, 768, 769, 770, 777, 787, 788, 789, 794, 795, 796, 797, 798, 799, 802, 803, 804, 806, 808, 811, 813, 814, 816, 818, 821, 822, 823, 830, 831, 834, 835, 836, 837, 840, 842, 845, 846, 849, 850, 851, 852, 857, 860, 864, 867, 868, 871, 873, 874, 875, 877, 882, 887, 888, 890, 897, 898, 899, 900, 907, 908, 911, 912, 917, 919, 920, 923, 924, 927, 930, 934, 936, 937, 939, 942, 943, 945, 947, 949, 950, 951, 952, 953, 959, 962, 963, 967, 968, 970, 972, 973, 974, 975, 976, 977, 978, 981, 982, 984, 986, 989, 991, 997]\n"
     ]
    }
   ],
   "source": [
    "# Test your solution here\n",
    "print \"the value is greater than 0.5 at indices: \",where(data,list1(data))"
   ]
  },
  {
   "cell_type": "markdown",
   "metadata": {},
   "source": [
    "*Exercise 6:* The inrange(mymin,mymax) function below returns a function that tests if it's input is between the specified values. Write corresponding functions that test:\n",
    "* Even\n",
    "* Odd\n",
    "* Greater than\n",
    "* Less than\n",
    "* Equal\n",
    "* Divisible by"
   ]
  },
  {
   "cell_type": "code",
   "execution_count": 126,
   "metadata": {},
   "outputs": [
    {
     "name": "stdout",
     "output_type": "stream",
     "text": [
      "True True False False False\n",
      "False False True True False\n",
      "Number of Entries passing F1:"
     ]
    },
    {
     "ename": "TypeError",
     "evalue": "'bool' object has no attribute '__getitem__'",
     "output_type": "error",
     "traceback": [
      "\u001b[0;31m\u001b[0m",
      "\u001b[0;31mTypeError\u001b[0mTraceback (most recent call last)",
      "\u001b[0;32m<ipython-input-126-b9e0de24143d>\u001b[0m in \u001b[0;36m<module>\u001b[0;34m()\u001b[0m\n\u001b[1;32m     12\u001b[0m \u001b[0;32mprint\u001b[0m \u001b[0mF2\u001b[0m\u001b[0;34m(\u001b[0m\u001b[0;36m0\u001b[0m\u001b[0;34m)\u001b[0m\u001b[0;34m,\u001b[0m \u001b[0mF2\u001b[0m\u001b[0;34m(\u001b[0m\u001b[0;36m1\u001b[0m\u001b[0;34m)\u001b[0m\u001b[0;34m,\u001b[0m \u001b[0mF2\u001b[0m\u001b[0;34m(\u001b[0m\u001b[0;36m10\u001b[0m\u001b[0;34m)\u001b[0m\u001b[0;34m,\u001b[0m \u001b[0mF2\u001b[0m\u001b[0;34m(\u001b[0m\u001b[0;36m15\u001b[0m\u001b[0;34m)\u001b[0m\u001b[0;34m,\u001b[0m \u001b[0mF2\u001b[0m\u001b[0;34m(\u001b[0m\u001b[0;36m20\u001b[0m\u001b[0;34m)\u001b[0m\u001b[0;34m\u001b[0m\u001b[0m\n\u001b[1;32m     13\u001b[0m \u001b[0;34m\u001b[0m\u001b[0m\n\u001b[0;32m---> 14\u001b[0;31m \u001b[0;32mprint\u001b[0m \u001b[0;34m\"Number of Entries passing F1:\"\u001b[0m\u001b[0;34m,\u001b[0m \u001b[0mlen\u001b[0m\u001b[0;34m(\u001b[0m\u001b[0mwhere\u001b[0m\u001b[0;34m(\u001b[0m\u001b[0mdata\u001b[0m\u001b[0;34m,\u001b[0m\u001b[0mF1\u001b[0m\u001b[0;34m(\u001b[0m\u001b[0mdata\u001b[0m\u001b[0;34m)\u001b[0m\u001b[0;34m)\u001b[0m\u001b[0;34m)\u001b[0m\u001b[0;34m\u001b[0m\u001b[0m\n\u001b[0m\u001b[1;32m     15\u001b[0m \u001b[0;32mprint\u001b[0m \u001b[0;34m\"Number of Entries passing F2:\"\u001b[0m\u001b[0;34m,\u001b[0m \u001b[0mlen\u001b[0m\u001b[0;34m(\u001b[0m\u001b[0mwhere\u001b[0m\u001b[0;34m(\u001b[0m\u001b[0mdata\u001b[0m\u001b[0;34m,\u001b[0m\u001b[0mF2\u001b[0m\u001b[0;34m(\u001b[0m\u001b[0mdata\u001b[0m\u001b[0;34m)\u001b[0m\u001b[0;34m)\u001b[0m\u001b[0;34m)\u001b[0m\u001b[0;34m\u001b[0m\u001b[0m\n",
      "\u001b[0;32m<ipython-input-124-0eeae560f103>\u001b[0m in \u001b[0;36mwhere\u001b[0;34m(mylist, myfunc)\u001b[0m\n\u001b[1;32m      6\u001b[0m     \u001b[0;32mwhile\u001b[0m \u001b[0mGo\u001b[0m\u001b[0;34m==\u001b[0m\u001b[0mTrue\u001b[0m\u001b[0;34m:\u001b[0m\u001b[0;34m\u001b[0m\u001b[0m\n\u001b[1;32m      7\u001b[0m         \u001b[0;32mtry\u001b[0m\u001b[0;34m:\u001b[0m\u001b[0;34m\u001b[0m\u001b[0m\n\u001b[0;32m----> 8\u001b[0;31m             \u001b[0;32mif\u001b[0m \u001b[0mmyfunc\u001b[0m\u001b[0;34m[\u001b[0m\u001b[0mi\u001b[0m\u001b[0;34m]\u001b[0m\u001b[0;34m==\u001b[0m\u001b[0;36m1\u001b[0m\u001b[0;34m:\u001b[0m\u001b[0;34m\u001b[0m\u001b[0m\n\u001b[0m\u001b[1;32m      9\u001b[0m                 \u001b[0mindices\u001b[0m\u001b[0;34m.\u001b[0m\u001b[0mappend\u001b[0m\u001b[0;34m(\u001b[0m\u001b[0mi\u001b[0m\u001b[0;34m)\u001b[0m\u001b[0;34m\u001b[0m\u001b[0m\n\u001b[1;32m     10\u001b[0m             \u001b[0mi\u001b[0m\u001b[0;34m+=\u001b[0m\u001b[0;36m1\u001b[0m\u001b[0;34m\u001b[0m\u001b[0m\n",
      "\u001b[0;31mTypeError\u001b[0m: 'bool' object has no attribute '__getitem__'"
     ]
    }
   ],
   "source": [
    "def in_range(mymin,mymax):\n",
    "    def testrange(x):\n",
    "        return x<mymax and x>=mymin\n",
    "    return testrange\n",
    "    \n",
    "# Examples:\n",
    "F1=in_range(0,10)\n",
    "F2=in_range(10,20)\n",
    "\n",
    "# Test of in_range\n",
    "print F1(0), F1(1), F1(10), F1(15), F1(20)\n",
    "print F2(0), F2(1), F2(10), F2(15), F2(20)\n",
    "\n",
    "print \"Number of Entries passing F1:\", len(where(data,F1(data)))\n",
    "print \"Number of Entries passing F2:\", len(where(data,F2(data)))"
   ]
  },
  {
   "cell_type": "code",
   "execution_count": 127,
   "metadata": {},
   "outputs": [
    {
     "name": "stdout",
     "output_type": "stream",
     "text": [
      "\n"
     ]
    }
   ],
   "source": [
    "### BEGIN SOLUTION\n",
    "\n",
    "def Even(x):\n",
    "    if (x%2) ==0: \n",
    "        print x, \" is even\"\n",
    "        return True\n",
    "    else:\n",
    "        print x, \" is not even\"\n",
    "        return False\n",
    "\n",
    "def Odd(x):\n",
    "    if (x%2) ==0:\n",
    "        print x,\" is not odd\"\n",
    "        return False\n",
    "    else:\n",
    "        print x,\" is odd\"\n",
    "        return True\n",
    "\n",
    "def Greater_than(x,y):\n",
    "    if x>y:\n",
    "        print x,\" is greater than \",y\n",
    "        return True\n",
    "    else:\n",
    "        print x, \"is not greater than \",y\n",
    "        return False\n",
    "    \n",
    "def Less_than(x,y):\n",
    "    if x<y:\n",
    "        print x,\" is less than \",y\n",
    "        return True\n",
    "    else:\n",
    "        print x,\" is not less than \",y\n",
    "        return False\n",
    "    \n",
    "def Equal(x,y):\n",
    "    if x==y:\n",
    "        print x,\" is equal to \",y\n",
    "        return True\n",
    "    else:\n",
    "        print x,\" is not equal to \",y\n",
    "        return False\n",
    "    \n",
    "def Divisible_by(x,y):\n",
    "    if x%y==0:\n",
    "        print x, \" is divisible by \",y\n",
    "        return True\n",
    "    else:\n",
    "        print x, \"is not divisible by \",y\n",
    "        return False\n",
    "    \n",
    "### END SOLUTION"
   ]
  },
  {
   "cell_type": "code",
   "execution_count": 128,
   "metadata": {},
   "outputs": [
    {
     "name": "stdout",
     "output_type": "stream",
     "text": [
      "10  is even\n",
      "5  is not even\n",
      "10  is not odd\n",
      "5  is odd\n",
      "10  is greater than  5\n",
      "10  is not less than  5\n",
      "10  is not equal to  5\n",
      "10  is divisible by  5\n"
     ]
    },
    {
     "data": {
      "text/plain": [
       "True"
      ]
     },
     "execution_count": 128,
     "metadata": {},
     "output_type": "execute_result"
    }
   ],
   "source": [
    "# Test your solution\n",
    "x=10\n",
    "y=5\n",
    "Even(x),Even(y)\n",
    "Odd(x),Odd(y)\n",
    "Greater_than(x,y)\n",
    "Less_than(x,y)\n",
    "Equal(x,y)\n",
    "Divisible_by(x,y)"
   ]
  },
  {
   "cell_type": "markdown",
   "metadata": {},
   "source": [
    "*Exercise 7:* Repeat the previous exercise using `lambda` and the built-in python functions sum and map instead of your solution above. "
   ]
  },
  {
   "cell_type": "code",
   "execution_count": 129,
   "metadata": {},
   "outputs": [
    {
     "name": "stdout",
     "output_type": "stream",
     "text": [
      "The even numbers are  [32, 20, 42, 10]\n",
      "The odd numbers are  [13, 1, 33, 5, 7]\n",
      "numbers in list one greater than that in list 2 appear as True [True, False, True, True, True, True, False, False, False]\n",
      "numbers in list one less than that in list 2 appear as True [False, True, False, False, False, False, True, True, False]\n",
      "numbers in list one equal to that in list 2 appear as True [False, False, False, False, False, False, False, False, True]\n",
      "numbers in list one divisible by that in list 2 appear as True [True, False, False, True, False, False, False, False, True]\n"
     ]
    }
   ],
   "source": [
    "### BEGIN SOLUTION\n",
    "my_list = [13,1,32,20,42,33,5,7,10]\n",
    "my_list2=[1,5,3,2,4,23,45,17,10]\n",
    "print \"The even numbers are \",filter(lambda k: k % 2 == 0,my_list)\n",
    "print \"The odd numbers are \",filter(lambda k: k % 2 != 0,my_list)\n",
    "print \"numbers in list one greater than that in list 2 appear as True\", map(lambda x,y:x>y, my_list,my_list2)\n",
    "print \"numbers in list one less than that in list 2 appear as True\",map(lambda x,y:x<y, my_list,my_list2)\n",
    "print \"numbers in list one equal to that in list 2 appear as True\",map(lambda x,y:x==y, my_list,my_list2)\n",
    "print \"numbers in list one divisible by that in list 2 appear as True\",map(lambda x,y:x%y==0, my_list,my_list2)     \n",
    "    \n",
    "### END SOLUTION"
   ]
  },
  {
   "cell_type": "code",
   "execution_count": null,
   "metadata": {
    "collapsed": true
   },
   "outputs": [],
   "source": []
  },
  {
   "cell_type": "markdown",
   "metadata": {},
   "source": [
    "## Monte Carlo\n",
    "\n",
    "*Exercise 7:* Write a \"generator\" function called `generate_function(func,x_min,x_max,N)`, that instead of generating a flat distribution, generates a distribution with functional form coded in `func`. Note that `func` will always be > 0.  \n",
    "\n",
    "Use the test function below and your histogramming functions above to demonstrate that your generator is working properly.\n",
    "\n",
    "Hint: A simple, but slow, solution is to a draw random number test_x within the specified range and another number p between the min and max of the function (which you will have to determine). If p<=function(test_x), then place test_x on the output. If not, repeat the process, drawing two new numbers. Repeat until you have the specified number of generated numbers, N. For this problem, it's OK to determine the min and max by numerically sampling the function.  "
   ]
  },
  {
   "cell_type": "code",
   "execution_count": 130,
   "metadata": {
    "collapsed": true
   },
   "outputs": [],
   "source": [
    "def generate_function(func,x_min,x_max,N):\n",
    "    out = list()\n",
    "    ### BEGIN SOLUTION\n",
    "    j = list(map(func, generate_uniform(N,x_min, x_max)))##### applies func on generate unifrom and returns a list\n",
    "    ### print j\n",
    "    p_min = int(round(min(j),2))\n",
    "    p_max = int(round(max(j),2))\n",
    "    Done=False\n",
    "    ## print p_min,p_max\n",
    "    while Done==False:\n",
    "        test_x=random.random()*(x_max - x_min) + x_min        \n",
    "        p=random.random()*(p_max - p_min) + p_min\n",
    "        \n",
    "        if p<=func(test_x):\n",
    "            out.append(test_x)\n",
    "            \n",
    "        if len(out)==N:\n",
    "            Done=True     \n",
    "    \n",
    "    ### END SOLUTION\n",
    "    \n",
    "    return out"
   ]
  },
  {
   "cell_type": "code",
   "execution_count": 131,
   "metadata": {},
   "outputs": [
    {
     "name": "stdout",
     "output_type": "stream",
     "text": [
      "[ -10.0 -9.0 ] :  ################################################################################\n",
      "[ -9.0 -8.0 ] :  ####################################################################################\n",
      "[ -8.0 -7.0 ] :  ##################################################################\n",
      "[ -7.0 -6.0 ] :  ######################################################\n",
      "[ -6.0 -5.0 ] :  ################################################\n",
      "[ -5.0 -4.0 ] :  #########################################\n",
      "[ -4.0 -3.0 ] :  #######################\n",
      "[ -3.0 -2.0 ] :  ###############\n",
      "[ -2.0 -1.0 ] :  #########\n",
      "[ -1.0 0.0 ] :  #\n",
      "[ 0.0 1.0 ] :  #########\n",
      "[ 1.0 2.0 ] :  ##################\n",
      "[ 2.0 3.0 ] :  ##########################################\n",
      "[ 3.0 4.0 ] :  ##########################################\n",
      "[ 4.0 5.0 ] :  ###########################################################\n",
      "[ 5.0 6.0 ] :  ########################################################################\n",
      "[ 6.0 7.0 ] :  ###################################################################################\n",
      "[ 7.0 8.0 ] :  ######################################################################\n",
      "[ 8.0 9.0 ] :  ################################################################################################\n",
      "[ 9.0 10.0 ] :  ########################################################################################\n"
     ]
    }
   ],
   "source": [
    "# A test function\n",
    "def test_func(x,a=1,b=1):\n",
    "    return abs(a*x+b)\n",
    "data2=generate_function(test_func,-10,10,1000)\n",
    "h,b=histogram(data2,20)\n",
    "draw_histogram(h,b,20,'#',100)\n"
   ]
  },
  {
   "cell_type": "markdown",
   "metadata": {},
   "source": [
    "*Exercise 8:* Use your function to generate 1000 numbers that are normal distributed, using the `gaussian` function below. Confirm the mean and variance of the data is close to the mean and variance you specify when building the Gaussian. Histogram the data. "
   ]
  },
  {
   "cell_type": "code",
   "execution_count": 133,
   "metadata": {},
   "outputs": [
    {
     "name": "stdout",
     "output_type": "stream",
     "text": [
      "-0.232565369384\n",
      "33.3578662409\n",
      "[ -10.0 -9.6 ] :  #######################\n",
      "[ -9.6 -9.2 ] :  #########################\n",
      "[ -9.2 -8.8 ] :  #################\n",
      "[ -8.8 -8.4 ] :  ########################\n",
      "[ -8.4 -8.0 ] :  #####################\n",
      "[ -8.0 -7.6 ] :  ###############\n",
      "[ -7.6 -7.2 ] :  ###############\n",
      "[ -7.2 -6.8 ] :  #####################\n",
      "[ -6.8 -6.4 ] :  ######################\n",
      "[ -6.4 -6.0 ] :  ##################\n",
      "[ -6.0 -5.6 ] :  ##################\n",
      "[ -5.6 -5.2 ] :  #####################\n",
      "[ -5.2 -4.8 ] :  #############################\n",
      "[ -4.8 -4.4 ] :  ######################\n",
      "[ -4.4 -4.0 ] :  ####################\n",
      "[ -4.0 -3.6 ] :  #######################\n",
      "[ -3.6 -3.2 ] :  #########################\n",
      "[ -3.2 -2.8 ] :  #################\n",
      "[ -2.8 -2.4 ] :  ##############################\n",
      "[ -2.4 -2.0 ] :  ############\n",
      "[ -2.0 -1.6 ] :  ######################\n",
      "[ -1.6 -1.2 ] :  #################\n",
      "[ -1.2 -0.8 ] :  ########################\n",
      "[ -0.8 -0.4 ] :  ########################\n",
      "[ -0.4 0.0 ] :  #################\n",
      "[ 0.0 0.4 ] :  #####################\n",
      "[ 0.4 0.8 ] :  #############\n",
      "[ 0.8 1.2 ] :  ###########################\n",
      "[ 1.2 1.6 ] :  #############################\n",
      "[ 1.6 2.0 ] :  #################\n",
      "[ 2.0 2.4 ] :  ################\n",
      "[ 2.4 2.8 ] :  ######################\n",
      "[ 2.8 3.2 ] :  #####################\n",
      "[ 3.2 3.6 ] :  ##############\n",
      "[ 3.6 4.0 ] :  ###############\n",
      "[ 4.0 4.4 ] :  ################\n",
      "[ 4.4 4.8 ] :  #####################\n",
      "[ 4.8 5.2 ] :  ###############\n",
      "[ 5.2 5.6 ] :  ########################\n",
      "[ 5.6 6.0 ] :  ####################\n",
      "[ 6.0 6.4 ] :  ##############\n",
      "[ 6.4 6.8 ] :  ####################\n",
      "[ 6.8 7.2 ] :  #################\n",
      "[ 7.2 7.6 ] :  #####################\n",
      "[ 7.6 8.0 ] :  #################\n",
      "[ 8.0 8.4 ] :  #############\n",
      "[ 8.4 8.8 ] :  #############\n",
      "[ 8.8 9.2 ] :  #######################\n",
      "[ 9.2 9.6 ] :  ######################\n",
      "[ 9.6 10.0 ] :  ###########################\n",
      "0.0317967007288\n",
      "33.6218592616\n",
      "[ -10.0 -9.6 ] :  ######################\n",
      "[ -9.6 -9.2 ] :  ##################\n",
      "[ -9.2 -8.8 ] :  #####################\n",
      "[ -8.8 -8.4 ] :  ##################\n",
      "[ -8.4 -8.0 ] :  #####################\n",
      "[ -8.0 -7.6 ] :  ###################\n",
      "[ -7.6 -7.2 ] :  ########################\n",
      "[ -7.2 -6.8 ] :  ##############################\n",
      "[ -6.8 -6.4 ] :  ##################\n",
      "[ -6.4 -6.0 ] :  ################\n",
      "[ -6.0 -5.6 ] :  ##################\n",
      "[ -5.6 -5.2 ] :  ###################\n",
      "[ -5.2 -4.8 ] :  ################\n",
      "[ -4.8 -4.4 ] :  ##################\n",
      "[ -4.4 -4.0 ] :  #####################\n",
      "[ -4.0 -3.6 ] :  #####################\n",
      "[ -3.6 -3.2 ] :  ######################\n",
      "[ -3.2 -2.8 ] :  #################\n",
      "[ -2.8 -2.4 ] :  #####################\n",
      "[ -2.4 -2.0 ] :  ##############\n",
      "[ -2.0 -1.6 ] :  ######################\n",
      "[ -1.6 -1.2 ] :  ######################\n",
      "[ -1.2 -0.8 ] :  ###################\n",
      "[ -0.8 -0.4 ] :  #####################\n",
      "[ -0.4 0.0 ] :  ###################\n",
      "[ 0.0 0.4 ] :  ##################\n",
      "[ 0.4 0.8 ] :  #############\n",
      "[ 0.8 1.2 ] :  ###############\n",
      "[ 1.2 1.6 ] :  #####################\n",
      "[ 1.6 2.0 ] :  ########################\n",
      "[ 2.0 2.4 ] :  ####################\n",
      "[ 2.4 2.8 ] :  ####################\n",
      "[ 2.8 3.2 ] :  #####################\n",
      "[ 3.2 3.6 ] :  #######################\n",
      "[ 3.6 4.0 ] :  ####################\n",
      "[ 4.0 4.4 ] :  ######################\n",
      "[ 4.4 4.8 ] :  ####################\n",
      "[ 4.8 5.2 ] :  ###########################\n",
      "[ 5.2 5.6 ] :  ##################\n",
      "[ 5.6 6.0 ] :  ##################\n",
      "[ 6.0 6.4 ] :  ########################\n",
      "[ 6.4 6.8 ] :  ####################\n",
      "[ 6.8 7.2 ] :  ####################\n",
      "[ 7.2 7.6 ] :  ###########################\n",
      "[ 7.6 8.0 ] :  ####################\n",
      "[ 8.0 8.4 ] :  ######################\n",
      "[ 8.4 8.8 ] :  ################\n",
      "[ 8.8 9.2 ] :  ###############\n",
      "[ 9.2 9.6 ] :  ##############\n",
      "[ 9.6 10.0 ] :  #########################\n",
      "0\n",
      "100.0\n"
     ]
    }
   ],
   "source": [
    "import math\n",
    "\n",
    "def gaussian(mean, sigma):\n",
    "    def f(x):\n",
    "        return math.exp(-((x-mean)**2)/(2*sigma**2))/math.sqrt(math.pi*sigma)\n",
    "    return f\n",
    "\n",
    "# Example Instantiation\n",
    "g1=gaussian(0,1)\n",
    "g2=gaussian(10,3)\n",
    "data3=generate_function(g1,-10,10,1000)\n",
    "print mean(data3)\n",
    "print variance(data3)\n",
    "h,b=histogram(data3,50)\n",
    "draw_histogram(h,b,50,'#',150)\n",
    "\n",
    "data4=generate_function(g2,-10,10,1000)\n",
    "print mean(data4)\n",
    "print variance(data4)\n",
    "h,b=histogram(data4,50)\n",
    "draw_histogram(h,b,50,'#',150)\n",
    "test=(-10,10)\n",
    "print mean(test)\n",
    "print variance(test)"
   ]
  },
  {
   "cell_type": "markdown",
   "metadata": {},
   "source": [
    "*Exercise 9:* Combine your `generate_function`, `where`, and `in_range` functions above to create an integrate function. Use your integrate function to show that approximately 68% of Normal distribution is within one variance."
   ]
  },
  {
   "cell_type": "code",
   "execution_count": 35,
   "metadata": {
    "collapsed": true
   },
   "outputs": [],
   "source": [
    "def integrate(func, x_min, x_max, n_points=1000):\n",
    "    \n",
    "    return integral"
   ]
  },
  {
   "cell_type": "code",
   "execution_count": null,
   "metadata": {
    "collapsed": true
   },
   "outputs": [],
   "source": []
  }
 ],
 "metadata": {
  "kernelspec": {
   "display_name": "Python 2",
   "language": "python",
   "name": "python2"
  },
  "language_info": {
   "codemirror_mode": {
    "name": "ipython",
    "version": 2
   },
   "file_extension": ".py",
   "mimetype": "text/x-python",
   "name": "python",
   "nbconvert_exporter": "python",
   "pygments_lexer": "ipython2",
   "version": "2.7.13"
  }
 },
 "nbformat": 4,
 "nbformat_minor": 2
}
