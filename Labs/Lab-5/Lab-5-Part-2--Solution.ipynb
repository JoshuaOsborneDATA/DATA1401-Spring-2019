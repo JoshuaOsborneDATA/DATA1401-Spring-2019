{
 "cells": [
  {
   "cell_type": "markdown",
   "metadata": {},
   "source": [
    "# Lab 5 - Part 2\n",
    "\n",
    "In the first part of this lab, you were tasked with implementing a Matrix class based on the matrix operations you implemented in Exam 1.\n",
    "\n",
    "In this part of the lab you will test your Matrix implementation by comparing to the `numpy` which is the most commonly used python library for matrices and tensors (high dimensional matrices).\n",
    "\n",
    "## Matrix Library\n",
    "\n",
    "*Exercise 1:* You implemented the first part of this lab in a python notebook. Use the new button from the Jupyter file browser page to create and edit a new text file named \"matrix.py\" in the \"Lab-5\" directory where this current notebook is running. Copy and paste your matrix implementation into this file. You may use a different text editor if you like. Make sure you add, commit, and push your `matrix.py` file when you submit your solutions to this lab.\n",
    "\n",
    "*Exercise 2:* Use python `import` to import your library into this notebook. Note that if there is a problem with your \"matrix.py\" file, you will get an error during the import. You can correct this error by editting the file and running the import cell again. But if the import succeeds, using import will not re-read the file. So if you edit the file after a successful import, you will need to either restart this notebook or use the python `reload` built-in to reload your matrix module.\n"
   ]
  },
  {
   "cell_type": "code",
   "execution_count": 1,
   "metadata": {},
   "outputs": [],
   "source": [
    "import Matrix"
   ]
  },
  {
   "cell_type": "markdown",
   "metadata": {},
   "source": [
    "*Exercise 3:* Demonstrate the basic properties of matrices with your matrix class by creating two 2 by 2 example matrices using your Matrix class and illustrating the following:\n",
    "\n",
    "$$\n",
    "(AB)C=A(BC)\n",
    "$$\n",
    "$$\n",
    "A(B+C)=AB+AC\n",
    "$$\n",
    "$$\n",
    "AB\\neq BA\n",
    "$$\n",
    "$$\n",
    "AI=A\n",
    "$$"
   ]
  },
  {
   "cell_type": "code",
   "execution_count": 2,
   "metadata": {},
   "outputs": [
    {
     "name": "stdout",
     "output_type": "stream",
     "text": [
      "[[32.0, 176.0], [32.0, 176.0]] = [[32.0, 176.0], [32.0, 176.0]]\n",
      "[[20.0, 40.0], [20.0, 40.0]] = [[20.0, 40.0], [20.0, 40.0]]\n",
      "[[16.0, 20.0], [16.0, 20.0]]  =/=  [[12.0, 12.0], [24.0, 24.0]]\n",
      "[[2.0, 2.0], [2.0, 2.0]] [[2.0, 2.0], [2.0, 2.0]]\n"
     ]
    }
   ],
   "source": [
    "A=Matrix.Matrix(2,2)\n",
    "B=Matrix.Matrix(2,2)\n",
    "C=Matrix.Matrix(2,2) #2x2 matrix of zeros\n",
    "A_B=Matrix.Matrix(2,2)\n",
    "A_C=Matrix.Matrix(2,2)\n",
    "B_C=Matrix.Matrix(2,2)\n",
    "B.M=[[5,1],[3,9]]\n",
    "C.M=[[2,6],[0,4]]\n",
    "A.constant(2) ### 2x2 matrix of constant 2\n",
    "B2=list(B.M)\n",
    "A2=list(A.M)\n",
    "C2=list(C.M)\n",
    "mult_AB=A.__matmult__(B2)\n",
    "mult_AC=A.__matmult__(C2)\n",
    "Add_BC=list(B+C2)\n",
    "A_B.M=A.__matmult__(B2)\n",
    "A_C.M=A.__matmult__(C2)\n",
    "B_C.M=B.__matmult__(C2)\n",
    "I=list( C.eye())\n",
    "print A_B.__matmult__(C2),\"=\",A.__matmult__(list(B_C.M))\n",
    "print A.__matmult__(B+C2),\"=\",A_B+list(A_C.M)\n",
    "print mult_AB, \" =/= \", B.__matmult__(A2)\n",
    "print A.__matmult__(I), A.M"
   ]
  },
  {
   "cell_type": "markdown",
   "metadata": {},
   "source": [
    "## Matrices with `numpy`\n",
    "`numpy` is very well [documented](https://docs.scipy.org/doc/numpy/reference/index.html). You can find a list of linear algebra operations in `numpy` [here](https://docs.scipy.org/doc/numpy/reference/routines.linalg.html). A more general and detailed description of linear algebra with `numpy` and `scipy` (which implements same routines) can be found [here](https://docs.scipy.org/doc/scipy/reference/tutorial/linalg.html).\n"
   ]
  },
  {
   "cell_type": "code",
   "execution_count": 3,
   "metadata": {},
   "outputs": [
    {
     "name": "stdout",
     "output_type": "stream",
     "text": [
      "A:\n",
      "[[ 4.  5.]\n",
      " [-2. -1.]]\n",
      "y\n",
      "[12.  2.]\n",
      "Inverse of A:\n",
      "[[-0.16666667 -0.83333333]\n",
      " [ 0.33333333  0.66666667]]\n",
      "A * A_inverse:\n",
      "[[ 1.00000000e+00  1.11022302e-16]\n",
      " [-5.55111512e-17  1.00000000e+00]]\n",
      "Identity:\n",
      "[[1. 0.]\n",
      " [0. 1.]]\n",
      "Solution: x=\n",
      "[-3.66666667  5.33333333]\n",
      "Check solution: Ax=\n",
      "[12.  2.]\n",
      "[ True False]\n"
     ]
    }
   ],
   "source": [
    "import numpy as np\n",
    "\n",
    "A = np.array([[4.,5.],[-2.,-1.]])\n",
    "y = np.array([12.,2.])\n",
    "\n",
    "print \"A:\"\n",
    "print A\n",
    "print \"y\"\n",
    "print y\n",
    "\n",
    "A_inv=np.linalg.inv(A)\n",
    "\n",
    "print \"Inverse of A:\"\n",
    "print A_inv\n",
    "\n",
    "print \"A * A_inverse:\"\n",
    "print np.matmul(A,A_inv)\n",
    "\n",
    "print \"Identity:\"\n",
    "print np.eye(*A.shape)\n",
    "\n",
    "x= np.matmul(A_inv,y)\n",
    "\n",
    "print \"Solution: x=\"\n",
    "print x\n",
    "\n",
    "print \"Check solution: Ax=\"\n",
    "print np.matmul(A,x)\n",
    "print y==np.matmul(A,x)"
   ]
  },
  {
   "cell_type": "markdown",
   "metadata": {},
   "source": [
    "*Exercise 3:* Following the numpy example above, demonstrate that your matrix class reproduces the functionality of numpy. If you were unable to implement the inverse method you may use numpy's inverse. Note that the syntax for your matrix module may be different than numpy. "
   ]
  },
  {
   "cell_type": "code",
   "execution_count": 4,
   "metadata": {},
   "outputs": [
    {
     "name": "stdout",
     "output_type": "stream",
     "text": [
      "A:\n",
      "[[4.0, 5.0], [-2.0, -1.0]]\n",
      "y\n",
      "[[12.0, 2.0]]\n",
      "Inverse of A:\n",
      "[[-0.16666667 -0.83333333]\n",
      " [ 0.33333333  0.66666667]]\n",
      "A * A_inverse:\n",
      "[[1.0, 0.0], [-5.551115123125783e-17, 0.9999999999999999]]\n",
      "Identity:\n",
      "[[1.0, 0.0], [0.0, 1.0]]\n",
      "Solution: x=\n",
      "Cannot be multiplied  \n",
      " this doesn't work with my code because my code only accounts for more than one row and one column.  Not enough time to fix this\n"
     ]
    }
   ],
   "source": [
    "A = Matrix.Matrix(2,2)\n",
    "A_inv= Matrix.Matrix(2,2)\n",
    "B = np.array([[4.,5.],[-2.,-1.]])\n",
    "y= Matrix.Matrix(2,2)\n",
    "y.M=[[12.,2.]]\n",
    "A.M=[[4.,5.],[-2.,-1.]]\n",
    "print \"A:\"\n",
    "print A.M\n",
    "print \"y\"\n",
    "print y.M\n",
    "\n",
    "B_inv=list(np.linalg.inv(B))\n",
    "\n",
    "print \"Inverse of A:\"\n",
    "print np.linalg.inv(B)\n",
    "\n",
    "print \"A * A_inverse:\"\n",
    "print A.__matmult__(B_inv)\n",
    "\n",
    "print \"Identity:\"\n",
    "print A.eye()\n",
    "\n",
    "A_inv.M=B_inv\n",
    "z=list(y.M)\n",
    "#x= A_inv.__matmult__(z)\n",
    "\n",
    "print \"Solution: x=\"\n",
    "#print x\n",
    "x=[[-3.66666667,  5.33333333]]\n",
    "\n",
    "print A.__matmult__(x), \" \\n this doesn't work with my code because my code only accounts for more than one row and one column.  Not enough time to fix this\""
   ]
  },
  {
   "cell_type": "markdown",
   "metadata": {},
   "source": [
    "## Matrix Elements\n",
    "Consider an arbitrary matrix $A$:\n",
    "\n",
    "\\begin{equation*}\n",
    "A_{m,n} = \n",
    " \\begin{pmatrix}\n",
    "  a_{11} & a_{12} & \\cdots & a_{1n} \\\\\n",
    "  a_{21} & a_{22} & \\cdots & a_{2n} \\\\\n",
    "  \\vdots  & \\vdots  & \\ddots & \\vdots\\\\\n",
    "  a_{m1} & a_{m2} & \\cdots & a_{mn} \n",
    "\\end{pmatrix}\n",
    "\\end{equation*}\n",
    "\n",
    "we define the columns as $a_j=A_{:,j}$:\n",
    "\n",
    "\\begin{pmatrix} \n",
    "| & | &  &|\\\\\n",
    "a_1 & a_2 & \\dots &\\ a_n\\\\\n",
    "| & | &  &|\n",
    "\\end{pmatrix}\n",
    "\n",
    "and rows $a^T_i = A_{i,:}$:\n",
    "\n",
    "\\begin{pmatrix} \n",
    "- & a^T_1 & -\\\\\n",
    "- & a^T_2 & -\\\\\n",
    " & \\vdots & \\\\\n",
    "- & a^T_3 & -\\\\\n",
    "\\end{pmatrix}\n",
    "\n",
    "or in `numpy`:\n"
   ]
  },
  {
   "cell_type": "code",
   "execution_count": 5,
   "metadata": {},
   "outputs": [
    {
     "name": "stdout",
     "output_type": "stream",
     "text": [
      "A:\n",
      "[[0.9840089  0.67891302 0.28809587 0.96200358 0.84951123]\n",
      " [0.49788679 0.74299737 0.32322572 0.14594957 0.65312973]\n",
      " [0.14985128 0.25365544 0.39692723 0.15159303 0.30821833]\n",
      " [0.49674105 0.82855773 0.63162564 0.22804813 0.77538321]\n",
      " [0.83628503 0.5003635  0.15288088 0.93147665 0.94238028]\n",
      " [0.61792339 0.18636807 0.1858225  0.06309355 0.8377646 ]\n",
      " [0.82319245 0.93923921 0.28958949 0.92724522 0.31228298]\n",
      " [0.07935845 0.18107253 0.04031193 0.97619624 0.20598582]\n",
      " [0.90658806 0.15674052 0.63572701 0.75238691 0.45577812]\n",
      " [0.15308394 0.30506966 0.85420492 0.2428787  0.55467387]]\n",
      "A shape: (10, 5)\n",
      "A columns:\n",
      "[0.9840089  0.49788679 0.14985128 0.49674105 0.83628503 0.61792339\n",
      " 0.82319245 0.07935845 0.90658806 0.15308394]\n",
      "[0.67891302 0.74299737 0.25365544 0.82855773 0.5003635  0.18636807\n",
      " 0.93923921 0.18107253 0.15674052 0.30506966]\n",
      "[0.28809587 0.32322572 0.39692723 0.63162564 0.15288088 0.1858225\n",
      " 0.28958949 0.04031193 0.63572701 0.85420492]\n",
      "[0.96200358 0.14594957 0.15159303 0.22804813 0.93147665 0.06309355\n",
      " 0.92724522 0.97619624 0.75238691 0.2428787 ]\n",
      "[0.84951123 0.65312973 0.30821833 0.77538321 0.94238028 0.8377646\n",
      " 0.31228298 0.20598582 0.45577812 0.55467387]\n",
      "A rows:\n",
      "[0.9840089  0.67891302 0.28809587 0.96200358 0.84951123]\n",
      "[0.49788679 0.74299737 0.32322572 0.14594957 0.65312973]\n",
      "[0.14985128 0.25365544 0.39692723 0.15159303 0.30821833]\n",
      "[0.49674105 0.82855773 0.63162564 0.22804813 0.77538321]\n",
      "[0.83628503 0.5003635  0.15288088 0.93147665 0.94238028]\n",
      "[0.61792339 0.18636807 0.1858225  0.06309355 0.8377646 ]\n",
      "[0.82319245 0.93923921 0.28958949 0.92724522 0.31228298]\n",
      "[0.07935845 0.18107253 0.04031193 0.97619624 0.20598582]\n",
      "[0.90658806 0.15674052 0.63572701 0.75238691 0.45577812]\n",
      "[0.15308394 0.30506966 0.85420492 0.2428787  0.55467387]\n"
     ]
    }
   ],
   "source": [
    "# Make a random matrix\n",
    "A = np.random.rand(10,5)\n",
    "\n",
    "print \"A:\"\n",
    "print A\n",
    "print \"A shape:\", A.shape\n",
    "\n",
    "print \"A columns:\"\n",
    "for i in range(A.shape[1]):\n",
    "    print A[:,i]\n",
    "\n",
    "print \"A rows:\"\n",
    "for j in range(A.shape[0]):\n",
    "    print A[j,:]\n",
    "    # Note you can also use A[j]"
   ]
  },
  {
   "cell_type": "markdown",
   "metadata": {},
   "source": [
    "*Exercise 4:* Add a new random feature to your matrix library and demonstrate the same numpy functionality as above. For a bit of extra credit, implement slicing in your override of `__getitem__` method in your matrix class."
   ]
  },
  {
   "cell_type": "code",
   "execution_count": 6,
   "metadata": {},
   "outputs": [
    {
     "name": "stdout",
     "output_type": "stream",
     "text": [
      "A:\n",
      "[[0.8855950557765144, 0.008144190851465671, 0.1551844718476647, 0.26137384746308046, 0.09114530192956105], [0.9677593513142418, 0.5600462786451383, 0.14399863428354853, 0.7230181673509053, 0.3535853310486463], [0.42372968101601394, 0.8555146319591977, 0.45397429663317623, 0.3693051167861545, 0.1428363121432361], [0.24697639382323122, 0.8499402673544073, 0.7310600623132082, 0.30763711372968716, 0.060570518567361176], [0.5395617923958627, 0.7536292485078648, 0.2832755355422705, 0.672219758907615, 0.7465426324224227], [0.805217643173219, 0.8505226991754439, 0.368367768407045, 0.9758851822230398, 0.947732662660059], [0.4169477030844675, 0.9184217567829208, 0.19510960587878223, 0.053211185025882735, 0.2611305465442322], [0.3714241351838298, 0.01044035621641426, 0.1509364002498944, 0.9499211363722159, 0.7465332616166515], [0.34294910829213554, 0.4930733105842625, 0.8693097478256893, 0.5199978793905323, 0.8231244887476115], [0.8279917928155279, 0.5815477655044813, 0.5866821884416263, 0.23959167056082875, 0.05979874995670109]]\n",
      "A shape: (10, 5)\n",
      "A columns:\n",
      "[0.8855950557765144, 0.9677593513142418, 0.42372968101601394, 0.24697639382323122, 0.5395617923958627, 0.805217643173219, 0.4169477030844675, 0.3714241351838298, 0.34294910829213554, 0.8279917928155279]\n",
      "[0.008144190851465671, 0.5600462786451383, 0.8555146319591977, 0.8499402673544073, 0.7536292485078648, 0.8505226991754439, 0.9184217567829208, 0.01044035621641426, 0.4930733105842625, 0.5815477655044813]\n",
      "[0.1551844718476647, 0.14399863428354853, 0.45397429663317623, 0.7310600623132082, 0.2832755355422705, 0.368367768407045, 0.19510960587878223, 0.1509364002498944, 0.8693097478256893, 0.5866821884416263]\n",
      "[0.26137384746308046, 0.7230181673509053, 0.3693051167861545, 0.30763711372968716, 0.672219758907615, 0.9758851822230398, 0.053211185025882735, 0.9499211363722159, 0.5199978793905323, 0.23959167056082875]\n",
      "[0.09114530192956105, 0.3535853310486463, 0.1428363121432361, 0.060570518567361176, 0.7465426324224227, 0.947732662660059, 0.2611305465442322, 0.7465332616166515, 0.8231244887476115, 0.05979874995670109]\n",
      "A rows:\n",
      "[0.8855950557765144, 0.008144190851465671, 0.1551844718476647, 0.26137384746308046, 0.09114530192956105]\n",
      "[0.9677593513142418, 0.5600462786451383, 0.14399863428354853, 0.7230181673509053, 0.3535853310486463]\n",
      "[0.42372968101601394, 0.8555146319591977, 0.45397429663317623, 0.3693051167861545, 0.1428363121432361]\n",
      "[0.24697639382323122, 0.8499402673544073, 0.7310600623132082, 0.30763711372968716, 0.060570518567361176]\n",
      "[0.5395617923958627, 0.7536292485078648, 0.2832755355422705, 0.672219758907615, 0.7465426324224227]\n",
      "[0.805217643173219, 0.8505226991754439, 0.368367768407045, 0.9758851822230398, 0.947732662660059]\n",
      "[0.4169477030844675, 0.9184217567829208, 0.19510960587878223, 0.053211185025882735, 0.2611305465442322]\n",
      "[0.3714241351838298, 0.01044035621641426, 0.1509364002498944, 0.9499211363722159, 0.7465332616166515]\n",
      "[0.34294910829213554, 0.4930733105842625, 0.8693097478256893, 0.5199978793905323, 0.8231244887476115]\n",
      "[0.8279917928155279, 0.5815477655044813, 0.5866821884416263, 0.23959167056082875, 0.05979874995670109]\n"
     ]
    }
   ],
   "source": [
    "A = Matrix.Matrix(2,2)\n",
    "A.M=A.rand(10,5)\n",
    "print \"A:\"\n",
    "print A.M\n",
    "print \"A shape:\", A.Shape()\n",
    "shape=A.Shape()\n",
    "print \"A columns:\"\n",
    "for i in range(shape[1]):\n",
    "    print A.column(i)\n",
    "\n",
    "print \"A rows:\"\n",
    "for j in range(shape[0]):\n",
    "    print A.row(j)"
   ]
  },
  {
   "cell_type": "markdown",
   "metadata": {},
   "source": [
    "# Matrix Operations\n",
    "\n",
    "* Transpose: $(A^T)_{ij} = A_{ji}$\n",
    "* Sum (elementwise): $C_{ij} = A_{ij} + B_{ij}$\n",
    "* Elementwise product: $C_{ij} = A_{ij} B_{ij}$\n",
    "* Matrix product: $C=A \\cdot B$: $C_{ij} = \\sum_{k} A_{ik} B_{kj}$.\n",
    "   * Note than if size of $A$ is $n \\times m$ then $B$ has to be of size $m \\times k$ and the resulting matrix will be of size $n \\times k$.\n",
    "   * Good way to visualize product:\n",
    "    \\begin{equation*}\n",
    "    AB=\n",
    "\\begin{pmatrix} \n",
    "- & a_1 & -\\\\\n",
    "- & a_2 & -\\\\\n",
    " & \\vdots & \\\\\n",
    "- & a_m & -\\\\\n",
    "\\end{pmatrix} \n",
    "\\begin{pmatrix} \n",
    "| & | &  &|\\\\\n",
    "b_1 & b_2 & \\dots &\\ b_n\\\\\n",
    "| & | &  &|\n",
    "\\end{pmatrix}=\n",
    "\\begin{pmatrix}\n",
    "a^T_1b_1 & a^T_1b_2 & \\dots & a^T_1b_n\\\\\n",
    "a^T_2b_1 & a^T_2b_2 & \\dots & a^T_2b_n\\\\\n",
    "\\vdots & \\vdots & \\ddots & \\vdots \\\\\n",
    "a^T_mb_1 & a^T_mb_2 & \\dots & a^T_mb_n\n",
    "\\end{pmatrix}\n",
    "\\end{equation*}"
   ]
  },
  {
   "cell_type": "code",
   "execution_count": 7,
   "metadata": {},
   "outputs": [
    {
     "name": "stdout",
     "output_type": "stream",
     "text": [
      "A:\n",
      "[[0.05985284 0.55314016 0.66561742 0.74930669]\n",
      " [0.17652042 0.84459328 0.32316242 0.69671324]\n",
      " [0.44914977 0.79152917 0.13637338 0.06664931]\n",
      " [0.34453249 0.99170168 0.39722072 0.83747735]\n",
      " [0.32137053 0.4508279  0.09590028 0.33277845]]\n",
      "A Transpose:\n",
      "[[0.05985284 0.17652042 0.44914977 0.34453249 0.32137053]\n",
      " [0.55314016 0.84459328 0.79152917 0.99170168 0.4508279 ]\n",
      " [0.66561742 0.32316242 0.13637338 0.39722072 0.09590028]\n",
      " [0.74930669 0.69671324 0.06664931 0.83747735 0.33277845]]\n",
      "B: [[0.85424913 0.24073822 0.2973878  0.38541219]\n",
      " [0.40353767 0.15376712 0.87980497 0.26696679]\n",
      " [0.59063161 0.91195704 0.74379473 0.41964581]\n",
      " [0.48352747 0.01194462 0.49215442 0.9532159 ]\n",
      " [0.39167418 0.47519715 0.8575917  0.40933584]]\n",
      "A+B:\n",
      "[[0.91410197 0.79387838 0.96300522 1.13471887]\n",
      " [0.58005809 0.9983604  1.20296739 0.96368003]\n",
      " [1.03978139 1.70348621 0.88016812 0.48629512]\n",
      " [0.82805996 1.00364631 0.88937514 1.79069325]\n",
      " [0.71304471 0.92602505 0.95349198 0.74211429]]\n",
      "A*B:\n",
      "[[0.05112924 0.13316198 0.1979465  0.28879193]\n",
      " [0.07123264 0.12987068 0.2843199  0.1859993 ]\n",
      " [0.26528205 0.7218406  0.1014338  0.0279691 ]\n",
      " [0.16659092 0.0118455  0.19549393 0.79829673]\n",
      " [0.12587254 0.21423213 0.08224328 0.13621815]]\n",
      "Matrix Multiply: A (dot) B1:\n",
      "[[0.76035711 0.79011493 1.41587667 0.73660075 1.27890818]\n",
      " [1.02237834 1.03081254 1.4222369  0.51602729 1.3597839 ]\n",
      " [0.959277   0.90115215 1.06510871 0.44926229 0.85891685]\n",
      " [1.33141216 1.34569301 1.79265919 0.71019422 1.6434178 ]\n",
      " [0.72847779 0.73397749 0.83820588 0.34642043 0.70822521]]\n"
     ]
    }
   ],
   "source": [
    "A = np.random.rand(5,4) \n",
    "print \"A:\"\n",
    "print A\n",
    "\n",
    "print \"A Transpose:\"\n",
    "print A.transpose()\n",
    "\n",
    "B = np.random.rand(5,4) \n",
    "print \"B:\",\n",
    "print B\n",
    "\n",
    "print \"A+B:\"\n",
    "print A+B\n",
    "\n",
    "print \"A*B:\"\n",
    "print A*B\n",
    "\n",
    "# For Matrix Multiply we need correct size B\n",
    "B1 = np.random.rand(4,5) \n",
    "\n",
    "print \"Matrix Multiply: A (dot) B1:\"\n",
    "print np.matmul(A,B1)"
   ]
  },
  {
   "cell_type": "markdown",
   "metadata": {},
   "source": [
    "*Exercise 5:* Demonstrate basic matrix operations above with your matrix library."
   ]
  },
  {
   "cell_type": "code",
   "execution_count": 8,
   "metadata": {},
   "outputs": [
    {
     "name": "stdout",
     "output_type": "stream",
     "text": [
      "A:\n",
      "[[0.24873107245070825, 0.14118348887199472, 0.12760466104858992, 0.7968806908799192], [0.4314951251962561, 0.011792773129752465, 0.8694787881417049, 0.615818977459903], [0.6178103350507294, 0.6424435094020473, 0.2756913439100307, 0.9386454752689122], [0.15902178000769407, 0.2747568107504119, 0.9697191376770173, 0.6539583145255932], [0.48212782326705117, 0.8148497588454147, 0.3883669722369387, 0.953725306399564]]\n",
      "A Transpose:\n",
      "[[0.24873107245070825, 0.4314951251962561, 0.6178103350507294, 0.15902178000769407, 0.48212782326705117], [0.14118348887199472, 0.011792773129752465, 0.6424435094020473, 0.2747568107504119, 0.8148497588454147], [0.12760466104858992, 0.8694787881417049, 0.2756913439100307, 0.9697191376770173, 0.3883669722369387], [0.7968806908799192, 0.615818977459903, 0.9386454752689122, 0.6539583145255932, 0.953725306399564]]\n",
      "B: [[0.05921894419444418, 0.7408017554386845, 0.4014067372563759, 0.9696760884601148], [0.6394592554435494, 0.3220229609576518, 0.5124747543844309, 0.5545650813088542], [0.20801528331782648, 0.963660672812828, 0.47213847779343265, 0.9273249466726985], [0.43192455991447654, 0.7396725382048394, 0.5733481434039872, 0.6159057886378347], [0.5296326148254188, 0.25765300849192285, 0.7117822576576617, 0.7721602528386632]]\n",
      "A+B:\n",
      "[[0.3079500166451524, 0.8819852443106793, 0.5290113983049658, 1.7665567793400339], [1.0709543806398054, 0.3338157340874043, 1.3819535425261358, 1.1703840587687573], [0.8258256183685558, 1.6061041822148754, 0.7478298217034633, 1.8659704219416107], [0.5909463399221706, 1.0144293489552512, 1.5430672810810044, 1.269864103163428], [1.01176043809247, 1.0725027673373375, 1.1001492298946003, 1.7258855592382272]]\n",
      "A*B:\n",
      "[[0.014729591498882743, 0.10458897639533167, 0.051221370650220234, 0.7727161513018339], [0.27592355148551906, 0.0037975437211447234, 0.44558592839539285, 0.34151170130658653], [0.12851399188225876, 0.6190975445146113, 0.13016449145450762, 0.8704293652983137], [0.06868541234663997, 0.20323006759682388, 0.5559866672104333, 0.4027767114441546], [0.25535061971701567, 0.2099484918354389, 0.27643272029847865, 0.7364287737281189]]\n",
      "Matrix Multiply: A (dot) B1:\n",
      "[[0.7787560794423585, 0.3389334842578537, 0.5840805934677074, 0.8051149897088979, 0.8749849278633892], [0.7400757473625446, 0.589648250716307, 1.1819784466300116, 0.9805268394492261, 0.8979476892988116], [1.224707827945481, 0.9385333263855975, 1.1472862833585276, 1.2341086171429947, 1.4837424638346217], [0.7812745632345831, 0.8895496486346266, 1.2021968650357961, 0.9258445862918964, 1.1880668411770254], [1.2647564463443757, 1.1605553166154037, 1.220624481374529, 1.2291206512021904, 1.6840477164698204]]\n"
     ]
    }
   ],
   "source": [
    "A = Matrix.Matrix(5,4)\n",
    "A.M=A.rand(5,4)\n",
    "print \"A:\"\n",
    "print A.M\n",
    "\n",
    "print \"A Transpose:\"\n",
    "print A.transpose()\n",
    "\n",
    "B = Matrix.Matrix(5,4)\n",
    "B.M=B.rand(5,4)\n",
    "print \"B:\",\n",
    "print B.M\n",
    "\n",
    "print \"A+B:\"\n",
    "print A+B.M\n",
    "\n",
    "print \"A*B:\"\n",
    "print A.elementmult(B.M)\n",
    "\n",
    "# For Matrix Multiply we need correct size B\n",
    "B1 = Matrix.Matrix(4,5) \n",
    "B1.M=B1.rand(4,5)\n",
    "print \"Matrix Multiply: A (dot) B1:\"\n",
    "print A.__matmult__(B1.M)"
   ]
  },
  {
   "cell_type": "markdown",
   "metadata": {},
   "source": [
    "## Vector Products\n",
    "\n",
    "* Dot product: $x\\cdot y = x^T y = \\sum_{i=1}^n x_i y_i$\n",
    "* Other product: \n",
    "\\begin{equation*}\n",
    "\\begin{pmatrix} x_1\\\\x_2\\\\ \\vdots \\\\x_m \\end{pmatrix} \\begin{pmatrix} y_1&y_2& \\dots &y_n\\end{pmatrix} =\n",
    "\\begin{pmatrix}\n",
    "x_1y_1 & x_1y_2 & \\dots & x_1y_n\\\\\n",
    "x_2y_1 & x_2y_2 & \\dots & x_2y_n\\\\\n",
    "\\vdots & \\vdots & \\ddots & \\vdots \\\\\n",
    "x_my_1 & x_my_2 & \\dots & x_my_n\n",
    "\\end{pmatrix}\n",
    "\\end{equation*}\n",
    "\n",
    "In `numpy`:"
   ]
  },
  {
   "cell_type": "code",
   "execution_count": 9,
   "metadata": {},
   "outputs": [
    {
     "name": "stdout",
     "output_type": "stream",
     "text": [
      "x (dot) y:\n",
      "32\n",
      "Other product:\n",
      "[[ 4  5  6]\n",
      " [ 8 10 12]\n",
      " [12 15 18]]\n"
     ]
    }
   ],
   "source": [
    "x=np.array([1,2,3])\n",
    "y=np.array([4,5,6])\n",
    "\n",
    "print \"x (dot) y:\"\n",
    "print np.dot(x,y)\n",
    "\n",
    "print \"Other product:\"\n",
    "print np.outer(x,y)"
   ]
  },
  {
   "cell_type": "markdown",
   "metadata": {},
   "source": [
    "*Exercise 6:* Demonstrate vector product operations above with your matrix library."
   ]
  },
  {
   "cell_type": "code",
   "execution_count": 10,
   "metadata": {},
   "outputs": [
    {
     "name": "stdout",
     "output_type": "stream",
     "text": [
      "x (dot) y:\n",
      "32\n",
      "Other product:\n",
      "[[4, 5, 6], [8, 10, 12], [12, 15, 18]]\n"
     ]
    }
   ],
   "source": [
    "A=[1,2,3]\n",
    "B=[4,5,6]\n",
    "x=Matrix.Vector(A,B)\n",
    "\n",
    "print \"x (dot) y:\"\n",
    "print x.dot()\n",
    "\n",
    "print \"Other product:\"\n",
    "print x.out()"
   ]
  },
  {
   "cell_type": "markdown",
   "metadata": {},
   "source": [
    "## Norms\n",
    "* $l=1$ Norm: $\\parallel x \\parallel_1 = \\sum_{i=1}^{n}|x_i|$\n",
    "* $l=2$ Norm: $\\parallel x \\parallel_2 = \\sqrt{\\sum_{i=1}^{n}x_i^2}$\n",
    "* $l=p$ Norm: $\\parallel x \\parallel_p = \\left(\\sum_{i=1}^{n}x_i^p\\right)^\\frac{1}{p}$\n",
    "* $l=\\infty$ Norm: $\\parallel x \\parallel_\\infty = \\max_i |x_i|$\n",
    "* Law of cosines: $x \\cdot y = $\\parallel x \\parallel_2 $\\parallel y \\parallel_2 \\cos{\\theta}$\n",
    "\n",
    "In `numpy`:"
   ]
  },
  {
   "cell_type": "code",
   "execution_count": 11,
   "metadata": {},
   "outputs": [
    {
     "name": "stdout",
     "output_type": "stream",
     "text": [
      "0 3.0\n",
      "1 6.0\n",
      "2 3.7416573867739413\n",
      "3 3.3019272488946263\n",
      "4 3.1463462836457885\n",
      "5 3.077384885394063\n",
      "6 3.043010262919305\n",
      "7 3.0246626009458444\n",
      "8 3.014443335890572\n",
      "9 3.0085886861624296\n"
     ]
    }
   ],
   "source": [
    "x=[1,2,3]\n",
    "for i in range(10):\n",
    "    print i,np.linalg.norm(x,i)"
   ]
  },
  {
   "cell_type": "markdown",
   "metadata": {},
   "source": [
    "*Exercise 7:* Test the norm implementationth your matrix library."
   ]
  },
  {
   "cell_type": "code",
   "execution_count": 12,
   "metadata": {},
   "outputs": [
    {
     "name": "stdout",
     "output_type": "stream",
     "text": [
      "0 3\n",
      "1 6.0\n",
      "2 3.74165738677\n",
      "3 3.30192724889\n",
      "4 3.14634628365\n",
      "5 3.07738488539\n",
      "6 3.04301026292\n",
      "7 3.02466260095\n",
      "8 3.01444333589\n",
      "9 3.00858868616\n"
     ]
    }
   ],
   "source": [
    "x=Matrix.Vector()\n",
    "x.A=[1,2,3]\n",
    "for i in range(10):\n",
    "    print i,x.norm(x.A,i)"
   ]
  },
  {
   "cell_type": "code",
   "execution_count": null,
   "metadata": {},
   "outputs": [],
   "source": []
  },
  {
   "cell_type": "code",
   "execution_count": null,
   "metadata": {},
   "outputs": [],
   "source": []
  }
 ],
 "metadata": {
  "kernelspec": {
   "display_name": "Python 2",
   "language": "python",
   "name": "python2"
  },
  "language_info": {
   "codemirror_mode": {
    "name": "ipython",
    "version": 2
   },
   "file_extension": ".py",
   "mimetype": "text/x-python",
   "name": "python",
   "nbconvert_exporter": "python",
   "pygments_lexer": "ipython2",
   "version": "2.7.15"
  }
 },
 "nbformat": 4,
 "nbformat_minor": 2
}
