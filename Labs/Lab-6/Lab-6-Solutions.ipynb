{
 "cells": [
  {
   "cell_type": "markdown",
   "metadata": {},
   "source": [
    "# Lab 6\n",
    "\n",
    "Here are the  classes from lecture 16. For this lab, you will use these classes for this lab and are encouraged to modify these classes as you need."
   ]
  },
  {
   "cell_type": "code",
   "execution_count": 1,
   "metadata": {},
   "outputs": [],
   "source": [
    "import numpy as np\n",
    "import math\n",
    "\n",
    "# Create some virtual classes\n",
    "class base:\n",
    "    __name=\"\"\n",
    "    \n",
    "    def __init__(self,name):\n",
    "        self.__name=name\n",
    "\n",
    "    def name(self):\n",
    "        return self.__name\n",
    "    \n",
    "\n",
    "class data(base):\n",
    "    def __init__(self,name):\n",
    "        base.__init__(self,name)\n",
    "        \n",
    "class alg(base):\n",
    "    def __init__(self,name):\n",
    "        base.__init__(self,name)"
   ]
  },
  {
   "cell_type": "code",
   "execution_count": 2,
   "metadata": {},
   "outputs": [],
   "source": [
    "class grade(data):\n",
    "    __value=0\n",
    "    __numerical=True\n",
    "    __gradebook_name=str()\n",
    "    __letter_grades=[\"F-\",\"F\",\"F+\",\"D-\",\"D\",\"D+\",\"C-\",\"C\",\"C+\",\"B-\",\"B\",\"B+\",\"A-\",\"A\",\"A+\"]\n",
    "    \n",
    "    def __init__(self,name,numerical=True,value=None):\n",
    "        if value:\n",
    "            if isinstance(value,(int,float)):\n",
    "                self.__numerical=True\n",
    "            elif isinstance(value,str):\n",
    "                self.__numerical=False\n",
    "            self.set(value)\n",
    "        else:            \n",
    "            self.__numerical=numerical\n",
    "        self.__gradebook_name=name\n",
    "        #data.__init__(self,name+\" Grade Algorithm\")        \n",
    "\n",
    "    def set(self,value):\n",
    "        if isinstance(value,(int,float)) and self.__numerical:\n",
    "            self.__value=value\n",
    "        elif isinstance(value,str) and not self.__numerical:\n",
    "            if value in self.__letter_grades:\n",
    "                self.__value=value\n",
    "        else:\n",
    "            print self.name()+\" Error: Bad Grade.\"\n",
    "            raise Exception\n",
    "    \n",
    "    def value(self):\n",
    "        return self.__value\n",
    "    \n",
    "    def numerical(self):\n",
    "        return self.__numerical\n",
    "    \n",
    "    def gradebook_name(self):\n",
    "        return self.__gradebook_name\n",
    "    \n",
    "    def __str__(self):\n",
    "        return self.__gradebook_name+\": \"+str(self.__value)\n",
    "\n",
    "class student(data):\n",
    "    __id_number=0\n",
    "    __grades=dict()\n",
    "    \n",
    "    def __init__(self,first_name, last_name,id_number):\n",
    "        self.__id_number=id_number\n",
    "        self.__grades=dict()\n",
    "        #data.__init__(self,first_name+\" \"+last_name+\" Student Data\")\n",
    "\n",
    "    def add_grade(self,a_grade,overwrite=False):\n",
    "        if overwrite or not a_grade.gradebook_name() in self.__grades:\n",
    "            self.__grades[a_grade.gradebook_name()]=a_grade\n",
    "        else:\n",
    "            print self.name()+\" Error Adding Grade \"+a_grade.name()+\". Grade already exists.\"\n",
    "            raise Exception\n",
    "\n",
    "    def id_number(self):\n",
    "        return self.__id_number\n",
    "    \n",
    "    def __getitem__(self,key):\n",
    "        return self.__grades[key]\n",
    "    \n",
    "    def print_grades(self):\n",
    "        for grade in self.__grades:\n",
    "            print self.__grades[grade]\n",
    "    \n"
   ]
  },
  {
   "cell_type": "code",
   "execution_count": 3,
   "metadata": {},
   "outputs": [],
   "source": [
    "class calculator(alg):    \n",
    "    def __init__(self,name):\n",
    "        alg.__init__(self,name)\n",
    "\n",
    "    def apply(self,a_grade_book):\n",
    "        raise NotImplementedError\n"
   ]
  },
  {
   "cell_type": "code",
   "execution_count": 4,
   "metadata": {},
   "outputs": [],
   "source": [
    "class grade_book(data):\n",
    "    # New member class to hold arbitrary data associated with the class\n",
    "\n",
    "    __data=dict()\n",
    "    __students=dict()\n",
    "    \n",
    "    def __init__(self,name):\n",
    "        #data.__init__(self,name+\" Course Grade Book\")\n",
    "        self.__students=dict()\n",
    "        self.__data=dict()\n",
    "        \n",
    "    # New method to access data\n",
    "    def __getitem__(self,key):\n",
    "        return self.__data[key]\n",
    "            \n",
    "    # New method to add data\n",
    "    def __setitem__(self, key, value):\n",
    "        self.__data[key] = value\n",
    "        \n",
    "    def add_student(self,a_student):\n",
    "        self.__students[a_student.id_number()]=a_student\n",
    "\n",
    "    # New method to allow iterating over students\n",
    "    def get_students(self):\n",
    "        return self.__students\n",
    "    \n",
    "    def assign_grade(self,key,a_grade):\n",
    "        the_student=None\n",
    "        try:\n",
    "            the_student=self.__students[key]\n",
    "        except:\n",
    "            for id in self.__students:\n",
    "                if key == self.__students[id].name():\n",
    "                    the_student=self.__students[id]\n",
    "                    break\n",
    "        if the_student:\n",
    "            the_student.add_grade(a_grade)\n",
    "        else:\n",
    "            print self.name()+\" Error: Did not find student.\"\n",
    "            \n",
    "    def apply_calculator(self,a_calculator,**kwargs):\n",
    "        a_calculator.apply(self,**kwargs)\n",
    "        \n",
    "    def mean_std_print(self,mean=None,std=None):\n",
    "        self.mean=mean\n",
    "        self.std=std\n",
    "        print ('mean \\t|\\t std'+'\\n'\n",
    "               '________|___________________')\n",
    "        for i in range (0,len(mean)):\n",
    "            print str(round(mean[i],4))+'\\t|',str(std[i])\n",
    "        \n",
    "    "
   ]
  },
  {
   "cell_type": "code",
   "execution_count": 5,
   "metadata": {},
   "outputs": [],
   "source": [
    "class uncurved_letter_grade_percent(calculator):\n",
    "    __grades_definition=[ (.97,\"A+\"),\n",
    "                          (.93,\"A\"),\n",
    "                          (.9,\"A-\"),\n",
    "                          (.87,\"B+\"),\n",
    "                          (.83,\"B\"),\n",
    "                          (.8,\"B-\"),\n",
    "                          (.77,\"C+\"),\n",
    "                          (.73,\"C\"),\n",
    "                          (.7,\"C-\"),\n",
    "                          (.67,\"C+\"),\n",
    "                          (.63,\"C\"),\n",
    "                          (.6,\"C-\"),\n",
    "                          (.57,\"F+\"),\n",
    "                          (.53,\"F\"),\n",
    "                          (0.,\"F-\")]\n",
    "    __max_grade=100.\n",
    "    __grade_name=str()\n",
    "    \n",
    "    def __init__(self,grade_name,max_grade=100.):\n",
    "        self.__max_grade=max_grade\n",
    "        self.__grade_name=grade_name\n",
    "        calculator.__init__(self,\n",
    "                                  \"Uncurved Percent Based Grade Calculator \"+self.__grade_name+\" Max=\"+str(self.__max_grade))\n",
    "        \n",
    "    def apply(self,a_grade_book,grade_name=None,**kwargs):\n",
    "        if grade_name:\n",
    "            pass\n",
    "        else:\n",
    "            grade_name=self.__grade_name\n",
    "            \n",
    "  \n",
    "        for k,a_student in a_grade_book.get_students().iteritems():\n",
    "            a_grade=a_student[grade_name]\n",
    "\n",
    "            if not a_grade.numerical():\n",
    "                print self.name()+ \" Error: Did not get a numerical grade as input.\"\n",
    "                raise Exception\n",
    "    \n",
    "            percent=a_grade.value()/self.__max_grade\n",
    "        \n",
    "            for i,v in enumerate(self.__grades_definition):\n",
    "                #print percent, i, v\n",
    "                if percent>=v[0]:\n",
    "                    break\n",
    "                            \n",
    "            a_student.add_grade(grade(grade_name+\" Letter\",value=self.__grades_definition[i][1]))\n",
    "            "
   ]
  },
  {
   "cell_type": "code",
   "execution_count": 6,
   "metadata": {},
   "outputs": [],
   "source": [
    "def mean(x):\n",
    "    return sum(x)/float(len(x))\n",
    "\n",
    "def std(x):\n",
    "    variance=sum(map(lambda y:y**2, x))/float(len(x))-mean(x)**2\n",
    "    return variance**(0.5)\n",
    "\n",
    "class mean_std_calculator(calculator):\n",
    "    def __init__(self,grade=None,mean_val=None,std_val=None):\n",
    "        calculator.__init__(self,\"Mean and Standard Deviation Calculator\")\n",
    "        self.grade=grade\n",
    "        self.mean_val=mean_val\n",
    "        self.std_val=std_val\n",
    "        \n",
    "    def apply(self,grade_name):\n",
    "        self.mean_val=mean(self.grade)\n",
    "        self.std_val=std(self.grade)\n",
    "        return self.mean_val,self.std_val"
   ]
  },
  {
   "cell_type": "markdown",
   "metadata": {
    "collapsed": true
   },
   "source": [
    "## CSV Reader\n",
    "\n",
    "*Exercise 1*: The data for *your* grades in this course are stored (anonymized) in a \"camma separated values\" (CSV) file name `Data1401-Grades.csv` in the directory of this lab. You can see the contents using the `cat` shell command:"
   ]
  },
  {
   "cell_type": "code",
   "execution_count": 7,
   "metadata": {},
   "outputs": [
    {
     "name": "stdout",
     "output_type": "stream",
     "text": [
      "l1_n,l1_1,l2_n,l2_1,l2_2,l2_3,l2_4,l2_5,l2_6,l2_7,l3_n,l3_1,l3_2,l3_3,l3_4,l3_5,l3_6,l3_7,l3_8,l3_9,l3_10,l3_11,l3_12,l3_13,l3_14,l4_n,l4_1,l4_2,l4_3,l4_4,l4_5,l4_6,l4_7,l4_8,l4_9,l4_10,l4_11,q1_n,q1_1,e1_n,e1_1,e1_2,e1_3,e1_4,e1_5,e1_6,e1_7,e1_8,e1_9,e1_10,e1_11,e1_12,e1_13,e1_14,e1_15\r\n",
      "1,10,7,0,10,10,8,10,10,10,14,9,0,0,0,0,0,0,0,0,0,0,0,0,0,11,0,0,0,0,0,0,0,0,0,0,0,1,9.5,15,9,9,0,9,8,0,0,0,0,0,0,0,0,0,0\r\n",
      "1,10,7,0,0,0,0,0,0,0,14,0,0,0,0,0,0,0,0,0,0,0,0,0,0,11,0,0,0,0,0,0,0,0,0,0,0,1,0,15,0,0,0,0,0,0,0,0,0,0,0,0,0,0,0\r\n",
      "1,10,7,0,0,0,0,0,0,0,14,9,10,10,10,7,10,3,6,3,3,0,0,0,0,11,0,0,0,0,0,0,0,0,0,0,0,1,5,15,5,5,5,5,0,0,0,0,0,0,0,0,0,0,0\r\n",
      "1,10,7,10,10,3,9.5,10,10,9.5,14,10,10,10,8,5,10,5,10,3,0,10,3,10,8,11,10,10,10,10,10,10,0,0,10,5,0,1,10,15,9,9,10,9,7,9,0,0,10,10,9,5,10,8,10\r\n",
      "1,10,7,10,10,9.5,0,10,10,0,14,9.5,0,0,10,0,10,5,10,7,0,10,6,10,0,11,10,10,6,0,0,0,0,0,0,0,0,1,0,15,0,0,0,0,5,0,7,0,3,3,3,0,3,0,0\r\n",
      "1,10,7,10,10,10,9.5,10,10,9.5,14,5,9.5,9.5,8,10,10,8,10,8,0,5,6,0,0,11,0,10,10,10,0,5,0,0,0,0,0,1,9.5,15,9,9,10,9,9,10,7,0,9,9,9,0,5,0,0\r\n",
      "1,10,7,10,10,0,5,10,10,9.5,14,9.5,10,10,8,10,8,9,0,0,0,0,0,0,0,11,0,10,10,0,0,10,0,0,0,0,0,1,10,15,9,9,10,9,0,0,0,0,0,0,0,0,0,0,0\r\n",
      "1,10,7,10,10,10,9.5,10,10,9.5,14,10,10,10,10,0,0,0,0,0,0,0,0,0,0,11,10,10,10,10,3,3,0,0,5,0,0,1,10,15,9,9,10,0,10,0,7,5,9,9,9,0,0,0,0\r\n",
      "1,10,7,0,10,9.5,0,10,10,0,14,10,10,10,10,0,0,0,0,0,0,0,0,0,0,11,10,10,10,10,5,3,0,3,10,7,0,1,9.5,15,9,9,10,5,10,0,9,9,9,9,9,10,5,0,0\r\n",
      "1,10,7,10,10,0,10,10,10,10,14,10,6,10,0,0,0,0,0,0,0,0,0,0,0,11,10,10,0,7,0,0,0,0,0,0,0,1,9.5,15,9,9,10,9,5,9,7,9,10,10,10,5,10,5,0\r\n",
      "1,10,7,10,10,0,0,10,10,7,14,10,10,10,10,7,10,6,3,10,10,10,10,10,10,11,10,10,10,10,10,5,10,10,10,10,10,1,0,15,9,9,9,9,9,10,9,9,10,10,10,10,10,5,10\r\n",
      "1,10,7,10,10,9.5,9.5,10,10,9.5,14,9.5,10,10,10,8,10,8,10,10,7,5,0,0,0,11,10,10,10,10,5,6,0,0,0,0,0,1,10,15,9,9,10,9,8,9,7,9,10,10,10,10,0,0,0\r\n",
      "1,10,7,10,10,5,9.5,10,10,9.5,14,5,9,9,10,7,10,10,10,10,7,10,3,5,10,11,0,0,0,0,0,0,0,0,0,0,0,1,10,15,9,9,9,8,7,10,0,9,10,9,10,9,5,0,0\r\n",
      "1,10,7,10,10,9.5,0,10,10,0,14,9.5,10,10,10,10,10,10,10,0,0,10,5,10,10,11,0,10,10,0,0,5,0,0,0,0,0,1,0,15,9,9,10,0,8,9,7,9,10,10,10,10,10,0,0\r\n",
      "1,10,7,10,10,9.5,9,10,10,9.5,14,10,10,10,10,10,10,9,10,3,0,3,3,5,2,11,0,0,0,0,0,0,0,0,0,0,0,1,0,15,9,9,10,5,5,0,0,10,10,10,10,0,10,5,10\r\n",
      "1,10,7,10,10,3,7,10,10,9,14,10,10,10,10,0,10,9,10,7,7,3,7,5,8,11,10,10,10,8,5,3,0,0,7,0,0,1,9.5,15,9,9,10,10,7,10,10,10,10,10,10,10,9,8,2\r\n"
     ]
    }
   ],
   "source": [
    "!cat Data1401-Grades.csv "
   ]
  },
  {
   "cell_type": "markdown",
   "metadata": {},
   "source": [
    "You will note that the first line has the names of the \"columns\" of data, and that subsequent lines (or \"rows\") have the data for each student, separated by cammas.\n",
    "\n",
    "Recalling that in lecture 7 we created a simple CSV file reader, create a CSV reader function that takes a filename as input and returns data structure(s) that store the data in the file. Note that you are not allowed to use a library. The point here is for *you* to write the CSV reader. Some options for your data structures (pick one):\n",
    "\n",
    "* A list of dictionaries, where each element of the list is corresponds to a row of data and the dictionaries are keyed by the column name. For example `data[5][\"l3_5\"]` corresponds to the 6th student's grade on lab 3 question 5.\n",
    "\n",
    "* A list of lists (i.e. a 2-D array or matrix) and a dictionary, where each element of the \"matrix\" corresponds to a a specific grade for a specific student and the dictionary maps the name of the column to the column index. For example `data[5][column_names[\"l1_5\"]]` corresponds to the 6th student's grade on lab 3 question 5.\n",
    "\n",
    "* A dictionary of lists, where each element of the dictionary corresponds to a column of data and the lists contain the data in that column. For example `data[\"l3_5\"][5]` corresponds to the 6th student's grade on lab 3 question 5."
   ]
  },
  {
   "cell_type": "code",
   "execution_count": 1,
   "metadata": {},
   "outputs": [],
   "source": [
    "# You solution here.\n",
    "def cvs_reader(filename):\n",
    "    data=list() # if you choose first option\n",
    "    contents = open(filename).read().splitlines()\n",
    "    hold=list()\n",
    "    for i in range(0,len(contents)):\n",
    "        hold.append(contents[i].split(\",\"))\n",
    "\n",
    "    for i in range(0,len(hold)):\n",
    "        try:\n",
    "            data.append(dict(zip(hold[0],hold[i+1])))\n",
    "        except(IndexError):\n",
    "            break;\n",
    "\n",
    "        \n",
    "    return data"
   ]
  },
  {
   "cell_type": "code",
   "execution_count": 9,
   "metadata": {},
   "outputs": [
    {
     "name": "stdout",
     "output_type": "stream",
     "text": [
      "{'q1_n': '1', 'l3_n': '14', 'l4_n': '11', 'e1_15': '0', 'e1_14': '0', 'e1_13': '0', 'e1_12': '0', 'e1_11': '0', 'e1_10': '0', 'l4_1': '0', 'q1_1': '9.5', 'l2_n': '7', 'l4_11': '0', 'l4_10': '0', 'l4_2': '0', 'l4_5': '0', 'l1_n': '1', 'l4_4': '0', 'e1_9': '0', 'e1_8': '0', 'l4_7': '0', 'e1_3': '0', 'e1_2': '9', 'e1_1': '9', 'l4_6': '0', 'e1_7': '0', 'e1_6': '0', 'e1_5': '8', 'e1_4': '9', 'l2_3': '10', 'l2_2': '10', 'l2_1': '0', 'l2_7': '10', 'l2_6': '10', 'l2_5': '10', 'l2_4': '8', 'l4_9': '0', 'l4_8': '0', 'l3_8': '0', 'l3_9': '0', 'l3_2': '0', 'l3_3': '0', 'l4_3': '0', 'l3_1': '9', 'l3_6': '0', 'l3_7': '0', 'l3_4': '0', 'l3_5': '0', 'e1_n': '15', 'l3_10': '0', 'l3_11': '0', 'l3_12': '0', 'l3_13': '0', 'l3_14': '0', 'l1_1': '10'} \n",
      "\n",
      "8\n"
     ]
    }
   ],
   "source": [
    "data=cvs_reader(\"Data1401-Grades.csv\")\n",
    "print data[0],'\\n'\n",
    "print data[0]['l2_4']"
   ]
  },
  {
   "cell_type": "markdown",
   "metadata": {},
   "source": [
    "## Creating a Gradebook\n",
    "\n",
    "*Exercise 2:* In lectures 15 and 16 we used pandas to read the CSV file and create the grade book. Modify the code below to use your CSV reader instead."
   ]
  },
  {
   "cell_type": "code",
   "execution_count": 10,
   "metadata": {
    "scrolled": true
   },
   "outputs": [
    {
     "name": "stdout",
     "output_type": "stream",
     "text": [
      "0 l2_2: 10.0\n",
      "1 l2_2: 0\n",
      "2 l2_2: 0\n",
      "3 l2_2: 10.0\n",
      "4 l2_2: 10.0\n",
      "5 l2_2: 10.0\n",
      "6 l2_2: 10.0\n",
      "7 l2_2: 10.0\n",
      "8 l2_2: 10.0\n",
      "9 l2_2: 10.0\n",
      "10 l2_2: 10.0\n",
      "11 l2_2: 10.0\n",
      "12 l2_2: 10.0\n",
      "13 l2_2: 10.0\n",
      "14 l2_2: 10.0\n",
      "15 l2_2: 10.0\n"
     ]
    }
   ],
   "source": [
    "import pandas as pd\n",
    "\n",
    "data=cvs_reader(\"Data1401-Grades.csv\")\n",
    "\n",
    "a_grade_book=grade_book(\"Data 1401\")\n",
    "\n",
    "for student_i in range(len(data)):\n",
    "    a_student_0=student(\"Student\",str(student_i),student_i)\n",
    "\n",
    "    for k in data[0].keys():\n",
    "        #print k\n",
    "        #print data[student_i][k]\n",
    "        a_student_0.add_grade(grade(k,value=float(data[student_i][k])))\n",
    "\n",
    "    a_grade_book.add_student(a_student_0)\n",
    "#a_student_0.print_grades(),'\\n\\n'\n",
    "    \n",
    "    \n",
    "#a_grade_book.apply_calculator(uncurved_letter_grade_percent(\"l2_2\",max_grade=10))\n",
    "for k,a_student in a_grade_book.get_students().iteritems():\n",
    "    print a_student.id_number(),a_student[\"l2_2\"]"
   ]
  },
  {
   "cell_type": "code",
   "execution_count": 11,
   "metadata": {},
   "outputs": [],
   "source": [
    "#print data[0].keys()"
   ]
  },
  {
   "cell_type": "markdown",
   "metadata": {},
   "source": [
    "## Grade Summing\n",
    "\n",
    "*Exercise 3:* In lecture 16 we changed the design of our algorithms classes and then updated the `uncurved_letter_grade_percent` calculator. In lecture 15 we create a `grade_summer` calcuator that takes a prefix (for example `e1_` and a number `n`) and sums all grades starting with that prefix up to `n` and creates a new sum grade. Update this calculator (below) to the new design of our algorithm classes. Test your updated calculator by using it to sum the grades for all labs, quizzes, and exams of each students.\n",
    "\n"
   ]
  },
  {
   "cell_type": "code",
   "execution_count": 29,
   "metadata": {},
   "outputs": [],
   "source": [
    "class grade_summer(calculator):\n",
    "    def __init__(self,prefix,data):\n",
    "        self.__prefix=prefix\n",
    "        #self.__n=n\n",
    "        self.__data=data\n",
    "        #statistics_calculator.__init__(self,\"Sum Grades\")\n",
    "        \n",
    "    def apply(self):\n",
    "        n=0\n",
    "        try:\n",
    "            for l in range(1,20):\n",
    "                data[0][self.__prefix+str(l)+'_n']\n",
    "                n+=1\n",
    "                #print n\n",
    "        except KeyError:\n",
    "            h=\"hi\"\n",
    "        #print n    \n",
    "        \n",
    "        if n==1:\n",
    "            boop=[self.__prefix+'1_']\n",
    "        else:\n",
    "            boop=[self.__prefix+str(y)+'_' for y in range(1,n+1)]\n",
    "            \n",
    "        labels=list()\n",
    "        for y in range(0,len(boop)):\n",
    "            labels.append([boop[y]+str(x) for x in range(1,int(data[0][boop[y]+'n'])+1)])\n",
    "        #print labels\n",
    "        \n",
    "        x=0\n",
    "        grade_sum= [[0] * int(len(self.__data)) for p in range(n)]\n",
    "        for k in range (0,int(len(self.__data))):\n",
    "            for i in range (0,len(labels)):\n",
    "                for j in range (0,int(data[0][boop[i]+'n'])):\n",
    "                    x+=float(data[k][labels[i][j]])\n",
    "                    #print x\n",
    "                grade_sum[i][k]=x\n",
    "                x=0\n",
    "            #a_student.add_grade(grade(prefix+\"sum\",value=grade_sum))\n",
    "        return grade_sum"
   ]
  },
  {
   "cell_type": "code",
   "execution_count": 30,
   "metadata": {},
   "outputs": [],
   "source": [
    "#len(data[0])\n",
    "#print data[0]\n",
    "#grade_sum=[[0] * 16 for p in range(4)]\n",
    "#print grade_sum"
   ]
  },
  {
   "cell_type": "code",
   "execution_count": 31,
   "metadata": {},
   "outputs": [
    {
     "name": "stdout",
     "output_type": "stream",
     "text": [
      "[[10.0, 10.0, 10.0, 10.0, 10.0, 10.0, 10.0, 10.0, 10.0, 10.0, 10.0, 10.0, 10.0, 10.0, 10.0, 10.0], [58.0, 0.0, 0.0, 62.0, 49.5, 69.0, 54.5, 69.0, 39.5, 60.0, 47.0, 68.5, 64.0, 49.5, 68.0, 59.0], [9.0, 0.0, 71.0, 102.0, 77.5, 89.0, 64.5, 40.0, 40.0, 26.0, 126.0, 97.5, 115.0, 114.5, 95.0, 106.0], [0.0, 0.0, 0.0, 75.0, 26.0, 35.0, 30.0, 51.0, 68.0, 27.0, 105.0, 51.0, 0.0, 25.0, 0.0, 53.0]] \n",
      "[[9.5, 0.0, 5.0, 10.0, 0.0, 9.5, 10.0, 10.0, 9.5, 9.5, 0.0, 10.0, 10.0, 0.0, 0.0, 9.5]] \n",
      "[[35.0, 0.0, 20.0, 115.0, 24.0, 95.0, 37.0, 77.0, 103.0, 117.0, 138.0, 110.0, 104.0, 111.0, 103.0, 134.0]]\n"
     ]
    }
   ],
   "source": [
    "labs=grade_summer('l',data)\n",
    "quizzes=grade_summer('q',data)\n",
    "exams=grade_summer('e',data)\n",
    "########Each column corresponds to a student, same person for each column in the three variables##########\n",
    "Lab_grades=labs.apply() ### each row is a different lab and each column is the student\n",
    "Quiz_grades=quizzes.apply()\n",
    "Exam_grades=exams.apply()\n",
    "print Lab_grades,'\\n',Quiz_grades,'\\n',Exam_grades"
   ]
  },
  {
   "cell_type": "markdown",
   "metadata": {},
   "source": [
    "## Curving Grades\n",
    "\n",
    "*Exercise 4:* Use the `mean_std_calculator` above to calculate the mean and standard deviation for every lab, quiz, and exam in the class. Add a new print function to the `grade_book` class to print out such information in a nice way, and use this function to show your results.\n"
   ]
  },
  {
   "cell_type": "code",
   "execution_count": 32,
   "metadata": {},
   "outputs": [],
   "source": [
    "# Your solution here\n",
    "lab_mean=[[0] * 1 for p in range(len(Lab_grades))]\n",
    "lab_std=[[0] * 1 for p in range(len(Lab_grades))]\n",
    "for i in range (0,4):\n",
    "    lab=mean_std_calculator(Lab_grades[i])\n",
    "    lab_mean[i],lab_std[i]=lab.apply('lab'+str(i+1))\n",
    "       \n",
    "quiz_mean=[[0] * 1 for p in range(1)]\n",
    "quiz_std=[[0] * 1 for p in range(1)]\n",
    "\n",
    "quiz=mean_std_calculator(Quiz_grades[0])\n",
    "quiz_mean[0],quiz_std[0]=quiz.apply('lab'+str(i+1)) \n",
    "\n",
    "\n",
    "exam_mean=[[0] * 1 for p in range(1)]\n",
    "exam_std=[[0] * 1 for p in range(1)]\n",
    "exam=mean_std_calculator(Exam_grades[0])\n",
    "exam_mean[0],exam_std[0]=exam.apply('lab'+str(i+1))\n",
    "\n",
    "#print lab_mean,lab_std,'\\n',quiz_mean,quiz_std,'\\n',exam_mean,exam_std"
   ]
  },
  {
   "cell_type": "code",
   "execution_count": 33,
   "metadata": {},
   "outputs": [
    {
     "name": "stdout",
     "output_type": "stream",
     "text": [
      "Quiz means and standard deviations\n",
      "mean \t|\t std\n",
      "________|___________________\n",
      "6.4063\t| 4.46940554632\n",
      "\n",
      "\n",
      "\n",
      "Exam means and standard deviations\n",
      "mean \t|\t std\n",
      "________|___________________\n",
      "82.6875\t| 42.9370451213\n",
      "\n",
      "\n",
      "\n",
      "Lab means and standard deviations\n",
      "mean \t|\t std\n",
      "________|___________________\n",
      "10.0\t| 0.0\n",
      "51.0938\t| 21.0566340125\n",
      "73.3125\t| 38.3017929574\n",
      "34.125\t| 30.4217746852\n"
     ]
    }
   ],
   "source": [
    "x=grade_book(\"Data1401-Grades\")\n",
    "print \"Quiz means and standard deviations\"\n",
    "x.mean_std_print(quiz_mean,quiz_std)\n",
    "print \"\\n\\n\"\n",
    "print \"Exam means and standard deviations\"\n",
    "x.mean_std_print(exam_mean,exam_std)\n",
    "print\"\\n\\n\"\n",
    "print \"Lab means and standard deviations\"\n",
    "x.mean_std_print(lab_mean,lab_std)"
   ]
  },
  {
   "cell_type": "markdown",
   "metadata": {},
   "source": [
    "*Exercise 5:* In lecture 16 we changed the design of our algorithms classes and then updated the `uncurved_letter_grade_percent` calculator. Do the same for the `curved_letter_grade` calculator below and by curving all the lab, quiz, and exam grades."
   ]
  },
  {
   "cell_type": "code",
   "execution_count": 17,
   "metadata": {},
   "outputs": [],
   "source": [
    "class curved_letter_grade(calculator):\n",
    "    #__grades_definition=[ (.97,\"A+\"),\n",
    "                         # (.93,\"A\"),\n",
    "                         # (.9,\"A-\"),\n",
    "                         # (.87,\"B+\"),\n",
    "                         # (.83,\"B\"),\n",
    "                         # (.8,\"B-\"),\n",
    "                         # (.77,\"C+\"),\n",
    "                          #(.73,\"C\"),\n",
    "                          #(.7,\"C-\"),\n",
    "                          #(.67,\"C+\"),\n",
    "                          #(.63,\"C\"),\n",
    "                          #(.6,\"C-\"),\n",
    "                          #(.57,\"F+\"),\n",
    "                          #(.53,\"F\"),\n",
    "                          #(0.,\"F-\")]\n",
    "    __max_grade=100.\n",
    "    \n",
    "    def __init__(self,grade,mean,std,max_grade=100.):\n",
    "        self.__max_grade=max_grade\n",
    "        self.__mean=mean\n",
    "        self.__std=std\n",
    "        self. __grades_definitions=[ [self.__mean+(1.333*self.__std),\"A+\"],\n",
    "                          [self.__mean+self.__std,\"A\"],\n",
    "                          [self.__mean+(.666*self.__std),\"A-\"],\n",
    "                          [self.__mean+(.333*self.__std),\"B+\"],\n",
    "                          [self.__mean,\"B\"],\n",
    "                          [self.__mean-(.333*self.__std),\"B-\"],\n",
    "                          [self.__mean-(.666*self.__std),\"C+\"],\n",
    "                          [self.__mean-self.__std,\"C\"],\n",
    "                          [self.__mean-(1.333*self.__std),\"C-\"],\n",
    "                          [self.__mean-(1.666*self.__std),\"C+\"],\n",
    "                          [self.__mean-(2*self.__std),\"C\"],\n",
    "                          [self.__mean-(2.333*self.__std),\"C-\"],\n",
    "                          [self.__mean-(2.666*self.__std),\"F+\"],\n",
    "                          [self.__mean-(3*self.__std),\"F\"],\n",
    "                          [self.__mean-(3.333*self.__std),\"F-\"]]\n",
    "        self.__grade=grade\n",
    "        for i in range(0,len(self. __grades_definitions)):\n",
    "                    if self. __grades_definitions[i][0]>=self.__max_grade:\n",
    "                        self. __grades_definitions[i][0]=self.__max_grade\n",
    "        #print self. __grades_definitions\n",
    "        #print self.__grade\n",
    "        #calculator.__init__(self,\n",
    "                                #  \"Curved Percent Based Grade Calculator \"+self.__grade_name+ \\\n",
    "                                #  \" Mean=\"+str(self.__mean)+\\\n",
    "                                #  \" STD=\"+str(self.__std)+\\\n",
    "                                 # \" Max=\"+str(self.__max_grade))\n",
    "        \n",
    "\n",
    "    def apply(self):\n",
    "        grade_letters=[0] * len(self.__grade)\n",
    "        if self.__std==0:\n",
    "            for j in range(len(self.__grade)):\n",
    "                grade_letters[j]=self. __grades_definitions[0][1]\n",
    "        else:\n",
    "            for j in range(len(self.__grade)):\n",
    "                for i in range(0,len(self. __grades_definitions)):\n",
    "                    if self.__grade[j]>=self. __grades_definitions[i][0]:\n",
    "                        grade_letters[j]=self. __grades_definitions[i][1]\n",
    "                        break\n",
    "        return grade_letters  "
   ]
  },
  {
   "cell_type": "code",
   "execution_count": 18,
   "metadata": {},
   "outputs": [
    {
     "name": "stdout",
     "output_type": "stream",
     "text": [
      "[['A+', 'A+', 'A+', 'A+', 'A+', 'A+', 'A+', 'A+', 'A+', 'A+', 'A+', 'A+', 'A+', 'A+', 'A+', 'A+'], ['B', 'F+', 'F+', 'B+', 'B-', 'A-', 'B', 'A-', 'C+', 'B+', 'B-', 'A-', 'B+', 'B-', 'A-', 'B+'], ['C', 'C', 'B-', 'A-', 'B', 'B+', 'B-', 'C', 'C', 'C-', 'A+', 'B+', 'A', 'A', 'B+', 'A-'], ['C-', 'C-', 'C-', 'A+', 'B-', 'B', 'B-', 'B+', 'A', 'B-', 'A+', 'B+', 'C-', 'B-', 'C-', 'B+']]\n",
      "[[10.0, 10.0, 10.0, 10.0, 10.0, 10.0, 10.0, 10.0, 10.0, 10.0, 10.0, 10.0, 10.0, 10.0, 10.0, 10.0], [58.0, 0.0, 0.0, 62.0, 49.5, 69.0, 54.5, 69.0, 39.5, 60.0, 47.0, 68.5, 64.0, 49.5, 68.0, 59.0], [9.0, 0.0, 71.0, 102.0, 77.5, 89.0, 64.5, 40.0, 40.0, 26.0, 126.0, 97.5, 115.0, 114.5, 95.0, 106.0], [0.0, 0.0, 0.0, 75.0, 26.0, 35.0, 30.0, 51.0, 68.0, 27.0, 105.0, 51.0, 0.0, 25.0, 0.0, 53.0]] \n",
      "\n",
      "\n",
      "[['A-', 'C+', 'B-', 'A+', 'C+', 'A-', 'A+', 'A+', 'A-', 'A-', 'C+', 'A+', 'A+', 'C+', 'C+', 'A-']]\n",
      "[[9.5, 0.0, 5.0, 10.0, 0.0, 9.5, 10.0, 10.0, 9.5, 9.5, 0.0, 10.0, 10.0, 0.0, 0.0, 9.5]] \n",
      "\n",
      "\n",
      "[['C-', 'C', 'C+', 'A-', 'C+', 'B', 'C-', 'B-', 'B+', 'A-', 'A', 'B+', 'B+', 'B+', 'B+', 'A']]\n",
      "[[9.5, 0.0, 5.0, 10.0, 0.0, 9.5, 10.0, 10.0, 9.5, 9.5, 0.0, 10.0, 10.0, 0.0, 0.0, 9.5]] \n",
      "\n",
      "\n"
     ]
    }
   ],
   "source": [
    "Lab_letters=list()\n",
    "Quiz_letters=list()\n",
    "Exam_letters=list()\n",
    "for j in range(len(lab_mean)):\n",
    "    y=curved_letter_grade(Lab_grades[j],lab_mean[j],lab_std[j],int(data[0]['l'+str((j+1))+'_n'])*10)\n",
    "    Lab_letters.append(y.apply())\n",
    "    \n",
    "y=curved_letter_grade(Quiz_grades[0],quiz_mean[0],quiz_std[0],int(data[0]['q'+str(1)+'_n'])*10)\n",
    "Quiz_letters.append(y.apply())\n",
    "\n",
    "y=curved_letter_grade(Exam_grades[0],exam_mean[0],exam_std[0],int(data[0]['e'+str(1)+'_n'])*10)\n",
    "Exam_letters.append(y.apply())\n",
    "\n",
    "print Lab_letters\n",
    "print Lab_grades,'\\n\\n'\n",
    "\n",
    "\n",
    "print Quiz_letters\n",
    "print Quiz_grades,'\\n\\n'\n",
    "\n",
    "\n",
    "print Exam_letters\n",
    "print Quiz_grades,'\\n\\n'"
   ]
  },
  {
   "cell_type": "code",
   "execution_count": 19,
   "metadata": {},
   "outputs": [
    {
     "name": "stdout",
     "output_type": "stream",
     "text": [
      "[9.5, 0.0, 5.0, 10.0, 0.0, 9.5, 10.0, 10.0, 9.5, 9.5, 0.0, 10.0, 10.0, 0.0, 0.0, 9.5]\n",
      "[10.0, 10.0, 10.0, 10.0, 10.0, 10.0, 10.0, 10.0, 10.0, 10.0, 10.0, 10.0, 10.0, 10.0, 10.0, 10.0]\n"
     ]
    }
   ],
   "source": [
    "print Quiz_grades[0]\n",
    "print Lab_grades[0]"
   ]
  },
  {
   "cell_type": "markdown",
   "metadata": {},
   "source": [
    "## Final Course Grade\n",
    "\n",
    "*Exercise 6:* Write a new calculator that sums grades with a prefix, as in the `grade_summer` calculator, but drops `n` lowest grades. Apply the algorithm to drop the lowest lab grade in the data.\n"
   ]
  },
  {
   "cell_type": "code",
   "execution_count": 20,
   "metadata": {},
   "outputs": [],
   "source": [
    "# Solution here\n",
    "class grade_summer_drop(calculator):\n",
    "    def __init__(self,prefix,data):\n",
    "        self.__prefix=prefix\n",
    "        #self.__n=n\n",
    "        self.__data=data\n",
    "        #statistics_calculator.__init__(self,\"Sum Grades\")\n",
    "        \n",
    "        \n",
    "    def drop_lab(self,all_lab_grades,number_of_grades_to_drop=0):\n",
    "        import copy\n",
    "        self.m=number_of_grades_to_drop\n",
    "        self.lab_grades=copy.deepcopy(all_lab_grades)\n",
    "        hold=10000\n",
    "        hold_i=0\n",
    "        hold_i=0\n",
    "        for k in range(self.m):\n",
    "            for i in range(len(self.lab_grades[0])):\n",
    "                for j in range(len(self.lab_grades)):\n",
    "                    #print \"went through\",self.lab_grades[j][i]\n",
    "                    if isinstance(self.lab_grades[j][i], float):\n",
    "                        if (self.lab_grades[j][i])/float(self.__data[0]['l'+str((j+1))+'_n']*10)<hold:\n",
    "                            hold=self.lab_grades[j][i]\n",
    "                            #print hold,(self.lab_grades[j][i])/(float(self.__data[0]['l'+str((j+1))+'_n'])*10.0)\n",
    "                            #print self.lab_grades[j][i]\n",
    "                            hold_i=i\n",
    "                            hold_j=j\n",
    "                #print hold_i,hold_j\n",
    "                self.lab_grades[hold_j][hold_i]='dropped'\n",
    "                hold=10000\n",
    "        return self.lab_grades\n",
    "    \n",
    "    \n",
    "    \n",
    "    def apply(self,number_of_grades_to_drop=0): \n",
    "################ code from exercise 3 ######################################\n",
    "        m=number_of_grades_to_drop\n",
    "        n=0\n",
    "        try:\n",
    "            for l in range(1,20):\n",
    "                data[0][self.__prefix+str(l)+'_n']\n",
    "                n+=1\n",
    "                #print n\n",
    "        except KeyError:\n",
    "            h=\"hi\"\n",
    "        #print n    \n",
    "        \n",
    "        if n==1:\n",
    "            boop=[self.__prefix+'1_']\n",
    "        else:\n",
    "            boop=[self.__prefix+str(y)+'_' for y in range(1,n+1)]\n",
    "            \n",
    "        labels=list()\n",
    "        for y in range(0,len(boop)):\n",
    "            labels.append([boop[y]+str(x) for x in range(1,int(data[0][boop[y]+'n'])+1)])\n",
    "        #print labels\n",
    "        \n",
    "        x=0\n",
    "        grade_sum= [[0] * len(data) for p in range(n)]\n",
    "        for k in range (0,len(data)):\n",
    "            for i in range (0,len(labels)):\n",
    "                for j in range (0,int(data[0][boop[i]+'n'])):\n",
    "                    x+=float(data[k][labels[i][j]])\n",
    "                    #print x\n",
    "                grade_sum[i][k]=x\n",
    "                x=0\n",
    "            #a_student.add_grade(grade(prefix+\"sum\",value=grade_sum))\n",
    "        return self.drop_lab(grade_sum,m)"
   ]
  },
  {
   "cell_type": "code",
   "execution_count": 21,
   "metadata": {},
   "outputs": [
    {
     "name": "stdout",
     "output_type": "stream",
     "text": [
      "[[10.0, 10.0, 10.0, 10.0, 10.0, 10.0, 10.0, 10.0, 10.0, 10.0, 10.0, 10.0, 10.0, 10.0, 10.0, 10.0], [58.0, 'dropped', 'dropped', 62.0, 49.5, 69.0, 54.5, 69.0, 39.5, 60.0, 47.0, 68.5, 64.0, 49.5, 68.0, 59.0], [9.0, 0.0, 71.0, 102.0, 77.5, 89.0, 64.5, 40.0, 40.0, 26.0, 126.0, 97.5, 115.0, 114.5, 95.0, 106.0], ['dropped', 0.0, 0.0, 'dropped', 'dropped', 'dropped', 'dropped', 'dropped', 'dropped', 'dropped', 'dropped', 'dropped', 'dropped', 'dropped', 'dropped', 'dropped']] \n",
      "\n",
      "\n",
      "[[10.0, 10.0, 10.0, 10.0, 10.0, 10.0, 10.0, 10.0, 10.0, 10.0, 10.0, 10.0, 10.0, 10.0, 10.0, 10.0], [58.0, 'dropped', 'dropped', 62.0, 49.5, 69.0, 54.5, 69.0, 39.5, 60.0, 47.0, 68.5, 64.0, 49.5, 68.0, 59.0], ['dropped', 'dropped', 71.0, 'dropped', 'dropped', 'dropped', 'dropped', 'dropped', 'dropped', 'dropped', 'dropped', 'dropped', 'dropped', 'dropped', 'dropped', 'dropped'], ['dropped', 0.0, 'dropped', 'dropped', 'dropped', 'dropped', 'dropped', 'dropped', 'dropped', 'dropped', 'dropped', 'dropped', 'dropped', 'dropped', 'dropped', 'dropped']] \n",
      "\n",
      "\n",
      "[[10.0, 10.0, 10.0, 10.0, 10.0, 10.0, 10.0, 10.0, 10.0, 10.0, 10.0, 10.0, 10.0, 10.0, 10.0, 10.0], [58.0, 'dropped', 'dropped', 62.0, 49.5, 69.0, 54.5, 69.0, 39.5, 60.0, 47.0, 68.5, 64.0, 49.5, 68.0, 59.0], [9.0, 0.0, 71.0, 102.0, 77.5, 89.0, 64.5, 40.0, 40.0, 26.0, 126.0, 97.5, 115.0, 114.5, 95.0, 106.0], ['dropped', 0.0, 0.0, 'dropped', 'dropped', 'dropped', 'dropped', 'dropped', 'dropped', 'dropped', 'dropped', 'dropped', 'dropped', 'dropped', 'dropped', 'dropped']]\n"
     ]
    }
   ],
   "source": [
    "dropped_labs=grade_summer_drop('l',data)######drops by lowest out of points given/total points in lab########\n",
    "x=dropped_labs.drop_lab(Lab_grades,1)\n",
    "print x,\"\\n\\n\"\n",
    "x=dropped_labs.drop_lab(Lab_grades,2)\n",
    "print x,\"\\n\\n\"\n",
    "\n",
    "\n",
    "Dropped_labs_sum=list(dropped_labs.apply(1))\n",
    "print Dropped_labs_sum\n",
    "\n",
    "\n",
    "\n",
    "\n",
    "#copy=[[10.0, 10.0, 10.0, 10.0, 10.0, 10.0, 10.0, 10.0, 10.0, 10.0, 10.0, 10.0, 10.0, 10.0, 10.0, 10.0],\n",
    " #     [58.0, 0.0, 0.0, 62.0, 49.5, 69.0, 54.5, 69.0, 39.5, 60.0, 47.0, 68.5, 64.0, 49.5, 68.0, 59.0],\n",
    "  #    [9.0, 0.0, 71.0, 102.0, 77.5, 89.0, 64.5, 40.0, 40.0, 26.0, 126.0, 97.5, 115.0, 114.5, 95.0, 106.0],\n",
    "   #   [0.0, 0.0, 0.0, 75.0, 26.0, 35.0, 30.0, 51.0, 68.0, 27.0, 105.0, 51.0, 0.0, 25.0, 0.0, 53.0]]"
   ]
  },
  {
   "cell_type": "markdown",
   "metadata": {},
   "source": []
  },
  {
   "cell_type": "markdown",
   "metadata": {},
   "source": [
    "*Exercise 7*: Write a new calculator that creates a new letter grade based on a weighted average of letter grades, by assigning the following numerical values to letter grades:"
   ]
  },
  {
   "cell_type": "code",
   "execution_count": 12,
   "metadata": {
    "collapsed": true
   },
   "outputs": [],
   "source": [
    "GradeMap={\"A+\":12,\n",
    "          \"A\":11,\n",
    "          \"A-\":10,\n",
    "          \"B+\":9,\n",
    "          \"B\":8,\n",
    "          \"B-\":7,\n",
    "          \"C+\":6,\n",
    "          \"C\":5,\n",
    "          \"C-\":4,\n",
    "          \"D+\":3,\n",
    "          \"D\":2,\n",
    "          \"D-\":1,\n",
    "          \"F\":0}\n",
    "Weights={'Labs':10,\n",
    "            'Homework':30,\n",
    "            'Quiz':10,\n",
    "            'Exam':30}"
   ]
  },
  {
   "cell_type": "code",
   "execution_count": null,
   "metadata": {},
   "outputs": [],
   "source": [
    "class Weighted_Calculator():\n",
    "    def __init__(self,prefix,weights):\n",
    "        self.__prefix=prefix\n",
    "        self.weights=weights\n",
    "    def Calc_weight(self,LabsQuizExamMean=0):\n",
    "        for i in range(LabsQuizExamMean):\n",
    "            LabsQuizExamMean[i]=LabsQuizExamMean[i]/100.0\n",
    "            \n",
    "        "
   ]
  },
  {
   "cell_type": "code",
   "execution_count": 28,
   "metadata": {},
   "outputs": [
    {
     "name": "stdout",
     "output_type": "stream",
     "text": [
      "[10.0, 51.09375, 73.3125, 34.125]\n",
      "[6.40625]\n",
      "[1.0, 0.7299107142857143, 0.5236607142857143, 0.31022727272727274]\n"
     ]
    }
   ],
   "source": []
  },
  {
   "cell_type": "markdown",
   "metadata": {},
   "source": [
    "Test you calculator by applying the weights from the sy"
   ]
  }
 ],
 "metadata": {
  "kernelspec": {
   "display_name": "Python 2",
   "language": "python",
   "name": "python2"
  },
  "language_info": {
   "codemirror_mode": {
    "name": "ipython",
    "version": 2
   },
   "file_extension": ".py",
   "mimetype": "text/x-python",
   "name": "python",
   "nbconvert_exporter": "python",
   "pygments_lexer": "ipython2",
   "version": "2.7.15"
  }
 },
 "nbformat": 4,
 "nbformat_minor": 2
}
