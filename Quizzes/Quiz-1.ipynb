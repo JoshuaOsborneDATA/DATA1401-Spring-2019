{
 "cells": [
  {
   "cell_type": "code",
   "execution_count": 11,
   "metadata": {
    "collapsed": true
   },
   "outputs": [],
   "source": [
    "import math\n",
    "import random"
   ]
  },
  {
   "cell_type": "code",
   "execution_count": 37,
   "metadata": {},
   "outputs": [],
   "source": [
    "def generate_normal(N=1000):\n",
    "    out=[]\n",
    "    out2=[]\n",
    "    for i in range (0,N/2):\n",
    "        U1=random.random()\n",
    "        U2=random.random()\n",
    "        x1=math.log(U1)\n",
    "        y1=math.pi*U2\n",
    "        x2=math.log(U2)\n",
    "        z0=(math.sqrt(-2*x1))*math.cos((2*y1))\n",
    "        z1=(math.sqrt(-2*x1))*math.sin((2*y1))\n",
    "        out.append(z0)\n",
    "        out2.append(z1)\n",
    "    \n",
    "    return out,out2"
   ]
  },
  {
   "cell_type": "code",
   "execution_count": 38,
   "metadata": {
    "collapsed": true
   },
   "outputs": [],
   "source": [
    "def mean(x):\n",
    "    return sum(x)/float(len(x))\n",
    "def variance(x):\n",
    "    return sum(map(lambda y:y**2,x))/float(len(x))-mean(x)**2\n"
   ]
  },
  {
   "cell_type": "code",
   "execution_count": 39,
   "metadata": {},
   "outputs": [
    {
     "name": "stdout",
     "output_type": "stream",
     "text": [
      "0.991094422555\n",
      "0.920745540811\n"
     ]
    }
   ],
   "source": [
    "x,y=generate_normal()\n",
    "meanx=mean(x)\n",
    "meany=mean(y)\n",
    "z1=variance(x)\n",
    "z2=variance(y)\n",
    "print z1\n",
    "print z2"
   ]
  },
  {
   "cell_type": "code",
   "execution_count": null,
   "metadata": {
    "collapsed": true
   },
   "outputs": [],
   "source": []
  }
 ],
 "metadata": {
  "kernelspec": {
   "display_name": "Python 2",
   "language": "python",
   "name": "python2"
  },
  "language_info": {
   "codemirror_mode": {
    "name": "ipython",
    "version": 2
   },
   "file_extension": ".py",
   "mimetype": "text/x-python",
   "name": "python",
   "nbconvert_exporter": "python",
   "pygments_lexer": "ipython2",
   "version": "2.7.13"
  }
 },
 "nbformat": 4,
 "nbformat_minor": 2
}
