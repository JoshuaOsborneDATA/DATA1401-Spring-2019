{
 "cells": [
  {
   "cell_type": "code",
   "execution_count": 20,
   "metadata": {},
   "outputs": [],
   "source": [
    "from gradebook import *\n",
    "def mean(x):\n",
    "    return sum(x)/float(len(x))\n",
    "def standard_dev(x):\n",
    "    variance=sum(map(lambda y:y**2, x))/float(len(x))-mean(x)**2\n",
    "    return variance**(0.5)\n",
    "\n",
    "class curved_letter_grader(grade_calculator):\n",
    "    \n",
    "    def __init__(self,mean,standard_dev):\n",
    "         \n",
    "        self.mean=mean\n",
    "        self.standard_dev=standard_dev\n",
    "        self.Grade_letters=[ (self.mean+ self.standard_dev,\"A\"),\n",
    "                          (self.mean,\"B\"),\n",
    "                          (self.mean- self.standard_dev,\"C\"),\n",
    "                          (self.mean- (self.standard_dev*2),\"D\"),\n",
    "                          (self.mean- (self.standard_dev*3),\"F\")]       \n",
    "    \n",
    "       \n",
    "    \n",
    "    def Print_Letter_Grade(self,grade): \n",
    "        for i in range(0,len(self.Grade_letters)):\n",
    "            if grade>=self.Grade_letters[i][0]:\n",
    "                return   self.Grade_letters[i][1]"
   ]
  },
  {
   "cell_type": "code",
   "execution_count": 21,
   "metadata": {},
   "outputs": [
    {
     "name": "stdout",
     "output_type": "stream",
     "text": [
      "the mean is,  73.5  and the standard deviation is,  24.4877520406\n",
      "A:  97.9877520406 \n",
      " B:  73.5 \n",
      " C:  49.0122479594 \n",
      " D:  24.5244959189 \n",
      " F:  0.036743878317\n",
      "20.0  is a  F\n",
      "92.0  is a  B\n",
      "82.0  is a  B\n",
      "98.0  is a  A\n",
      "70.0  is a  C\n",
      "95.0  is a  B\n",
      "85.0  is a  B\n",
      "88.0  is a  B\n",
      "67.0  is a  C\n",
      "38.0  is a  D\n"
     ]
    }
   ],
   "source": [
    "grades=[20.0,92.0,82.0,98.0,70.0,95.0,85.0, 88.0,67.0,38.0]\n",
    "m=mean(grades)\n",
    "s=standard_dev(grades)\n",
    "print \"the mean is, \", m, \" and the standard deviation is, \", s\n",
    "print \"A: \", m+s, \"\\n B: \", m, \"\\n C: \", m-s, \"\\n D: \", m-(2*s),\"\\n F: \",m-(3*s)\n",
    "d=curved_letter_grader(m,s)\n",
    "for j in range(0,len(grades)):\n",
    "    grade=d.Print_Letter_Grade(grades[j])\n",
    "    print grades[j], \" is a \", grade"
   ]
  },
  {
   "cell_type": "code",
   "execution_count": null,
   "metadata": {},
   "outputs": [],
   "source": []
  }
 ],
 "metadata": {
  "kernelspec": {
   "display_name": "Python 2",
   "language": "python",
   "name": "python2"
  },
  "language_info": {
   "codemirror_mode": {
    "name": "ipython",
    "version": 2
   },
   "file_extension": ".py",
   "mimetype": "text/x-python",
   "name": "python",
   "nbconvert_exporter": "python",
   "pygments_lexer": "ipython2",
   "version": "2.7.15"
  }
 },
 "nbformat": 4,
 "nbformat_minor": 2
}
